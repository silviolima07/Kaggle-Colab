{
  "nbformat": 4,
  "nbformat_minor": 0,
  "metadata": {
    "colab": {
      "name": "Classificando_o_comparecimento_em_consultas_médicas_agendadas",
      "provenance": [],
      "collapsed_sections": [],
      "mount_file_id": "1lCm2eP-SPItBoHWkG3bVtxClS9s5Hv0g",
      "authorship_tag": "ABX9TyNsB0VzsbHKc7PpIh0dphrf",
      "include_colab_link": true
    },
    "kernelspec": {
      "name": "python3",
      "display_name": "Python 3"
    }
  },
  "cells": [
    {
      "cell_type": "markdown",
      "metadata": {
        "id": "view-in-github",
        "colab_type": "text"
      },
      "source": [
        "<a href=\"https://colab.research.google.com/github/silviolima07/Kaggle-Colab/blob/main/Classificando_o_comparecimento_em_consultas_m%C3%A9dicas_agendadas.ipynb\" target=\"_parent\"><img src=\"https://colab.research.google.com/assets/colab-badge.svg\" alt=\"Open In Colab\"/></a>"
      ]
    },
    {
      "cell_type": "markdown",
      "metadata": {
        "id": "8gr-Sh1hwAld"
      },
      "source": [
        "# Classificação de Consultas médicas no Serviço Público\n",
        "### Por que as pessoas não comparecem as consultadas agendadas ?\n",
        "#### Estas variáveis explicam com 90% de AUC score essa situação: \n",
        "#### Gender, Age, Scholarship, Hipertension, Handcap, SMS_received, WaitingTime, Day, Diabete\n",
        "- kaggle: https://www.kaggle.com/joniarroba/noshowappointments\n",
        "\n"
      ]
    },
    {
      "cell_type": "markdown",
      "metadata": {
        "id": "zKQ7IjoHT_uG"
      },
      "source": [
        "![alt text](https://drive.google.com/uc?id=1Pai_V2a3j1p46uKncPWcHtHjZNyxf4hf)"
      ]
    },
    {
      "cell_type": "code",
      "metadata": {
        "id": "shEZiT6DueQu"
      },
      "source": [
        "# Carregando os pacotes\n",
        "import pandas as pd\n",
        "import numpy as np\n",
        "import seaborn as sns\n",
        "sns.set(color_codes=True)\n",
        "import matplotlib.pyplot as plt\n",
        "\n",
        "from sklearn.model_selection import train_test_split\n",
        "from sklearn.ensemble import RandomForestClassifier\n",
        "from sklearn.ensemble import ExtraTreesClassifier\n",
        "from sklearn.model_selection import cross_val_score\n",
        "from sklearn.ensemble import GradientBoostingClassifier\n",
        "from sklearn.metrics import matthews_corrcoef\n",
        "\n",
        "\n",
        "from scipy import stats\n",
        "from sklearn.preprocessing import StandardScaler\n",
        "import imblearn\n",
        "\n",
        "from imblearn.over_sampling import SMOTE\n",
        "\n",
        "from sklearn import preprocessing, metrics\n",
        "\n",
        "import warnings\n",
        "warnings.filterwarnings('ignore')\n",
        "\n",
        "import os\n",
        "\n",
        "# Evitar que aparece os warnings\n",
        "import warnings\n",
        "warnings.filterwarnings(\"ignore\")\n",
        "\n",
        "# Seta algumas opções no Jupyter para exibição dos datasets\n",
        "pd.set_option('display.max_columns', 200)\n",
        "pd.set_option('display.max_rows', 200)"
      ],
      "execution_count": null,
      "outputs": []
    },
    {
      "cell_type": "code",
      "metadata": {
        "id": "QNN1BYS-xRjx"
      },
      "source": [
        "# Funcao para reducao da memoria utilizada\n",
        "def reduce_mem_usage(df, verbose=True):\n",
        "    numerics = ['int16', 'int32', 'int64', 'float16', 'float32', 'float64']\n",
        "    start_mem = df.memory_usage().sum() / 1024**2    \n",
        "    for col in df.columns:\n",
        "        col_type = df[col].dtypes\n",
        "        if col_type in numerics:\n",
        "            c_min = df[col].min()\n",
        "            c_max = df[col].max()\n",
        "            if str(col_type)[:3] == 'int':\n",
        "                if c_min > np.iinfo(np.int8).min and c_max < np.iinfo(np.int8).max:\n",
        "                    df[col] = df[col].astype(np.int8)\n",
        "                elif c_min > np.iinfo(np.int16).min and c_max < np.iinfo(np.int16).max:\n",
        "                    df[col] = df[col].astype(np.int16)\n",
        "                elif c_min > np.iinfo(np.int32).min and c_max < np.iinfo(np.int32).max:\n",
        "                    df[col] = df[col].astype(np.int32)\n",
        "                elif c_min > np.iinfo(np.int64).min and c_max < np.iinfo(np.int64).max:\n",
        "                    df[col] = df[col].astype(np.int64)  \n",
        "            else:\n",
        "                if c_min > np.finfo(np.float16).min and c_max < np.finfo(np.float16).max:\n",
        "                    df[col] = df[col].astype(np.float16)\n",
        "                elif c_min > np.finfo(np.float32).min and c_max < np.finfo(np.float32).max:\n",
        "                    df[col] = df[col].astype(np.float32)\n",
        "                else:\n",
        "                    df[col] = df[col].astype(np.float64)    \n",
        "    end_mem = df.memory_usage().sum() / 1024**2\n",
        "    if verbose: print('Mem. usage decreased to {:5.2f} Mb ({:.1f}% reduction)'.format(end_mem, 100 * (start_mem - end_mem) / start_mem))\n",
        "    return df"
      ],
      "execution_count": null,
      "outputs": []
    },
    {
      "cell_type": "code",
      "metadata": {
        "id": "wW_aUhMtxfzw"
      },
      "source": [
        "# Funcao para realizar a leitura dos arquivos\n",
        "def read_data():\n",
        "     \n",
        "        print('Carregando os arquivos...')\n",
        "        data = pd.read_csv('/content/drive/My Drive/Colab Notebooks/Dataset/KaggleV2-May-2016.csv', encoding='latin')\n",
        "        data = reduce_mem_usage(data)\n",
        "        print('KaggleV2-May-2016.csv tem {} linhas e {} colunas'.format(data.shape[0], data.shape[1]))\n",
        "    \n",
        "        return data"
      ],
      "execution_count": null,
      "outputs": []
    },
    {
      "cell_type": "code",
      "metadata": {
        "id": "GjJa2EY-ye_E",
        "colab": {
          "base_uri": "https://localhost:8080/",
          "height": 72
        },
        "outputId": "8121aee6-0a90-4cc9-f40e-de07c1dbf1a1"
      },
      "source": [
        "# Leitura dos dados\n",
        "df = read_data()"
      ],
      "execution_count": null,
      "outputs": [
        {
          "output_type": "stream",
          "text": [
            "Carregando os arquivos...\n",
            "Mem. usage decreased to  5.80 Mb (50.9% reduction)\n",
            "KaggleV2-May-2016.csv tem 110527 linhas e 14 colunas\n"
          ],
          "name": "stdout"
        }
      ]
    },
    {
      "cell_type": "code",
      "metadata": {
        "id": "rKHg7IC_90CC",
        "colab": {
          "base_uri": "https://localhost:8080/",
          "height": 322
        },
        "outputId": "078db980-af9e-4e19-9a1d-d7b56ab274ff"
      },
      "source": [
        "df.head()"
      ],
      "execution_count": null,
      "outputs": [
        {
          "output_type": "execute_result",
          "data": {
            "text/html": [
              "<div>\n",
              "<style scoped>\n",
              "    .dataframe tbody tr th:only-of-type {\n",
              "        vertical-align: middle;\n",
              "    }\n",
              "\n",
              "    .dataframe tbody tr th {\n",
              "        vertical-align: top;\n",
              "    }\n",
              "\n",
              "    .dataframe thead th {\n",
              "        text-align: right;\n",
              "    }\n",
              "</style>\n",
              "<table border=\"1\" class=\"dataframe\">\n",
              "  <thead>\n",
              "    <tr style=\"text-align: right;\">\n",
              "      <th></th>\n",
              "      <th>PatientId</th>\n",
              "      <th>AppointmentID</th>\n",
              "      <th>Gender</th>\n",
              "      <th>ScheduledDay</th>\n",
              "      <th>AppointmentDay</th>\n",
              "      <th>Age</th>\n",
              "      <th>Neighbourhood</th>\n",
              "      <th>Scholarship</th>\n",
              "      <th>Hipertension</th>\n",
              "      <th>Diabetes</th>\n",
              "      <th>Alcoholism</th>\n",
              "      <th>Handcap</th>\n",
              "      <th>SMS_received</th>\n",
              "      <th>No-show</th>\n",
              "    </tr>\n",
              "  </thead>\n",
              "  <tbody>\n",
              "    <tr>\n",
              "      <th>0</th>\n",
              "      <td>2.987250e+13</td>\n",
              "      <td>5642903</td>\n",
              "      <td>F</td>\n",
              "      <td>2016-04-29T18:38:08Z</td>\n",
              "      <td>2016-04-29T00:00:00Z</td>\n",
              "      <td>62</td>\n",
              "      <td>JARDIM DA PENHA</td>\n",
              "      <td>0</td>\n",
              "      <td>1</td>\n",
              "      <td>0</td>\n",
              "      <td>0</td>\n",
              "      <td>0</td>\n",
              "      <td>0</td>\n",
              "      <td>No</td>\n",
              "    </tr>\n",
              "    <tr>\n",
              "      <th>1</th>\n",
              "      <td>5.589978e+14</td>\n",
              "      <td>5642503</td>\n",
              "      <td>M</td>\n",
              "      <td>2016-04-29T16:08:27Z</td>\n",
              "      <td>2016-04-29T00:00:00Z</td>\n",
              "      <td>56</td>\n",
              "      <td>JARDIM DA PENHA</td>\n",
              "      <td>0</td>\n",
              "      <td>0</td>\n",
              "      <td>0</td>\n",
              "      <td>0</td>\n",
              "      <td>0</td>\n",
              "      <td>0</td>\n",
              "      <td>No</td>\n",
              "    </tr>\n",
              "    <tr>\n",
              "      <th>2</th>\n",
              "      <td>4.262962e+12</td>\n",
              "      <td>5642549</td>\n",
              "      <td>F</td>\n",
              "      <td>2016-04-29T16:19:04Z</td>\n",
              "      <td>2016-04-29T00:00:00Z</td>\n",
              "      <td>62</td>\n",
              "      <td>MATA DA PRAIA</td>\n",
              "      <td>0</td>\n",
              "      <td>0</td>\n",
              "      <td>0</td>\n",
              "      <td>0</td>\n",
              "      <td>0</td>\n",
              "      <td>0</td>\n",
              "      <td>No</td>\n",
              "    </tr>\n",
              "    <tr>\n",
              "      <th>3</th>\n",
              "      <td>8.679512e+11</td>\n",
              "      <td>5642828</td>\n",
              "      <td>F</td>\n",
              "      <td>2016-04-29T17:29:31Z</td>\n",
              "      <td>2016-04-29T00:00:00Z</td>\n",
              "      <td>8</td>\n",
              "      <td>PONTAL DE CAMBURI</td>\n",
              "      <td>0</td>\n",
              "      <td>0</td>\n",
              "      <td>0</td>\n",
              "      <td>0</td>\n",
              "      <td>0</td>\n",
              "      <td>0</td>\n",
              "      <td>No</td>\n",
              "    </tr>\n",
              "    <tr>\n",
              "      <th>4</th>\n",
              "      <td>8.841186e+12</td>\n",
              "      <td>5642494</td>\n",
              "      <td>F</td>\n",
              "      <td>2016-04-29T16:07:23Z</td>\n",
              "      <td>2016-04-29T00:00:00Z</td>\n",
              "      <td>56</td>\n",
              "      <td>JARDIM DA PENHA</td>\n",
              "      <td>0</td>\n",
              "      <td>1</td>\n",
              "      <td>1</td>\n",
              "      <td>0</td>\n",
              "      <td>0</td>\n",
              "      <td>0</td>\n",
              "      <td>No</td>\n",
              "    </tr>\n",
              "  </tbody>\n",
              "</table>\n",
              "</div>"
            ],
            "text/plain": [
              "      PatientId  AppointmentID Gender          ScheduledDay  \\\n",
              "0  2.987250e+13        5642903      F  2016-04-29T18:38:08Z   \n",
              "1  5.589978e+14        5642503      M  2016-04-29T16:08:27Z   \n",
              "2  4.262962e+12        5642549      F  2016-04-29T16:19:04Z   \n",
              "3  8.679512e+11        5642828      F  2016-04-29T17:29:31Z   \n",
              "4  8.841186e+12        5642494      F  2016-04-29T16:07:23Z   \n",
              "\n",
              "         AppointmentDay  Age      Neighbourhood  Scholarship  Hipertension  \\\n",
              "0  2016-04-29T00:00:00Z   62    JARDIM DA PENHA            0             1   \n",
              "1  2016-04-29T00:00:00Z   56    JARDIM DA PENHA            0             0   \n",
              "2  2016-04-29T00:00:00Z   62      MATA DA PRAIA            0             0   \n",
              "3  2016-04-29T00:00:00Z    8  PONTAL DE CAMBURI            0             0   \n",
              "4  2016-04-29T00:00:00Z   56    JARDIM DA PENHA            0             1   \n",
              "\n",
              "   Diabetes  Alcoholism  Handcap  SMS_received No-show  \n",
              "0         0           0        0             0      No  \n",
              "1         0           0        0             0      No  \n",
              "2         0           0        0             0      No  \n",
              "3         0           0        0             0      No  \n",
              "4         1           0        0             0      No  "
            ]
          },
          "metadata": {
            "tags": []
          },
          "execution_count": 189
        }
      ]
    },
    {
      "cell_type": "code",
      "metadata": {
        "id": "EZWNBvFi0Hph",
        "colab": {
          "base_uri": "https://localhost:8080/",
          "height": 90
        },
        "outputId": "9fbbfdfa-6b9c-4af3-af83-a668a677e377"
      },
      "source": [
        "df.columns"
      ],
      "execution_count": null,
      "outputs": [
        {
          "output_type": "execute_result",
          "data": {
            "text/plain": [
              "Index(['PatientId', 'AppointmentID', 'Gender', 'ScheduledDay',\n",
              "       'AppointmentDay', 'Age', 'Neighbourhood', 'Scholarship', 'Hipertension',\n",
              "       'Diabetes', 'Alcoholism', 'Handcap', 'SMS_received', 'No-show'],\n",
              "      dtype='object')"
            ]
          },
          "metadata": {
            "tags": []
          },
          "execution_count": 190
        }
      ]
    },
    {
      "cell_type": "code",
      "metadata": {
        "id": "soV7Vy1oX7cP",
        "colab": {
          "base_uri": "https://localhost:8080/",
          "height": 288
        },
        "outputId": "332b6d51-3838-4b67-98d3-0965916a8d17"
      },
      "source": [
        "df.describe()"
      ],
      "execution_count": null,
      "outputs": [
        {
          "output_type": "execute_result",
          "data": {
            "text/html": [
              "<div>\n",
              "<style scoped>\n",
              "    .dataframe tbody tr th:only-of-type {\n",
              "        vertical-align: middle;\n",
              "    }\n",
              "\n",
              "    .dataframe tbody tr th {\n",
              "        vertical-align: top;\n",
              "    }\n",
              "\n",
              "    .dataframe thead th {\n",
              "        text-align: right;\n",
              "    }\n",
              "</style>\n",
              "<table border=\"1\" class=\"dataframe\">\n",
              "  <thead>\n",
              "    <tr style=\"text-align: right;\">\n",
              "      <th></th>\n",
              "      <th>PatientId</th>\n",
              "      <th>AppointmentID</th>\n",
              "      <th>Age</th>\n",
              "      <th>Scholarship</th>\n",
              "      <th>Hipertension</th>\n",
              "      <th>Diabetes</th>\n",
              "      <th>Alcoholism</th>\n",
              "      <th>Handcap</th>\n",
              "      <th>SMS_received</th>\n",
              "    </tr>\n",
              "  </thead>\n",
              "  <tbody>\n",
              "    <tr>\n",
              "      <th>count</th>\n",
              "      <td>1.105270e+05</td>\n",
              "      <td>1.105270e+05</td>\n",
              "      <td>110527.000000</td>\n",
              "      <td>110527.000000</td>\n",
              "      <td>110527.000000</td>\n",
              "      <td>110527.000000</td>\n",
              "      <td>110527.000000</td>\n",
              "      <td>110527.000000</td>\n",
              "      <td>110527.000000</td>\n",
              "    </tr>\n",
              "    <tr>\n",
              "      <th>mean</th>\n",
              "      <td>1.474953e+14</td>\n",
              "      <td>5.675305e+06</td>\n",
              "      <td>37.088874</td>\n",
              "      <td>0.098266</td>\n",
              "      <td>0.197246</td>\n",
              "      <td>0.071865</td>\n",
              "      <td>0.030400</td>\n",
              "      <td>0.022248</td>\n",
              "      <td>0.321026</td>\n",
              "    </tr>\n",
              "    <tr>\n",
              "      <th>std</th>\n",
              "      <td>2.560998e+14</td>\n",
              "      <td>7.129575e+04</td>\n",
              "      <td>23.110205</td>\n",
              "      <td>0.297675</td>\n",
              "      <td>0.397921</td>\n",
              "      <td>0.258265</td>\n",
              "      <td>0.171686</td>\n",
              "      <td>0.161543</td>\n",
              "      <td>0.466873</td>\n",
              "    </tr>\n",
              "    <tr>\n",
              "      <th>min</th>\n",
              "      <td>3.921784e+04</td>\n",
              "      <td>5.030230e+06</td>\n",
              "      <td>-1.000000</td>\n",
              "      <td>0.000000</td>\n",
              "      <td>0.000000</td>\n",
              "      <td>0.000000</td>\n",
              "      <td>0.000000</td>\n",
              "      <td>0.000000</td>\n",
              "      <td>0.000000</td>\n",
              "    </tr>\n",
              "    <tr>\n",
              "      <th>25%</th>\n",
              "      <td>4.172614e+12</td>\n",
              "      <td>5.640286e+06</td>\n",
              "      <td>18.000000</td>\n",
              "      <td>0.000000</td>\n",
              "      <td>0.000000</td>\n",
              "      <td>0.000000</td>\n",
              "      <td>0.000000</td>\n",
              "      <td>0.000000</td>\n",
              "      <td>0.000000</td>\n",
              "    </tr>\n",
              "    <tr>\n",
              "      <th>50%</th>\n",
              "      <td>3.173184e+13</td>\n",
              "      <td>5.680573e+06</td>\n",
              "      <td>37.000000</td>\n",
              "      <td>0.000000</td>\n",
              "      <td>0.000000</td>\n",
              "      <td>0.000000</td>\n",
              "      <td>0.000000</td>\n",
              "      <td>0.000000</td>\n",
              "      <td>0.000000</td>\n",
              "    </tr>\n",
              "    <tr>\n",
              "      <th>75%</th>\n",
              "      <td>9.439172e+13</td>\n",
              "      <td>5.725524e+06</td>\n",
              "      <td>55.000000</td>\n",
              "      <td>0.000000</td>\n",
              "      <td>0.000000</td>\n",
              "      <td>0.000000</td>\n",
              "      <td>0.000000</td>\n",
              "      <td>0.000000</td>\n",
              "      <td>1.000000</td>\n",
              "    </tr>\n",
              "    <tr>\n",
              "      <th>max</th>\n",
              "      <td>9.999816e+14</td>\n",
              "      <td>5.790484e+06</td>\n",
              "      <td>115.000000</td>\n",
              "      <td>1.000000</td>\n",
              "      <td>1.000000</td>\n",
              "      <td>1.000000</td>\n",
              "      <td>1.000000</td>\n",
              "      <td>4.000000</td>\n",
              "      <td>1.000000</td>\n",
              "    </tr>\n",
              "  </tbody>\n",
              "</table>\n",
              "</div>"
            ],
            "text/plain": [
              "          PatientId  AppointmentID            Age    Scholarship  \\\n",
              "count  1.105270e+05   1.105270e+05  110527.000000  110527.000000   \n",
              "mean   1.474953e+14   5.675305e+06      37.088874       0.098266   \n",
              "std    2.560998e+14   7.129575e+04      23.110205       0.297675   \n",
              "min    3.921784e+04   5.030230e+06      -1.000000       0.000000   \n",
              "25%    4.172614e+12   5.640286e+06      18.000000       0.000000   \n",
              "50%    3.173184e+13   5.680573e+06      37.000000       0.000000   \n",
              "75%    9.439172e+13   5.725524e+06      55.000000       0.000000   \n",
              "max    9.999816e+14   5.790484e+06     115.000000       1.000000   \n",
              "\n",
              "        Hipertension       Diabetes     Alcoholism        Handcap  \\\n",
              "count  110527.000000  110527.000000  110527.000000  110527.000000   \n",
              "mean        0.197246       0.071865       0.030400       0.022248   \n",
              "std         0.397921       0.258265       0.171686       0.161543   \n",
              "min         0.000000       0.000000       0.000000       0.000000   \n",
              "25%         0.000000       0.000000       0.000000       0.000000   \n",
              "50%         0.000000       0.000000       0.000000       0.000000   \n",
              "75%         0.000000       0.000000       0.000000       0.000000   \n",
              "max         1.000000       1.000000       1.000000       4.000000   \n",
              "\n",
              "        SMS_received  \n",
              "count  110527.000000  \n",
              "mean        0.321026  \n",
              "std         0.466873  \n",
              "min         0.000000  \n",
              "25%         0.000000  \n",
              "50%         0.000000  \n",
              "75%         1.000000  \n",
              "max         1.000000  "
            ]
          },
          "metadata": {
            "tags": []
          },
          "execution_count": 191
        }
      ]
    },
    {
      "cell_type": "code",
      "metadata": {
        "id": "HZTtq_Zh8QHL",
        "colab": {
          "base_uri": "https://localhost:8080/",
          "height": 290
        },
        "outputId": "487f96a1-3e65-4d3d-ba3e-df979535b2e5"
      },
      "source": [
        "# Identificando o tipo das colunas\n",
        "df.dtypes"
      ],
      "execution_count": null,
      "outputs": [
        {
          "output_type": "execute_result",
          "data": {
            "text/plain": [
              "PatientId         float32\n",
              "AppointmentID       int32\n",
              "Gender             object\n",
              "ScheduledDay       object\n",
              "AppointmentDay     object\n",
              "Age                  int8\n",
              "Neighbourhood      object\n",
              "Scholarship          int8\n",
              "Hipertension         int8\n",
              "Diabetes             int8\n",
              "Alcoholism           int8\n",
              "Handcap              int8\n",
              "SMS_received         int8\n",
              "No-show            object\n",
              "dtype: object"
            ]
          },
          "metadata": {
            "tags": []
          },
          "execution_count": 192
        }
      ]
    },
    {
      "cell_type": "code",
      "metadata": {
        "id": "CHA9hB4w8i6D"
      },
      "source": [
        "# Colunas ScheduledDay e AppointmentDay deve ser convertidas no tipo data\n",
        "df.AppointmentDay = df.AppointmentDay.apply(np.datetime64)\n",
        "df.ScheduledDay = df.ScheduledDay.apply(np.datetime64)"
      ],
      "execution_count": null,
      "outputs": []
    },
    {
      "cell_type": "code",
      "metadata": {
        "id": "3cB2WLmz64Ce"
      },
      "source": [
        "# Nova coluna, o tempo de espera até a consulta\n",
        "# Criada a partir da diferença de tempo entre a marcação da consulta e a data de realização\n",
        "df['WaitingTime'] = pd.to_timedelta((df['AppointmentDay'] - df['ScheduledDay'])).dt.days\n",
        "df['WaitingTime'] = df['WaitingTime'].apply(np.int64)"
      ],
      "execution_count": null,
      "outputs": []
    },
    {
      "cell_type": "code",
      "metadata": {
        "id": "yr_gC09P-sKp"
      },
      "source": [
        "# O mês em que a consulta será realizada pode influenciar, pois há meses onde a pessoa tem mais compromissos: férias escolares, festas de fim de ano, clima frio ou chuvoso e outros motivos.\n",
        "# Extrair o mês para o qual a consulta foi marcada\n",
        "# O dia do mês também pode influenciar de acordo com o dia de pagamento da pessoa ( aposentadoria / pensão)\n",
        "# Serão usados Day e Month\n",
        "# Reset index\n",
        "df.reset_index(inplace=True)\n",
        "\n",
        "# Colunas Day, Month e Year\n",
        "df['Day'] = df['AppointmentDay'].dt.day\n",
        "df['Month'] = df['AppointmentDay'].dt.month\n",
        "#df['Year'] = df['AppointmentDay'].dt.year"
      ],
      "execution_count": null,
      "outputs": []
    },
    {
      "cell_type": "code",
      "metadata": {
        "id": "ZIWDlLJ79gFO",
        "colab": {
          "base_uri": "https://localhost:8080/",
          "height": 322
        },
        "outputId": "f44ce98d-e7e7-4a1f-f7b0-a1ae6a1028d2"
      },
      "source": [
        "df.head()"
      ],
      "execution_count": null,
      "outputs": [
        {
          "output_type": "execute_result",
          "data": {
            "text/html": [
              "<div>\n",
              "<style scoped>\n",
              "    .dataframe tbody tr th:only-of-type {\n",
              "        vertical-align: middle;\n",
              "    }\n",
              "\n",
              "    .dataframe tbody tr th {\n",
              "        vertical-align: top;\n",
              "    }\n",
              "\n",
              "    .dataframe thead th {\n",
              "        text-align: right;\n",
              "    }\n",
              "</style>\n",
              "<table border=\"1\" class=\"dataframe\">\n",
              "  <thead>\n",
              "    <tr style=\"text-align: right;\">\n",
              "      <th></th>\n",
              "      <th>index</th>\n",
              "      <th>PatientId</th>\n",
              "      <th>AppointmentID</th>\n",
              "      <th>Gender</th>\n",
              "      <th>ScheduledDay</th>\n",
              "      <th>AppointmentDay</th>\n",
              "      <th>Age</th>\n",
              "      <th>Neighbourhood</th>\n",
              "      <th>Scholarship</th>\n",
              "      <th>Hipertension</th>\n",
              "      <th>Diabetes</th>\n",
              "      <th>Alcoholism</th>\n",
              "      <th>Handcap</th>\n",
              "      <th>SMS_received</th>\n",
              "      <th>No-show</th>\n",
              "      <th>WaitingTime</th>\n",
              "      <th>Day</th>\n",
              "      <th>Month</th>\n",
              "    </tr>\n",
              "  </thead>\n",
              "  <tbody>\n",
              "    <tr>\n",
              "      <th>0</th>\n",
              "      <td>0</td>\n",
              "      <td>2.987250e+13</td>\n",
              "      <td>5642903</td>\n",
              "      <td>F</td>\n",
              "      <td>2016-04-29 18:38:08</td>\n",
              "      <td>2016-04-29</td>\n",
              "      <td>62</td>\n",
              "      <td>JARDIM DA PENHA</td>\n",
              "      <td>0</td>\n",
              "      <td>1</td>\n",
              "      <td>0</td>\n",
              "      <td>0</td>\n",
              "      <td>0</td>\n",
              "      <td>0</td>\n",
              "      <td>No</td>\n",
              "      <td>-1</td>\n",
              "      <td>29</td>\n",
              "      <td>4</td>\n",
              "    </tr>\n",
              "    <tr>\n",
              "      <th>1</th>\n",
              "      <td>1</td>\n",
              "      <td>5.589978e+14</td>\n",
              "      <td>5642503</td>\n",
              "      <td>M</td>\n",
              "      <td>2016-04-29 16:08:27</td>\n",
              "      <td>2016-04-29</td>\n",
              "      <td>56</td>\n",
              "      <td>JARDIM DA PENHA</td>\n",
              "      <td>0</td>\n",
              "      <td>0</td>\n",
              "      <td>0</td>\n",
              "      <td>0</td>\n",
              "      <td>0</td>\n",
              "      <td>0</td>\n",
              "      <td>No</td>\n",
              "      <td>-1</td>\n",
              "      <td>29</td>\n",
              "      <td>4</td>\n",
              "    </tr>\n",
              "    <tr>\n",
              "      <th>2</th>\n",
              "      <td>2</td>\n",
              "      <td>4.262962e+12</td>\n",
              "      <td>5642549</td>\n",
              "      <td>F</td>\n",
              "      <td>2016-04-29 16:19:04</td>\n",
              "      <td>2016-04-29</td>\n",
              "      <td>62</td>\n",
              "      <td>MATA DA PRAIA</td>\n",
              "      <td>0</td>\n",
              "      <td>0</td>\n",
              "      <td>0</td>\n",
              "      <td>0</td>\n",
              "      <td>0</td>\n",
              "      <td>0</td>\n",
              "      <td>No</td>\n",
              "      <td>-1</td>\n",
              "      <td>29</td>\n",
              "      <td>4</td>\n",
              "    </tr>\n",
              "    <tr>\n",
              "      <th>3</th>\n",
              "      <td>3</td>\n",
              "      <td>8.679512e+11</td>\n",
              "      <td>5642828</td>\n",
              "      <td>F</td>\n",
              "      <td>2016-04-29 17:29:31</td>\n",
              "      <td>2016-04-29</td>\n",
              "      <td>8</td>\n",
              "      <td>PONTAL DE CAMBURI</td>\n",
              "      <td>0</td>\n",
              "      <td>0</td>\n",
              "      <td>0</td>\n",
              "      <td>0</td>\n",
              "      <td>0</td>\n",
              "      <td>0</td>\n",
              "      <td>No</td>\n",
              "      <td>-1</td>\n",
              "      <td>29</td>\n",
              "      <td>4</td>\n",
              "    </tr>\n",
              "    <tr>\n",
              "      <th>4</th>\n",
              "      <td>4</td>\n",
              "      <td>8.841186e+12</td>\n",
              "      <td>5642494</td>\n",
              "      <td>F</td>\n",
              "      <td>2016-04-29 16:07:23</td>\n",
              "      <td>2016-04-29</td>\n",
              "      <td>56</td>\n",
              "      <td>JARDIM DA PENHA</td>\n",
              "      <td>0</td>\n",
              "      <td>1</td>\n",
              "      <td>1</td>\n",
              "      <td>0</td>\n",
              "      <td>0</td>\n",
              "      <td>0</td>\n",
              "      <td>No</td>\n",
              "      <td>-1</td>\n",
              "      <td>29</td>\n",
              "      <td>4</td>\n",
              "    </tr>\n",
              "  </tbody>\n",
              "</table>\n",
              "</div>"
            ],
            "text/plain": [
              "   index     PatientId  AppointmentID Gender        ScheduledDay  \\\n",
              "0      0  2.987250e+13        5642903      F 2016-04-29 18:38:08   \n",
              "1      1  5.589978e+14        5642503      M 2016-04-29 16:08:27   \n",
              "2      2  4.262962e+12        5642549      F 2016-04-29 16:19:04   \n",
              "3      3  8.679512e+11        5642828      F 2016-04-29 17:29:31   \n",
              "4      4  8.841186e+12        5642494      F 2016-04-29 16:07:23   \n",
              "\n",
              "  AppointmentDay  Age      Neighbourhood  Scholarship  Hipertension  Diabetes  \\\n",
              "0     2016-04-29   62    JARDIM DA PENHA            0             1         0   \n",
              "1     2016-04-29   56    JARDIM DA PENHA            0             0         0   \n",
              "2     2016-04-29   62      MATA DA PRAIA            0             0         0   \n",
              "3     2016-04-29    8  PONTAL DE CAMBURI            0             0         0   \n",
              "4     2016-04-29   56    JARDIM DA PENHA            0             1         1   \n",
              "\n",
              "   Alcoholism  Handcap  SMS_received No-show  WaitingTime  Day  Month  \n",
              "0           0        0             0      No           -1   29      4  \n",
              "1           0        0             0      No           -1   29      4  \n",
              "2           0        0             0      No           -1   29      4  \n",
              "3           0        0             0      No           -1   29      4  \n",
              "4           0        0             0      No           -1   29      4  "
            ]
          },
          "metadata": {
            "tags": []
          },
          "execution_count": 196
        }
      ]
    },
    {
      "cell_type": "code",
      "metadata": {
        "id": "TfzGd_tnIQG8"
      },
      "source": [
        "# Remover colunas não utilizadas\n",
        "df.drop(columns=['index', 'ScheduledDay','AppointmentDay','PatientId','AppointmentID'],inplace=True)"
      ],
      "execution_count": null,
      "outputs": []
    },
    {
      "cell_type": "code",
      "metadata": {
        "id": "MfqK1j3xNsJb"
      },
      "source": [
        "# Todas colunas\n",
        "#all_columns = np.array(df.columns)"
      ],
      "execution_count": null,
      "outputs": []
    },
    {
      "cell_type": "code",
      "metadata": {
        "id": "Zl03oleJOa9N"
      },
      "source": [
        "#all_columns"
      ],
      "execution_count": null,
      "outputs": []
    },
    {
      "cell_type": "code",
      "metadata": {
        "id": "sUUohf01GN76"
      },
      "source": [
        "# Analisando cada coluna dentro do contexto dos dados, algumas colunas são identificadas como sendo tipo int8 e na verdade seria tipo categórico.\n",
        "# Separando em númerico e categórico\n",
        "num_vars =np.array(['Age', \"WaitingTime\", \"Day\", \"Month\"])\n",
        "cat_vars = np.array(['Gender', 'Neighbourhood', 'Scholarship', 'Hipertension', 'Diabetes', 'Alcoholism', \"Handcap\",'SMS_received', 'No-show'])"
      ],
      "execution_count": null,
      "outputs": []
    },
    {
      "cell_type": "code",
      "metadata": {
        "id": "8P7LIv9HRIOh",
        "colab": {
          "base_uri": "https://localhost:8080/",
          "height": 72
        },
        "outputId": "807d5a2c-2c69-4c13-d6ca-30650978ee87"
      },
      "source": [
        "cat_vars"
      ],
      "execution_count": null,
      "outputs": [
        {
          "output_type": "execute_result",
          "data": {
            "text/plain": [
              "array(['Gender', 'Neighbourhood', 'Scholarship', 'Hipertension',\n",
              "       'Diabetes', 'Alcoholism', 'Handcap', 'SMS_received', 'No-show'],\n",
              "      dtype='<U13')"
            ]
          },
          "metadata": {
            "tags": []
          },
          "execution_count": 201
        }
      ]
    },
    {
      "cell_type": "code",
      "metadata": {
        "id": "rIQNXi0BXfUk",
        "colab": {
          "base_uri": "https://localhost:8080/",
          "height": 272
        },
        "outputId": "d2358fae-9068-4775-9e9f-bc362c292966"
      },
      "source": [
        "# Converter para numérico e Categórico\n",
        "for var in num_vars:\n",
        "  df[var] = df[var].astype('int64')\n",
        "\n",
        "for var in cat_vars:\n",
        "  df[var] = df[var].astype('category')  \n",
        "df.dtypes  "
      ],
      "execution_count": null,
      "outputs": [
        {
          "output_type": "execute_result",
          "data": {
            "text/plain": [
              "Gender           category\n",
              "Age                 int64\n",
              "Neighbourhood    category\n",
              "Scholarship      category\n",
              "Hipertension     category\n",
              "Diabetes         category\n",
              "Alcoholism       category\n",
              "Handcap          category\n",
              "SMS_received     category\n",
              "No-show          category\n",
              "WaitingTime         int64\n",
              "Day                 int64\n",
              "Month               int64\n",
              "dtype: object"
            ]
          },
          "metadata": {
            "tags": []
          },
          "execution_count": 202
        }
      ]
    },
    {
      "cell_type": "code",
      "metadata": {
        "id": "ZBUO_wzOcpZ0",
        "colab": {
          "base_uri": "https://localhost:8080/",
          "height": 272
        },
        "outputId": "08ff3313-6f9c-46c4-bdbd-a43767620d65"
      },
      "source": [
        "# Através da função describe vimos que não há dados faltantes, confirmação\n",
        "df.isna().sum(axis=0)"
      ],
      "execution_count": null,
      "outputs": [
        {
          "output_type": "execute_result",
          "data": {
            "text/plain": [
              "Gender           0\n",
              "Age              0\n",
              "Neighbourhood    0\n",
              "Scholarship      0\n",
              "Hipertension     0\n",
              "Diabetes         0\n",
              "Alcoholism       0\n",
              "Handcap          0\n",
              "SMS_received     0\n",
              "No-show          0\n",
              "WaitingTime      0\n",
              "Day              0\n",
              "Month            0\n",
              "dtype: int64"
            ]
          },
          "metadata": {
            "tags": []
          },
          "execution_count": 203
        }
      ]
    },
    {
      "cell_type": "markdown",
      "metadata": {
        "id": "yOPg2NVmWbL_"
      },
      "source": [
        "## Qual a distribuição das idades no conjunto de dados de consultas ?\n",
        "### Há idades de 0 a 100 anos"
      ]
    },
    {
      "cell_type": "code",
      "metadata": {
        "id": "cgfZR4skeFF1",
        "colab": {
          "base_uri": "https://localhost:8080/",
          "height": 285
        },
        "outputId": "14764ca8-dd22-442e-eea8-b88da91ec15e"
      },
      "source": [
        "# Distribuição dos dados - histograma\n",
        "sns.distplot(df['Age']);"
      ],
      "execution_count": null,
      "outputs": [
        {
          "output_type": "display_data",
          "data": {
            "image/png": "[encoded data removed]",
            "text/plain": [
              "<Figure size 432x288 with 1 Axes>"
            ]
          },
          "metadata": {
            "tags": []
          }
        }
      ]
    },
    {
      "cell_type": "markdown",
      "metadata": {
        "id": "zzhO_wHYXCg1"
      },
      "source": [
        "## Qual a distribuição ao longo dos dias ?\n",
        "### Há um pico até o dia 5, pode ser devido a época de pagamento e nos dias seguintes se mantém estável."
      ]
    },
    {
      "cell_type": "code",
      "metadata": {
        "id": "kq80h4Dyo5Ip",
        "colab": {
          "base_uri": "https://localhost:8080/",
          "height": 285
        },
        "outputId": "201ef0c0-c951-4ac0-821c-71012f9fc9ec"
      },
      "source": [
        "# Distribuição dos dados - histograma\n",
        "sns.distplot(df['Day']);"
      ],
      "execution_count": null,
      "outputs": [
        {
          "output_type": "display_data",
          "data": {
            "image/png": "[encoded data removed]",
            "text/plain": [
              "<Figure size 432x288 with 1 Axes>"
            ]
          },
          "metadata": {
            "tags": []
          }
        }
      ]
    },
    {
      "cell_type": "markdown",
      "metadata": {
        "id": "cFYl8zhKX4uT"
      },
      "source": [
        "## Qual a distribuição em relação aos meses ?\n",
        "### Isso vai depender dos dados presentes no conjunto de dados."
      ]
    },
    {
      "cell_type": "code",
      "metadata": {
        "id": "KVeupAQMo_5i",
        "colab": {
          "base_uri": "https://localhost:8080/",
          "height": 303
        },
        "outputId": "9a4d152d-1626-4bb5-f64d-1c8493f47853"
      },
      "source": [
        "# Distribuição dos dados - histograma\n",
        "sns.distplot(df['Month'])"
      ],
      "execution_count": null,
      "outputs": [
        {
          "output_type": "execute_result",
          "data": {
            "text/plain": [
              "<matplotlib.axes._subplots.AxesSubplot at 0x7fd755dc6908>"
            ]
          },
          "metadata": {
            "tags": []
          },
          "execution_count": 206
        },
        {
          "output_type": "display_data",
          "data": {
            "image/png": "[encoded data removed]",
            "text/plain": [
              "<Figure size 432x288 with 1 Axes>"
            ]
          },
          "metadata": {
            "tags": []
          }
        }
      ]
    },
    {
      "cell_type": "markdown",
      "metadata": {
        "id": "bbN0lxNNYMKX"
      },
      "source": [
        "## Distribuição do tempo de espera da consulta agendada\n",
        "### Existem valores entre 0 e mais de 100 dias, sendo a maioria abaixo de 20."
      ]
    },
    {
      "cell_type": "code",
      "metadata": {
        "id": "dDOKnYG_pE6N",
        "colab": {
          "base_uri": "https://localhost:8080/",
          "height": 285
        },
        "outputId": "db279f1a-0dff-4dfd-d3f8-ce0b8bfba606"
      },
      "source": [
        "# Distribuição dos dados - histograma\n",
        "sns.distplot(df['WaitingTime']);"
      ],
      "execution_count": null,
      "outputs": [
        {
          "output_type": "display_data",
          "data": {
            "image/png": "[encoded data removed]",
            "text/plain": [
              "<Figure size 432x288 with 1 Axes>"
            ]
          },
          "metadata": {
            "tags": []
          }
        }
      ]
    },
    {
      "cell_type": "markdown",
      "metadata": {
        "id": "OuzL7ulyYy6G"
      },
      "source": [
        "## Existem valores fora do esperado para uma distribuição normal ?\n",
        "### Pelo boxplot identifica-se valores acima do valor considerado normal ou até 3 vezes o desvio padrão do centro com a média."
      ]
    },
    {
      "cell_type": "code",
      "metadata": {
        "id": "Jm_2pBWSppBm",
        "colab": {
          "base_uri": "https://localhost:8080/",
          "height": 285
        },
        "outputId": "d5163a35-b087-4fa4-b2e7-f0189b01d0e6"
      },
      "source": [
        "# Detecção de outliers\n",
        "# Age\n",
        "sns.boxplot(x = 'Age', data = df);"
      ],
      "execution_count": null,
      "outputs": [
        {
          "output_type": "display_data",
          "data": {
            "image/png": "[encoded data removed]",
            "text/plain": [
              "<Figure size 432x288 with 1 Axes>"
            ]
          },
          "metadata": {
            "tags": []
          }
        }
      ]
    },
    {
      "cell_type": "markdown",
      "metadata": {
        "id": "Re2Yb4rzZ9pi"
      },
      "source": [
        "### Outliers\n",
        "### Uma das formas de remover os outliers é identificar os dados que se encontram a uma distância de 3Z-scores. Sendo 1.5 acima e 1.5 abaixo do valor médio.\n",
        "## Isso pode ser feito calculando o valor inter-quartil, Q1 (25%) e Q3 (75%), a diferente deles é o valor IQR. É considerado outlier se o valor esta:\n",
        "###    Q1-(1.5\\*IQR) < valor < Q3+(1.5\\*IQR)\n",
        " "
      ]
    },
    {
      "cell_type": "code",
      "metadata": {
        "id": "uTW2_O4bsQCS"
      },
      "source": [
        "# Outliers estão acima de 3Z-scores de distância da média do conjunto de dados\n",
        "z = np.abs(stats.zscore(df[num_vars]))"
      ],
      "execution_count": null,
      "outputs": []
    },
    {
      "cell_type": "code",
      "metadata": {
        "id": "dNgS3UvPt6mp",
        "colab": {
          "base_uri": "https://localhost:8080/",
          "height": 35
        },
        "outputId": "b3c0669e-dbd0-491d-a352-00fbccffc64a"
      },
      "source": [
        "# Shape original com outliers\n",
        "df.shape"
      ],
      "execution_count": null,
      "outputs": [
        {
          "output_type": "execute_result",
          "data": {
            "text/plain": [
              "(110527, 13)"
            ]
          },
          "metadata": {
            "tags": []
          },
          "execution_count": 210
        }
      ]
    },
    {
      "cell_type": "code",
      "metadata": {
        "id": "_tEnerdotrTn"
      },
      "source": [
        "df_o = df[(z < 3).all(axis=1)]"
      ],
      "execution_count": null,
      "outputs": []
    },
    {
      "cell_type": "code",
      "metadata": {
        "id": "wqjhQIIouAEW",
        "colab": {
          "base_uri": "https://localhost:8080/",
          "height": 35
        },
        "outputId": "c70ba50b-776d-4863-915c-b30ba967140b"
      },
      "source": [
        "# Shape sem os outliers\n",
        "df_o.shape"
      ],
      "execution_count": null,
      "outputs": [
        {
          "output_type": "execute_result",
          "data": {
            "text/plain": [
              "(107853, 13)"
            ]
          },
          "metadata": {
            "tags": []
          },
          "execution_count": 212
        }
      ]
    },
    {
      "cell_type": "code",
      "metadata": {
        "id": "8gvCvbazwlrv",
        "colab": {
          "base_uri": "https://localhost:8080/",
          "height": 285
        },
        "outputId": "28c401b7-1639-45b1-aadc-1fa323addc50"
      },
      "source": [
        "# Detecção de outliers\n",
        "# Age\n",
        "sns.boxplot(x = 'Age', data = df_o);"
      ],
      "execution_count": null,
      "outputs": [
        {
          "output_type": "display_data",
          "data": {
            "image/png": "[encoded data removed]",
            "text/plain": [
              "<Figure size 432x288 with 1 Axes>"
            ]
          },
          "metadata": {
            "tags": []
          }
        }
      ]
    },
    {
      "cell_type": "code",
      "metadata": {
        "id": "YI2EstLMw8zl",
        "colab": {
          "base_uri": "https://localhost:8080/",
          "height": 285
        },
        "outputId": "2ad43f1e-aa9e-42c9-e913-b2c6708569bf"
      },
      "source": [
        "# Distribuição dos dados - histograma\n",
        "sns.distplot(df_o['Age']);"
      ],
      "execution_count": null,
      "outputs": [
        {
          "output_type": "display_data",
          "data": {
            "image/png": "[encoded data removed]",
            "text/plain": [
              "<Figure size 432x288 with 1 Axes>"
            ]
          },
          "metadata": {
            "tags": []
          }
        }
      ]
    },
    {
      "cell_type": "code",
      "metadata": {
        "id": "3bAlwOWjnxCI",
        "colab": {
          "base_uri": "https://localhost:8080/",
          "height": 268
        },
        "outputId": "1f8e950c-94b5-436a-cfa2-d7837519e7f3"
      },
      "source": [
        "df_o['Age'].hist(bins=len(df_o['Age'].unique()));"
      ],
      "execution_count": null,
      "outputs": [
        {
          "output_type": "display_data",
          "data": {
            "image/png": "[encoded data removed]",
            "text/plain": [
              "<Figure size 432x288 with 1 Axes>"
            ]
          },
          "metadata": {
            "tags": []
          }
        }
      ]
    },
    {
      "cell_type": "code",
      "metadata": {
        "id": "EUuundh9xRes",
        "colab": {
          "base_uri": "https://localhost:8080/",
          "height": 235
        },
        "outputId": "b13bd680-e18c-4a7c-f671-ee76ccaca4b9"
      },
      "source": [
        "# Valor de Waiting_Time de -1 deve significar atendimento no mesmo dia, portanto será convertido em zero\n",
        "df_o['WaitingTime']"
      ],
      "execution_count": null,
      "outputs": [
        {
          "output_type": "execute_result",
          "data": {
            "text/plain": [
              "0         -1\n",
              "1         -1\n",
              "2         -1\n",
              "3         -1\n",
              "4         -1\n",
              "          ..\n",
              "110522    34\n",
              "110523    34\n",
              "110524    40\n",
              "110525    40\n",
              "110526    40\n",
              "Name: WaitingTime, Length: 107853, dtype: int64"
            ]
          },
          "metadata": {
            "tags": []
          },
          "execution_count": 216
        }
      ]
    },
    {
      "cell_type": "code",
      "metadata": {
        "id": "xhn198D9y51I"
      },
      "source": [
        "# Valor de Waiting_Time vira 0\n",
        "\n",
        "df_o['WaitingTime'] = np.where (df_o['WaitingTime'] == -1, 0, df_o['WaitingTime'])"
      ],
      "execution_count": null,
      "outputs": []
    },
    {
      "cell_type": "code",
      "metadata": {
        "id": "tqhxGx9f0bVU",
        "colab": {
          "base_uri": "https://localhost:8080/",
          "height": 198
        },
        "outputId": "fe711b7c-63fe-4dfd-ce4f-1260f7bc3764"
      },
      "source": [
        "df_o.head()"
      ],
      "execution_count": null,
      "outputs": [
        {
          "output_type": "execute_result",
          "data": {
            "text/html": [
              "<div>\n",
              "<style scoped>\n",
              "    .dataframe tbody tr th:only-of-type {\n",
              "        vertical-align: middle;\n",
              "    }\n",
              "\n",
              "    .dataframe tbody tr th {\n",
              "        vertical-align: top;\n",
              "    }\n",
              "\n",
              "    .dataframe thead th {\n",
              "        text-align: right;\n",
              "    }\n",
              "</style>\n",
              "<table border=\"1\" class=\"dataframe\">\n",
              "  <thead>\n",
              "    <tr style=\"text-align: right;\">\n",
              "      <th></th>\n",
              "      <th>Gender</th>\n",
              "      <th>Age</th>\n",
              "      <th>Neighbourhood</th>\n",
              "      <th>Scholarship</th>\n",
              "      <th>Hipertension</th>\n",
              "      <th>Diabetes</th>\n",
              "      <th>Alcoholism</th>\n",
              "      <th>Handcap</th>\n",
              "      <th>SMS_received</th>\n",
              "      <th>No-show</th>\n",
              "      <th>WaitingTime</th>\n",
              "      <th>Day</th>\n",
              "      <th>Month</th>\n",
              "    </tr>\n",
              "  </thead>\n",
              "  <tbody>\n",
              "    <tr>\n",
              "      <th>0</th>\n",
              "      <td>F</td>\n",
              "      <td>62</td>\n",
              "      <td>JARDIM DA PENHA</td>\n",
              "      <td>0</td>\n",
              "      <td>1</td>\n",
              "      <td>0</td>\n",
              "      <td>0</td>\n",
              "      <td>0</td>\n",
              "      <td>0</td>\n",
              "      <td>No</td>\n",
              "      <td>0</td>\n",
              "      <td>29</td>\n",
              "      <td>4</td>\n",
              "    </tr>\n",
              "    <tr>\n",
              "      <th>1</th>\n",
              "      <td>M</td>\n",
              "      <td>56</td>\n",
              "      <td>JARDIM DA PENHA</td>\n",
              "      <td>0</td>\n",
              "      <td>0</td>\n",
              "      <td>0</td>\n",
              "      <td>0</td>\n",
              "      <td>0</td>\n",
              "      <td>0</td>\n",
              "      <td>No</td>\n",
              "      <td>0</td>\n",
              "      <td>29</td>\n",
              "      <td>4</td>\n",
              "    </tr>\n",
              "    <tr>\n",
              "      <th>2</th>\n",
              "      <td>F</td>\n",
              "      <td>62</td>\n",
              "      <td>MATA DA PRAIA</td>\n",
              "      <td>0</td>\n",
              "      <td>0</td>\n",
              "      <td>0</td>\n",
              "      <td>0</td>\n",
              "      <td>0</td>\n",
              "      <td>0</td>\n",
              "      <td>No</td>\n",
              "      <td>0</td>\n",
              "      <td>29</td>\n",
              "      <td>4</td>\n",
              "    </tr>\n",
              "    <tr>\n",
              "      <th>3</th>\n",
              "      <td>F</td>\n",
              "      <td>8</td>\n",
              "      <td>PONTAL DE CAMBURI</td>\n",
              "      <td>0</td>\n",
              "      <td>0</td>\n",
              "      <td>0</td>\n",
              "      <td>0</td>\n",
              "      <td>0</td>\n",
              "      <td>0</td>\n",
              "      <td>No</td>\n",
              "      <td>0</td>\n",
              "      <td>29</td>\n",
              "      <td>4</td>\n",
              "    </tr>\n",
              "    <tr>\n",
              "      <th>4</th>\n",
              "      <td>F</td>\n",
              "      <td>56</td>\n",
              "      <td>JARDIM DA PENHA</td>\n",
              "      <td>0</td>\n",
              "      <td>1</td>\n",
              "      <td>1</td>\n",
              "      <td>0</td>\n",
              "      <td>0</td>\n",
              "      <td>0</td>\n",
              "      <td>No</td>\n",
              "      <td>0</td>\n",
              "      <td>29</td>\n",
              "      <td>4</td>\n",
              "    </tr>\n",
              "  </tbody>\n",
              "</table>\n",
              "</div>"
            ],
            "text/plain": [
              "  Gender  Age      Neighbourhood Scholarship Hipertension Diabetes Alcoholism  \\\n",
              "0      F   62    JARDIM DA PENHA           0            1        0          0   \n",
              "1      M   56    JARDIM DA PENHA           0            0        0          0   \n",
              "2      F   62      MATA DA PRAIA           0            0        0          0   \n",
              "3      F    8  PONTAL DE CAMBURI           0            0        0          0   \n",
              "4      F   56    JARDIM DA PENHA           0            1        1          0   \n",
              "\n",
              "  Handcap SMS_received No-show  WaitingTime  Day  Month  \n",
              "0       0            0      No            0   29      4  \n",
              "1       0            0      No            0   29      4  \n",
              "2       0            0      No            0   29      4  \n",
              "3       0            0      No            0   29      4  \n",
              "4       0            0      No            0   29      4  "
            ]
          },
          "metadata": {
            "tags": []
          },
          "execution_count": 218
        }
      ]
    },
    {
      "cell_type": "code",
      "metadata": {
        "id": "p69nesNwrFYm"
      },
      "source": [
        "# Convertendo F = 0  e M = 1\n",
        "df_o['Gender'] = df_o['Gender'].cat.codes"
      ],
      "execution_count": null,
      "outputs": []
    },
    {
      "cell_type": "code",
      "metadata": {
        "id": "Mf-1t-2ztLDn"
      },
      "source": [
        "# Criando nova coluna Class e convertendo No = 0  e Yes = 1\n",
        "df_o['Class'] = df_o['No-show'].cat.codes"
      ],
      "execution_count": null,
      "outputs": []
    },
    {
      "cell_type": "code",
      "metadata": {
        "id": "MwUaNyNIh-gO",
        "colab": {
          "base_uri": "https://localhost:8080/",
          "height": 290
        },
        "outputId": "1b58969a-145e-4bbc-83a3-13b03bb1c999"
      },
      "source": [
        "df_o.dtypes"
      ],
      "execution_count": null,
      "outputs": [
        {
          "output_type": "execute_result",
          "data": {
            "text/plain": [
              "Gender               int8\n",
              "Age                 int64\n",
              "Neighbourhood    category\n",
              "Scholarship      category\n",
              "Hipertension     category\n",
              "Diabetes         category\n",
              "Alcoholism       category\n",
              "Handcap          category\n",
              "SMS_received     category\n",
              "No-show          category\n",
              "WaitingTime         int64\n",
              "Day                 int64\n",
              "Month               int64\n",
              "Class                int8\n",
              "dtype: object"
            ]
          },
          "metadata": {
            "tags": []
          },
          "execution_count": 221
        }
      ]
    },
    {
      "cell_type": "markdown",
      "metadata": {
        "id": "SI8XJfKPflvH"
      },
      "source": [
        "### Coluna Sexo - criado para facilitar a compreensão do gráfico a ser gerado.\n"
      ]
    },
    {
      "cell_type": "code",
      "metadata": {
        "id": "dQsoBesdffw5"
      },
      "source": [
        "# Função para preencher uma nova coluna com o sexo do paciente\n",
        "# 0 - Mulher e 1 - Homem\n",
        "def tipoPessoa_func(gender):\n",
        "    if gender.values.item() == 1:\n",
        "        return 'Homem'\n",
        "    else:\n",
        "        return 'Mulher' \n",
        "\n",
        "# Aplica a função\n",
        "df_o['Sexo'] = df_o[['Gender']].apply(tipoPessoa_func, axis = 1)"
      ],
      "execution_count": null,
      "outputs": []
    },
    {
      "cell_type": "markdown",
      "metadata": {
        "id": "niIOP7CSf1rn"
      },
      "source": [
        "### Coluna Status - criada apenas para facilitar a visualização de um gráfico."
      ]
    },
    {
      "cell_type": "code",
      "metadata": {
        "id": "Vg1FF9HyjYgk"
      },
      "source": [
        "# Função para preencher uma nova coluna com o status: compareceu ou não\n",
        "# No (0)- nao compareceu e Yes (1)- compareceu\n",
        "def status(no_show):\n",
        "    if no_show.values.item() == 'No':\n",
        "        return 'compareceu'\n",
        "    else:\n",
        "        return 'Não compareceu' \n",
        "\n",
        "# Aplica a função\n",
        "df_o['Status'] = df_o[['No-show']].apply(status, axis = 1)"
      ],
      "execution_count": null,
      "outputs": []
    },
    {
      "cell_type": "code",
      "metadata": {
        "id": "HggbxAlXq59u",
        "colab": {
          "base_uri": "https://localhost:8080/",
          "height": 514
        },
        "outputId": "5fac7990-e459-4a50-c3a9-6249166fda70"
      },
      "source": [
        "df_o"
      ],
      "execution_count": null,
      "outputs": [
        {
          "output_type": "execute_result",
          "data": {
            "text/html": [
              "<div>\n",
              "<style scoped>\n",
              "    .dataframe tbody tr th:only-of-type {\n",
              "        vertical-align: middle;\n",
              "    }\n",
              "\n",
              "    .dataframe tbody tr th {\n",
              "        vertical-align: top;\n",
              "    }\n",
              "\n",
              "    .dataframe thead th {\n",
              "        text-align: right;\n",
              "    }\n",
              "</style>\n",
              "<table border=\"1\" class=\"dataframe\">\n",
              "  <thead>\n",
              "    <tr style=\"text-align: right;\">\n",
              "      <th></th>\n",
              "      <th>Gender</th>\n",
              "      <th>Age</th>\n",
              "      <th>Neighbourhood</th>\n",
              "      <th>Scholarship</th>\n",
              "      <th>Hipertension</th>\n",
              "      <th>Diabetes</th>\n",
              "      <th>Alcoholism</th>\n",
              "      <th>Handcap</th>\n",
              "      <th>SMS_received</th>\n",
              "      <th>No-show</th>\n",
              "      <th>WaitingTime</th>\n",
              "      <th>Day</th>\n",
              "      <th>Month</th>\n",
              "      <th>Class</th>\n",
              "      <th>Sexo</th>\n",
              "      <th>Status</th>\n",
              "    </tr>\n",
              "  </thead>\n",
              "  <tbody>\n",
              "    <tr>\n",
              "      <th>0</th>\n",
              "      <td>0</td>\n",
              "      <td>62</td>\n",
              "      <td>JARDIM DA PENHA</td>\n",
              "      <td>0</td>\n",
              "      <td>1</td>\n",
              "      <td>0</td>\n",
              "      <td>0</td>\n",
              "      <td>0</td>\n",
              "      <td>0</td>\n",
              "      <td>No</td>\n",
              "      <td>0</td>\n",
              "      <td>29</td>\n",
              "      <td>4</td>\n",
              "      <td>0</td>\n",
              "      <td>Mulher</td>\n",
              "      <td>compareceu</td>\n",
              "    </tr>\n",
              "    <tr>\n",
              "      <th>1</th>\n",
              "      <td>1</td>\n",
              "      <td>56</td>\n",
              "      <td>JARDIM DA PENHA</td>\n",
              "      <td>0</td>\n",
              "      <td>0</td>\n",
              "      <td>0</td>\n",
              "      <td>0</td>\n",
              "      <td>0</td>\n",
              "      <td>0</td>\n",
              "      <td>No</td>\n",
              "      <td>0</td>\n",
              "      <td>29</td>\n",
              "      <td>4</td>\n",
              "      <td>0</td>\n",
              "      <td>Homem</td>\n",
              "      <td>compareceu</td>\n",
              "    </tr>\n",
              "    <tr>\n",
              "      <th>2</th>\n",
              "      <td>0</td>\n",
              "      <td>62</td>\n",
              "      <td>MATA DA PRAIA</td>\n",
              "      <td>0</td>\n",
              "      <td>0</td>\n",
              "      <td>0</td>\n",
              "      <td>0</td>\n",
              "      <td>0</td>\n",
              "      <td>0</td>\n",
              "      <td>No</td>\n",
              "      <td>0</td>\n",
              "      <td>29</td>\n",
              "      <td>4</td>\n",
              "      <td>0</td>\n",
              "      <td>Mulher</td>\n",
              "      <td>compareceu</td>\n",
              "    </tr>\n",
              "    <tr>\n",
              "      <th>3</th>\n",
              "      <td>0</td>\n",
              "      <td>8</td>\n",
              "      <td>PONTAL DE CAMBURI</td>\n",
              "      <td>0</td>\n",
              "      <td>0</td>\n",
              "      <td>0</td>\n",
              "      <td>0</td>\n",
              "      <td>0</td>\n",
              "      <td>0</td>\n",
              "      <td>No</td>\n",
              "      <td>0</td>\n",
              "      <td>29</td>\n",
              "      <td>4</td>\n",
              "      <td>0</td>\n",
              "      <td>Mulher</td>\n",
              "      <td>compareceu</td>\n",
              "    </tr>\n",
              "    <tr>\n",
              "      <th>4</th>\n",
              "      <td>0</td>\n",
              "      <td>56</td>\n",
              "      <td>JARDIM DA PENHA</td>\n",
              "      <td>0</td>\n",
              "      <td>1</td>\n",
              "      <td>1</td>\n",
              "      <td>0</td>\n",
              "      <td>0</td>\n",
              "      <td>0</td>\n",
              "      <td>No</td>\n",
              "      <td>0</td>\n",
              "      <td>29</td>\n",
              "      <td>4</td>\n",
              "      <td>0</td>\n",
              "      <td>Mulher</td>\n",
              "      <td>compareceu</td>\n",
              "    </tr>\n",
              "    <tr>\n",
              "      <th>...</th>\n",
              "      <td>...</td>\n",
              "      <td>...</td>\n",
              "      <td>...</td>\n",
              "      <td>...</td>\n",
              "      <td>...</td>\n",
              "      <td>...</td>\n",
              "      <td>...</td>\n",
              "      <td>...</td>\n",
              "      <td>...</td>\n",
              "      <td>...</td>\n",
              "      <td>...</td>\n",
              "      <td>...</td>\n",
              "      <td>...</td>\n",
              "      <td>...</td>\n",
              "      <td>...</td>\n",
              "      <td>...</td>\n",
              "    </tr>\n",
              "    <tr>\n",
              "      <th>110522</th>\n",
              "      <td>0</td>\n",
              "      <td>56</td>\n",
              "      <td>MARIA ORTIZ</td>\n",
              "      <td>0</td>\n",
              "      <td>0</td>\n",
              "      <td>0</td>\n",
              "      <td>0</td>\n",
              "      <td>0</td>\n",
              "      <td>1</td>\n",
              "      <td>No</td>\n",
              "      <td>34</td>\n",
              "      <td>7</td>\n",
              "      <td>6</td>\n",
              "      <td>0</td>\n",
              "      <td>Mulher</td>\n",
              "      <td>compareceu</td>\n",
              "    </tr>\n",
              "    <tr>\n",
              "      <th>110523</th>\n",
              "      <td>0</td>\n",
              "      <td>51</td>\n",
              "      <td>MARIA ORTIZ</td>\n",
              "      <td>0</td>\n",
              "      <td>0</td>\n",
              "      <td>0</td>\n",
              "      <td>0</td>\n",
              "      <td>0</td>\n",
              "      <td>1</td>\n",
              "      <td>No</td>\n",
              "      <td>34</td>\n",
              "      <td>7</td>\n",
              "      <td>6</td>\n",
              "      <td>0</td>\n",
              "      <td>Mulher</td>\n",
              "      <td>compareceu</td>\n",
              "    </tr>\n",
              "    <tr>\n",
              "      <th>110524</th>\n",
              "      <td>0</td>\n",
              "      <td>21</td>\n",
              "      <td>MARIA ORTIZ</td>\n",
              "      <td>0</td>\n",
              "      <td>0</td>\n",
              "      <td>0</td>\n",
              "      <td>0</td>\n",
              "      <td>0</td>\n",
              "      <td>1</td>\n",
              "      <td>No</td>\n",
              "      <td>40</td>\n",
              "      <td>7</td>\n",
              "      <td>6</td>\n",
              "      <td>0</td>\n",
              "      <td>Mulher</td>\n",
              "      <td>compareceu</td>\n",
              "    </tr>\n",
              "    <tr>\n",
              "      <th>110525</th>\n",
              "      <td>0</td>\n",
              "      <td>38</td>\n",
              "      <td>MARIA ORTIZ</td>\n",
              "      <td>0</td>\n",
              "      <td>0</td>\n",
              "      <td>0</td>\n",
              "      <td>0</td>\n",
              "      <td>0</td>\n",
              "      <td>1</td>\n",
              "      <td>No</td>\n",
              "      <td>40</td>\n",
              "      <td>7</td>\n",
              "      <td>6</td>\n",
              "      <td>0</td>\n",
              "      <td>Mulher</td>\n",
              "      <td>compareceu</td>\n",
              "    </tr>\n",
              "    <tr>\n",
              "      <th>110526</th>\n",
              "      <td>0</td>\n",
              "      <td>54</td>\n",
              "      <td>MARIA ORTIZ</td>\n",
              "      <td>0</td>\n",
              "      <td>0</td>\n",
              "      <td>0</td>\n",
              "      <td>0</td>\n",
              "      <td>0</td>\n",
              "      <td>1</td>\n",
              "      <td>No</td>\n",
              "      <td>40</td>\n",
              "      <td>7</td>\n",
              "      <td>6</td>\n",
              "      <td>0</td>\n",
              "      <td>Mulher</td>\n",
              "      <td>compareceu</td>\n",
              "    </tr>\n",
              "  </tbody>\n",
              "</table>\n",
              "<p>107853 rows × 16 columns</p>\n",
              "</div>"
            ],
            "text/plain": [
              "        Gender  Age      Neighbourhood Scholarship Hipertension Diabetes  \\\n",
              "0            0   62    JARDIM DA PENHA           0            1        0   \n",
              "1            1   56    JARDIM DA PENHA           0            0        0   \n",
              "2            0   62      MATA DA PRAIA           0            0        0   \n",
              "3            0    8  PONTAL DE CAMBURI           0            0        0   \n",
              "4            0   56    JARDIM DA PENHA           0            1        1   \n",
              "...        ...  ...                ...         ...          ...      ...   \n",
              "110522       0   56        MARIA ORTIZ           0            0        0   \n",
              "110523       0   51        MARIA ORTIZ           0            0        0   \n",
              "110524       0   21        MARIA ORTIZ           0            0        0   \n",
              "110525       0   38        MARIA ORTIZ           0            0        0   \n",
              "110526       0   54        MARIA ORTIZ           0            0        0   \n",
              "\n",
              "       Alcoholism Handcap SMS_received No-show  WaitingTime  Day  Month  \\\n",
              "0               0       0            0      No            0   29      4   \n",
              "1               0       0            0      No            0   29      4   \n",
              "2               0       0            0      No            0   29      4   \n",
              "3               0       0            0      No            0   29      4   \n",
              "4               0       0            0      No            0   29      4   \n",
              "...           ...     ...          ...     ...          ...  ...    ...   \n",
              "110522          0       0            1      No           34    7      6   \n",
              "110523          0       0            1      No           34    7      6   \n",
              "110524          0       0            1      No           40    7      6   \n",
              "110525          0       0            1      No           40    7      6   \n",
              "110526          0       0            1      No           40    7      6   \n",
              "\n",
              "        Class    Sexo      Status  \n",
              "0           0  Mulher  compareceu  \n",
              "1           0   Homem  compareceu  \n",
              "2           0  Mulher  compareceu  \n",
              "3           0  Mulher  compareceu  \n",
              "4           0  Mulher  compareceu  \n",
              "...       ...     ...         ...  \n",
              "110522      0  Mulher  compareceu  \n",
              "110523      0  Mulher  compareceu  \n",
              "110524      0  Mulher  compareceu  \n",
              "110525      0  Mulher  compareceu  \n",
              "110526      0  Mulher  compareceu  \n",
              "\n",
              "[107853 rows x 16 columns]"
            ]
          },
          "metadata": {
            "tags": []
          },
          "execution_count": 224
        }
      ]
    },
    {
      "cell_type": "markdown",
      "metadata": {
        "id": "h7GrVk3MopqA"
      },
      "source": [
        "### Analisando os SMS enviados e o número de vezes que o paciente compareceu ou não"
      ]
    },
    {
      "cell_type": "code",
      "metadata": {
        "id": "-It709--ol6Y",
        "colab": {
          "base_uri": "https://localhost:8080/",
          "height": 316
        },
        "outputId": "09b076f2-b934-4fce-b205-df935a5afe0d"
      },
      "source": [
        "sms_x_comparecer = df_o.groupby(['SMS_received', 'Class'])['SMS_received'].count().unstack('Class').fillna(0)\n",
        "sms_x_comparecer[[0, 1]].plot(kind='bar', stacked=True) \n",
        "plt.title('Analise do número de SMS recebido e se a paciente compareceu (0) ou não à consulta (1)') \n",
        "plt.xlabel('Numero de SMS recebidos') \n",
        "plt.ylabel('Frequência')"
      ],
      "execution_count": null,
      "outputs": [
        {
          "output_type": "execute_result",
          "data": {
            "text/plain": [
              "Text(0, 0.5, 'Frequência')"
            ]
          },
          "metadata": {
            "tags": []
          },
          "execution_count": 225
        },
        {
          "output_type": "display_data",
          "data": {
            "image/png": "[encoded data removed]",
            "text/plain": [
              "<Figure size 432x288 with 1 Axes>"
            ]
          },
          "metadata": {
            "tags": []
          }
        }
      ]
    },
    {
      "cell_type": "code",
      "metadata": {
        "id": "V9_hAUKxubEx",
        "colab": {
          "base_uri": "https://localhost:8080/",
          "height": 138
        },
        "outputId": "85a2aeac-1d87-4813-b456-876998e29e84"
      },
      "source": [
        "sms_x_comparecer"
      ],
      "execution_count": null,
      "outputs": [
        {
          "output_type": "execute_result",
          "data": {
            "text/html": [
              "<div>\n",
              "<style scoped>\n",
              "    .dataframe tbody tr th:only-of-type {\n",
              "        vertical-align: middle;\n",
              "    }\n",
              "\n",
              "    .dataframe tbody tr th {\n",
              "        vertical-align: top;\n",
              "    }\n",
              "\n",
              "    .dataframe thead th {\n",
              "        text-align: right;\n",
              "    }\n",
              "</style>\n",
              "<table border=\"1\" class=\"dataframe\">\n",
              "  <thead>\n",
              "    <tr style=\"text-align: right;\">\n",
              "      <th>Class</th>\n",
              "      <th>0</th>\n",
              "      <th>1</th>\n",
              "    </tr>\n",
              "    <tr>\n",
              "      <th>SMS_received</th>\n",
              "      <th></th>\n",
              "      <th></th>\n",
              "    </tr>\n",
              "  </thead>\n",
              "  <tbody>\n",
              "    <tr>\n",
              "      <th>0</th>\n",
              "      <td>61882</td>\n",
              "      <td>12202</td>\n",
              "    </tr>\n",
              "    <tr>\n",
              "      <th>1</th>\n",
              "      <td>24439</td>\n",
              "      <td>9330</td>\n",
              "    </tr>\n",
              "  </tbody>\n",
              "</table>\n",
              "</div>"
            ],
            "text/plain": [
              "Class             0      1\n",
              "SMS_received              \n",
              "0             61882  12202\n",
              "1             24439   9330"
            ]
          },
          "metadata": {
            "tags": []
          },
          "execution_count": 226
        }
      ]
    },
    {
      "cell_type": "code",
      "metadata": {
        "id": "Mn0FgDpL2lqw",
        "colab": {
          "base_uri": "https://localhost:8080/",
          "height": 35
        },
        "outputId": "2af18514-917b-4271-b336-b798f7226364"
      },
      "source": [
        "df_o['No-show'].value_counts('No').to_dict()"
      ],
      "execution_count": null,
      "outputs": [
        {
          "output_type": "execute_result",
          "data": {
            "text/plain": [
              "{'No': 0.8003578945416446, 'Yes': 0.19964210545835537}"
            ]
          },
          "metadata": {
            "tags": []
          },
          "execution_count": 227
        }
      ]
    },
    {
      "cell_type": "code",
      "metadata": {
        "id": "nG5pJemEESCc",
        "colab": {
          "base_uri": "https://localhost:8080/",
          "height": 35
        },
        "outputId": "842c84aa-545c-43e6-a60f-3512d115f652"
      },
      "source": [
        "df_o['No-show'].value_counts()['No']/len(df_o)"
      ],
      "execution_count": null,
      "outputs": [
        {
          "output_type": "execute_result",
          "data": {
            "text/plain": [
              "0.8003578945416446"
            ]
          },
          "metadata": {
            "tags": []
          },
          "execution_count": 228
        }
      ]
    },
    {
      "cell_type": "code",
      "metadata": {
        "id": "8qgcob9SEiYo",
        "colab": {
          "base_uri": "https://localhost:8080/",
          "height": 35
        },
        "outputId": "52b0611e-55d4-4625-f1b7-b1bd578c1074"
      },
      "source": [
        "df_o['No-show'].value_counts()['Yes']/len(df_o)"
      ],
      "execution_count": null,
      "outputs": [
        {
          "output_type": "execute_result",
          "data": {
            "text/plain": [
              "0.19964210545835537"
            ]
          },
          "metadata": {
            "tags": []
          },
          "execution_count": 229
        }
      ]
    },
    {
      "cell_type": "markdown",
      "metadata": {
        "id": "jRedX-xxJqiY"
      },
      "source": [
        "## Quais o valores de comparecimento ou não por sexo ?"
      ]
    },
    {
      "cell_type": "code",
      "metadata": {
        "id": "TR3ZvVmHi-_H",
        "colab": {
          "base_uri": "https://localhost:8080/",
          "height": 453
        },
        "outputId": "0cb4b10e-9f78-402d-e90c-8e94b0f66d5a"
      },
      "source": [
        "# Como o número de consultas é afetado pelo sexo da pessoa.\n",
        "mx = sns.catplot(x = \"Sexo\", hue = 'Status', data = df_o, kind = \"count\", height = 6)\n",
        "mx.set(ylabel = 'Número de Pacientes')\n",
        "plt.title('Pacientes Por Sexo');"
      ],
      "execution_count": null,
      "outputs": [
        {
          "output_type": "display_data",
          "data": {
            "image/png": "[encoded data removed]",
            "text/plain": [
              "<Figure size 565.35x432 with 1 Axes>"
            ]
          },
          "metadata": {
            "tags": []
          }
        }
      ]
    },
    {
      "cell_type": "markdown",
      "metadata": {
        "id": "7OI96Co5N0bQ"
      },
      "source": [
        "### Qual é a idade média dos pacientes?  Maior e menor idade ?\n",
        "### Valores considerados outliers já foram removidos."
      ]
    },
    {
      "cell_type": "code",
      "metadata": {
        "id": "0-4QJeODN2q9",
        "colab": {
          "base_uri": "https://localhost:8080/",
          "height": 72
        },
        "outputId": "eff07a12-43fc-4948-e298-738f879e494d"
      },
      "source": [
        "print(\"Maior idade:\", df_o['Age'].max(), \"\\nMenor idade:\", df_o['Age'].min(), \"\\nMédia:\",round(df_o['Age'].mean(),2))"
      ],
      "execution_count": null,
      "outputs": [
        {
          "output_type": "stream",
          "text": [
            "Maior idade: 102 \n",
            "Menor idade: -1 \n",
            "Média: 36.82\n"
          ],
          "name": "stdout"
        }
      ]
    },
    {
      "cell_type": "markdown",
      "metadata": {
        "id": "FBzwtKcphBGc"
      },
      "source": [
        "### Em quantas localidades diferentes (Neighbourhood) os pacientes residem?"
      ]
    },
    {
      "cell_type": "code",
      "metadata": {
        "id": "mlkpskFig5JM",
        "colab": {
          "base_uri": "https://localhost:8080/",
          "height": 35
        },
        "outputId": "3537a89f-8b6a-494a-e3e9-987fb0509da5"
      },
      "source": [
        "print(\"Total Bairros:\",len(df_o.Neighbourhood.unique()))"
      ],
      "execution_count": null,
      "outputs": [
        {
          "output_type": "stream",
          "text": [
            "Total Bairros: 81\n"
          ],
          "name": "stdout"
        }
      ]
    },
    {
      "cell_type": "markdown",
      "metadata": {
        "id": "uHpGTpslN10v"
      },
      "source": [
        "## Quais os bairros com mais consultas agendadas ?\n",
        "### É possível identificar pelo gráfico de contagem 3 bairros ou regiões com mais de 4mil consultadas agendadas."
      ]
    },
    {
      "cell_type": "code",
      "metadata": {
        "id": "8fMtCJr-Hp3V",
        "colab": {
          "base_uri": "https://localhost:8080/",
          "height": 720
        },
        "outputId": "650e1256-741b-46c7-a488-e049d3d9d5dc"
      },
      "source": [
        "#plotando o número de consultas por região \n",
        "bairro = df_o['Neighbourhood'].unique()\n",
        "plt.figure(figsize=(18,10))\n",
        "ax = sns.countplot(x='Neighbourhood', data=df_o, order=df_o['Neighbourhood'].value_counts().index)\n",
        "ax.set_xticklabels(ax.get_xticklabels(), rotation=45, ha=\"right\", fontsize=8)\n",
        "plt.title('Consultas por bairro', fontsize=14, fontweight='bold')\n",
        "plt.show()"
      ],
      "execution_count": null,
      "outputs": [
        {
          "output_type": "display_data",
          "data": {
            "image/png": "[encoded data removed]",
            "text/plain": [
              "<Figure size 1296x720 with 1 Axes>"
            ]
          },
          "metadata": {
            "tags": []
          }
        }
      ]
    },
    {
      "cell_type": "markdown",
      "metadata": {
        "id": "qaYlb2nuOsg9"
      },
      "source": [
        "## Treinamento do Modelo"
      ]
    },
    {
      "cell_type": "code",
      "metadata": {
        "id": "B_vldl2Hr6f9"
      },
      "source": [
        "# Variáveis object deve ser transformada em categórica\n",
        "dataset = pd.get_dummies(df_o, columns = ['Neighbourhood'], prefix = [\"N\"])"
      ],
      "execution_count": null,
      "outputs": []
    },
    {
      "cell_type": "code",
      "metadata": {
        "id": "IZFGKoPBtzgB",
        "colab": {
          "base_uri": "https://localhost:8080/",
          "height": 479
        },
        "outputId": "c6b8cde5-7d40-4bbb-facf-522be088e882"
      },
      "source": [
        "dataset"
      ],
      "execution_count": null,
      "outputs": [
        {
          "output_type": "execute_result",
          "data": {
            "text/html": [
              "<div>\n",
              "<style scoped>\n",
              "    .dataframe tbody tr th:only-of-type {\n",
              "        vertical-align: middle;\n",
              "    }\n",
              "\n",
              "    .dataframe tbody tr th {\n",
              "        vertical-align: top;\n",
              "    }\n",
              "\n",
              "    .dataframe thead th {\n",
              "        text-align: right;\n",
              "    }\n",
              "</style>\n",
              "<table border=\"1\" class=\"dataframe\">\n",
              "  <thead>\n",
              "    <tr style=\"text-align: right;\">\n",
              "      <th></th>\n",
              "      <th>Gender</th>\n",
              "      <th>Age</th>\n",
              "      <th>Scholarship</th>\n",
              "      <th>Hipertension</th>\n",
              "      <th>Diabetes</th>\n",
              "      <th>Alcoholism</th>\n",
              "      <th>Handcap</th>\n",
              "      <th>SMS_received</th>\n",
              "      <th>No-show</th>\n",
              "      <th>WaitingTime</th>\n",
              "      <th>Day</th>\n",
              "      <th>Month</th>\n",
              "      <th>Class</th>\n",
              "      <th>Sexo</th>\n",
              "      <th>Status</th>\n",
              "      <th>N_AEROPORTO</th>\n",
              "      <th>N_ANDORINHAS</th>\n",
              "      <th>N_ANTÃNIO HONÃRIO</th>\n",
              "      <th>N_ARIOVALDO FAVALESSA</th>\n",
              "      <th>N_BARRO VERMELHO</th>\n",
              "      <th>N_BELA VISTA</th>\n",
              "      <th>N_BENTO FERREIRA</th>\n",
              "      <th>N_BOA VISTA</th>\n",
              "      <th>N_BONFIM</th>\n",
              "      <th>N_CARATOÃRA</th>\n",
              "      <th>N_CENTRO</th>\n",
              "      <th>N_COMDUSA</th>\n",
              "      <th>N_CONQUISTA</th>\n",
              "      <th>N_CONSOLAÃÃO</th>\n",
              "      <th>N_CRUZAMENTO</th>\n",
              "      <th>N_DA PENHA</th>\n",
              "      <th>N_DE LOURDES</th>\n",
              "      <th>N_DO CABRAL</th>\n",
              "      <th>N_DO MOSCOSO</th>\n",
              "      <th>N_DO QUADRO</th>\n",
              "      <th>N_ENSEADA DO SUÃ</th>\n",
              "      <th>N_ESTRELINHA</th>\n",
              "      <th>N_FONTE GRANDE</th>\n",
              "      <th>N_FORTE SÃO JOÃO</th>\n",
              "      <th>N_FRADINHOS</th>\n",
              "      <th>N_GOIABEIRAS</th>\n",
              "      <th>N_GRANDE VITÃRIA</th>\n",
              "      <th>N_GURIGICA</th>\n",
              "      <th>N_HORTO</th>\n",
              "      <th>N_ILHA DAS CAIEIRAS</th>\n",
              "      <th>N_ILHA DE SANTA MARIA</th>\n",
              "      <th>N_ILHA DO BOI</th>\n",
              "      <th>N_ILHA DO FRADE</th>\n",
              "      <th>N_ILHA DO PRÃNCIPE</th>\n",
              "      <th>N_ILHAS OCEÃNICAS DE TRINDADE</th>\n",
              "      <th>N_INHANGUETÃ</th>\n",
              "      <th>N_ITARARÃ</th>\n",
              "      <th>N_JABOUR</th>\n",
              "      <th>N_JARDIM CAMBURI</th>\n",
              "      <th>N_JARDIM DA PENHA</th>\n",
              "      <th>N_JESUS DE NAZARETH</th>\n",
              "      <th>N_JOANA DÂ´ARC</th>\n",
              "      <th>N_JUCUTUQUARA</th>\n",
              "      <th>N_MARIA ORTIZ</th>\n",
              "      <th>N_MARUÃPE</th>\n",
              "      <th>N_MATA DA PRAIA</th>\n",
              "      <th>N_MONTE BELO</th>\n",
              "      <th>N_MORADA DE CAMBURI</th>\n",
              "      <th>N_MÃRIO CYPRESTE</th>\n",
              "      <th>N_NAZARETH</th>\n",
              "      <th>N_NOVA PALESTINA</th>\n",
              "      <th>N_PARQUE INDUSTRIAL</th>\n",
              "      <th>N_PARQUE MOSCOSO</th>\n",
              "      <th>N_PIEDADE</th>\n",
              "      <th>N_PONTAL DE CAMBURI</th>\n",
              "      <th>N_PRAIA DO CANTO</th>\n",
              "      <th>N_PRAIA DO SUÃ</th>\n",
              "      <th>N_REDENÃÃO</th>\n",
              "      <th>N_REPÃBLICA</th>\n",
              "      <th>N_RESISTÃNCIA</th>\n",
              "      <th>N_ROMÃO</th>\n",
              "      <th>N_SANTA CECÃLIA</th>\n",
              "      <th>N_SANTA CLARA</th>\n",
              "      <th>N_SANTA HELENA</th>\n",
              "      <th>N_SANTA LUÃZA</th>\n",
              "      <th>N_SANTA LÃCIA</th>\n",
              "      <th>N_SANTA MARTHA</th>\n",
              "      <th>N_SANTA TEREZA</th>\n",
              "      <th>N_SANTO ANDRÃ</th>\n",
              "      <th>N_SANTO ANTÃNIO</th>\n",
              "      <th>N_SANTOS DUMONT</th>\n",
              "      <th>N_SANTOS REIS</th>\n",
              "      <th>N_SEGURANÃA DO LAR</th>\n",
              "      <th>N_SOLON BORGES</th>\n",
              "      <th>N_SÃO BENEDITO</th>\n",
              "      <th>N_SÃO CRISTÃVÃO</th>\n",
              "      <th>N_SÃO JOSÃ</th>\n",
              "      <th>N_SÃO PEDRO</th>\n",
              "      <th>N_TABUAZEIRO</th>\n",
              "      <th>N_UNIVERSITÃRIO</th>\n",
              "      <th>N_VILA RUBIM</th>\n",
              "    </tr>\n",
              "  </thead>\n",
              "  <tbody>\n",
              "    <tr>\n",
              "      <th>0</th>\n",
              "      <td>0</td>\n",
              "      <td>62</td>\n",
              "      <td>0</td>\n",
              "      <td>1</td>\n",
              "      <td>0</td>\n",
              "      <td>0</td>\n",
              "      <td>0</td>\n",
              "      <td>0</td>\n",
              "      <td>No</td>\n",
              "      <td>0</td>\n",
              "      <td>29</td>\n",
              "      <td>4</td>\n",
              "      <td>0</td>\n",
              "      <td>Mulher</td>\n",
              "      <td>compareceu</td>\n",
              "      <td>0</td>\n",
              "      <td>0</td>\n",
              "      <td>0</td>\n",
              "      <td>0</td>\n",
              "      <td>0</td>\n",
              "      <td>0</td>\n",
              "      <td>0</td>\n",
              "      <td>0</td>\n",
              "      <td>0</td>\n",
              "      <td>0</td>\n",
              "      <td>0</td>\n",
              "      <td>0</td>\n",
              "      <td>0</td>\n",
              "      <td>0</td>\n",
              "      <td>0</td>\n",
              "      <td>0</td>\n",
              "      <td>0</td>\n",
              "      <td>0</td>\n",
              "      <td>0</td>\n",
              "      <td>0</td>\n",
              "      <td>0</td>\n",
              "      <td>0</td>\n",
              "      <td>0</td>\n",
              "      <td>0</td>\n",
              "      <td>0</td>\n",
              "      <td>0</td>\n",
              "      <td>0</td>\n",
              "      <td>0</td>\n",
              "      <td>0</td>\n",
              "      <td>0</td>\n",
              "      <td>0</td>\n",
              "      <td>0</td>\n",
              "      <td>0</td>\n",
              "      <td>0</td>\n",
              "      <td>0</td>\n",
              "      <td>0</td>\n",
              "      <td>0</td>\n",
              "      <td>0</td>\n",
              "      <td>0</td>\n",
              "      <td>1</td>\n",
              "      <td>0</td>\n",
              "      <td>0</td>\n",
              "      <td>0</td>\n",
              "      <td>0</td>\n",
              "      <td>0</td>\n",
              "      <td>0</td>\n",
              "      <td>0</td>\n",
              "      <td>0</td>\n",
              "      <td>0</td>\n",
              "      <td>0</td>\n",
              "      <td>0</td>\n",
              "      <td>0</td>\n",
              "      <td>0</td>\n",
              "      <td>0</td>\n",
              "      <td>0</td>\n",
              "      <td>0</td>\n",
              "      <td>0</td>\n",
              "      <td>0</td>\n",
              "      <td>0</td>\n",
              "      <td>0</td>\n",
              "      <td>0</td>\n",
              "      <td>0</td>\n",
              "      <td>0</td>\n",
              "      <td>0</td>\n",
              "      <td>0</td>\n",
              "      <td>0</td>\n",
              "      <td>0</td>\n",
              "      <td>0</td>\n",
              "      <td>0</td>\n",
              "      <td>0</td>\n",
              "      <td>0</td>\n",
              "      <td>0</td>\n",
              "      <td>0</td>\n",
              "      <td>0</td>\n",
              "      <td>0</td>\n",
              "      <td>0</td>\n",
              "      <td>0</td>\n",
              "      <td>0</td>\n",
              "      <td>0</td>\n",
              "      <td>0</td>\n",
              "      <td>0</td>\n",
              "    </tr>\n",
              "    <tr>\n",
              "      <th>1</th>\n",
              "      <td>1</td>\n",
              "      <td>56</td>\n",
              "      <td>0</td>\n",
              "      <td>0</td>\n",
              "      <td>0</td>\n",
              "      <td>0</td>\n",
              "      <td>0</td>\n",
              "      <td>0</td>\n",
              "      <td>No</td>\n",
              "      <td>0</td>\n",
              "      <td>29</td>\n",
              "      <td>4</td>\n",
              "      <td>0</td>\n",
              "      <td>Homem</td>\n",
              "      <td>compareceu</td>\n",
              "      <td>0</td>\n",
              "      <td>0</td>\n",
              "      <td>0</td>\n",
              "      <td>0</td>\n",
              "      <td>0</td>\n",
              "      <td>0</td>\n",
              "      <td>0</td>\n",
              "      <td>0</td>\n",
              "      <td>0</td>\n",
              "      <td>0</td>\n",
              "      <td>0</td>\n",
              "      <td>0</td>\n",
              "      <td>0</td>\n",
              "      <td>0</td>\n",
              "      <td>0</td>\n",
              "      <td>0</td>\n",
              "      <td>0</td>\n",
              "      <td>0</td>\n",
              "      <td>0</td>\n",
              "      <td>0</td>\n",
              "      <td>0</td>\n",
              "      <td>0</td>\n",
              "      <td>0</td>\n",
              "      <td>0</td>\n",
              "      <td>0</td>\n",
              "      <td>0</td>\n",
              "      <td>0</td>\n",
              "      <td>0</td>\n",
              "      <td>0</td>\n",
              "      <td>0</td>\n",
              "      <td>0</td>\n",
              "      <td>0</td>\n",
              "      <td>0</td>\n",
              "      <td>0</td>\n",
              "      <td>0</td>\n",
              "      <td>0</td>\n",
              "      <td>0</td>\n",
              "      <td>0</td>\n",
              "      <td>0</td>\n",
              "      <td>1</td>\n",
              "      <td>0</td>\n",
              "      <td>0</td>\n",
              "      <td>0</td>\n",
              "      <td>0</td>\n",
              "      <td>0</td>\n",
              "      <td>0</td>\n",
              "      <td>0</td>\n",
              "      <td>0</td>\n",
              "      <td>0</td>\n",
              "      <td>0</td>\n",
              "      <td>0</td>\n",
              "      <td>0</td>\n",
              "      <td>0</td>\n",
              "      <td>0</td>\n",
              "      <td>0</td>\n",
              "      <td>0</td>\n",
              "      <td>0</td>\n",
              "      <td>0</td>\n",
              "      <td>0</td>\n",
              "      <td>0</td>\n",
              "      <td>0</td>\n",
              "      <td>0</td>\n",
              "      <td>0</td>\n",
              "      <td>0</td>\n",
              "      <td>0</td>\n",
              "      <td>0</td>\n",
              "      <td>0</td>\n",
              "      <td>0</td>\n",
              "      <td>0</td>\n",
              "      <td>0</td>\n",
              "      <td>0</td>\n",
              "      <td>0</td>\n",
              "      <td>0</td>\n",
              "      <td>0</td>\n",
              "      <td>0</td>\n",
              "      <td>0</td>\n",
              "      <td>0</td>\n",
              "      <td>0</td>\n",
              "      <td>0</td>\n",
              "      <td>0</td>\n",
              "      <td>0</td>\n",
              "    </tr>\n",
              "    <tr>\n",
              "      <th>2</th>\n",
              "      <td>0</td>\n",
              "      <td>62</td>\n",
              "      <td>0</td>\n",
              "      <td>0</td>\n",
              "      <td>0</td>\n",
              "      <td>0</td>\n",
              "      <td>0</td>\n",
              "      <td>0</td>\n",
              "      <td>No</td>\n",
              "      <td>0</td>\n",
              "      <td>29</td>\n",
              "      <td>4</td>\n",
              "      <td>0</td>\n",
              "      <td>Mulher</td>\n",
              "      <td>compareceu</td>\n",
              "      <td>0</td>\n",
              "      <td>0</td>\n",
              "      <td>0</td>\n",
              "      <td>0</td>\n",
              "      <td>0</td>\n",
              "      <td>0</td>\n",
              "      <td>0</td>\n",
              "      <td>0</td>\n",
              "      <td>0</td>\n",
              "      <td>0</td>\n",
              "      <td>0</td>\n",
              "      <td>0</td>\n",
              "      <td>0</td>\n",
              "      <td>0</td>\n",
              "      <td>0</td>\n",
              "      <td>0</td>\n",
              "      <td>0</td>\n",
              "      <td>0</td>\n",
              "      <td>0</td>\n",
              "      <td>0</td>\n",
              "      <td>0</td>\n",
              "      <td>0</td>\n",
              "      <td>0</td>\n",
              "      <td>0</td>\n",
              "      <td>0</td>\n",
              "      <td>0</td>\n",
              "      <td>0</td>\n",
              "      <td>0</td>\n",
              "      <td>0</td>\n",
              "      <td>0</td>\n",
              "      <td>0</td>\n",
              "      <td>0</td>\n",
              "      <td>0</td>\n",
              "      <td>0</td>\n",
              "      <td>0</td>\n",
              "      <td>0</td>\n",
              "      <td>0</td>\n",
              "      <td>0</td>\n",
              "      <td>0</td>\n",
              "      <td>0</td>\n",
              "      <td>0</td>\n",
              "      <td>0</td>\n",
              "      <td>0</td>\n",
              "      <td>0</td>\n",
              "      <td>0</td>\n",
              "      <td>1</td>\n",
              "      <td>0</td>\n",
              "      <td>0</td>\n",
              "      <td>0</td>\n",
              "      <td>0</td>\n",
              "      <td>0</td>\n",
              "      <td>0</td>\n",
              "      <td>0</td>\n",
              "      <td>0</td>\n",
              "      <td>0</td>\n",
              "      <td>0</td>\n",
              "      <td>0</td>\n",
              "      <td>0</td>\n",
              "      <td>0</td>\n",
              "      <td>0</td>\n",
              "      <td>0</td>\n",
              "      <td>0</td>\n",
              "      <td>0</td>\n",
              "      <td>0</td>\n",
              "      <td>0</td>\n",
              "      <td>0</td>\n",
              "      <td>0</td>\n",
              "      <td>0</td>\n",
              "      <td>0</td>\n",
              "      <td>0</td>\n",
              "      <td>0</td>\n",
              "      <td>0</td>\n",
              "      <td>0</td>\n",
              "      <td>0</td>\n",
              "      <td>0</td>\n",
              "      <td>0</td>\n",
              "      <td>0</td>\n",
              "      <td>0</td>\n",
              "      <td>0</td>\n",
              "      <td>0</td>\n",
              "      <td>0</td>\n",
              "    </tr>\n",
              "    <tr>\n",
              "      <th>3</th>\n",
              "      <td>0</td>\n",
              "      <td>8</td>\n",
              "      <td>0</td>\n",
              "      <td>0</td>\n",
              "      <td>0</td>\n",
              "      <td>0</td>\n",
              "      <td>0</td>\n",
              "      <td>0</td>\n",
              "      <td>No</td>\n",
              "      <td>0</td>\n",
              "      <td>29</td>\n",
              "      <td>4</td>\n",
              "      <td>0</td>\n",
              "      <td>Mulher</td>\n",
              "      <td>compareceu</td>\n",
              "      <td>0</td>\n",
              "      <td>0</td>\n",
              "      <td>0</td>\n",
              "      <td>0</td>\n",
              "      <td>0</td>\n",
              "      <td>0</td>\n",
              "      <td>0</td>\n",
              "      <td>0</td>\n",
              "      <td>0</td>\n",
              "      <td>0</td>\n",
              "      <td>0</td>\n",
              "      <td>0</td>\n",
              "      <td>0</td>\n",
              "      <td>0</td>\n",
              "      <td>0</td>\n",
              "      <td>0</td>\n",
              "      <td>0</td>\n",
              "      <td>0</td>\n",
              "      <td>0</td>\n",
              "      <td>0</td>\n",
              "      <td>0</td>\n",
              "      <td>0</td>\n",
              "      <td>0</td>\n",
              "      <td>0</td>\n",
              "      <td>0</td>\n",
              "      <td>0</td>\n",
              "      <td>0</td>\n",
              "      <td>0</td>\n",
              "      <td>0</td>\n",
              "      <td>0</td>\n",
              "      <td>0</td>\n",
              "      <td>0</td>\n",
              "      <td>0</td>\n",
              "      <td>0</td>\n",
              "      <td>0</td>\n",
              "      <td>0</td>\n",
              "      <td>0</td>\n",
              "      <td>0</td>\n",
              "      <td>0</td>\n",
              "      <td>0</td>\n",
              "      <td>0</td>\n",
              "      <td>0</td>\n",
              "      <td>0</td>\n",
              "      <td>0</td>\n",
              "      <td>0</td>\n",
              "      <td>0</td>\n",
              "      <td>0</td>\n",
              "      <td>0</td>\n",
              "      <td>0</td>\n",
              "      <td>0</td>\n",
              "      <td>0</td>\n",
              "      <td>0</td>\n",
              "      <td>0</td>\n",
              "      <td>0</td>\n",
              "      <td>1</td>\n",
              "      <td>0</td>\n",
              "      <td>0</td>\n",
              "      <td>0</td>\n",
              "      <td>0</td>\n",
              "      <td>0</td>\n",
              "      <td>0</td>\n",
              "      <td>0</td>\n",
              "      <td>0</td>\n",
              "      <td>0</td>\n",
              "      <td>0</td>\n",
              "      <td>0</td>\n",
              "      <td>0</td>\n",
              "      <td>0</td>\n",
              "      <td>0</td>\n",
              "      <td>0</td>\n",
              "      <td>0</td>\n",
              "      <td>0</td>\n",
              "      <td>0</td>\n",
              "      <td>0</td>\n",
              "      <td>0</td>\n",
              "      <td>0</td>\n",
              "      <td>0</td>\n",
              "      <td>0</td>\n",
              "      <td>0</td>\n",
              "      <td>0</td>\n",
              "      <td>0</td>\n",
              "    </tr>\n",
              "    <tr>\n",
              "      <th>4</th>\n",
              "      <td>0</td>\n",
              "      <td>56</td>\n",
              "      <td>0</td>\n",
              "      <td>1</td>\n",
              "      <td>1</td>\n",
              "      <td>0</td>\n",
              "      <td>0</td>\n",
              "      <td>0</td>\n",
              "      <td>No</td>\n",
              "      <td>0</td>\n",
              "      <td>29</td>\n",
              "      <td>4</td>\n",
              "      <td>0</td>\n",
              "      <td>Mulher</td>\n",
              "      <td>compareceu</td>\n",
              "      <td>0</td>\n",
              "      <td>0</td>\n",
              "      <td>0</td>\n",
              "      <td>0</td>\n",
              "      <td>0</td>\n",
              "      <td>0</td>\n",
              "      <td>0</td>\n",
              "      <td>0</td>\n",
              "      <td>0</td>\n",
              "      <td>0</td>\n",
              "      <td>0</td>\n",
              "      <td>0</td>\n",
              "      <td>0</td>\n",
              "      <td>0</td>\n",
              "      <td>0</td>\n",
              "      <td>0</td>\n",
              "      <td>0</td>\n",
              "      <td>0</td>\n",
              "      <td>0</td>\n",
              "      <td>0</td>\n",
              "      <td>0</td>\n",
              "      <td>0</td>\n",
              "      <td>0</td>\n",
              "      <td>0</td>\n",
              "      <td>0</td>\n",
              "      <td>0</td>\n",
              "      <td>0</td>\n",
              "      <td>0</td>\n",
              "      <td>0</td>\n",
              "      <td>0</td>\n",
              "      <td>0</td>\n",
              "      <td>0</td>\n",
              "      <td>0</td>\n",
              "      <td>0</td>\n",
              "      <td>0</td>\n",
              "      <td>0</td>\n",
              "      <td>0</td>\n",
              "      <td>0</td>\n",
              "      <td>0</td>\n",
              "      <td>1</td>\n",
              "      <td>0</td>\n",
              "      <td>0</td>\n",
              "      <td>0</td>\n",
              "      <td>0</td>\n",
              "      <td>0</td>\n",
              "      <td>0</td>\n",
              "      <td>0</td>\n",
              "      <td>0</td>\n",
              "      <td>0</td>\n",
              "      <td>0</td>\n",
              "      <td>0</td>\n",
              "      <td>0</td>\n",
              "      <td>0</td>\n",
              "      <td>0</td>\n",
              "      <td>0</td>\n",
              "      <td>0</td>\n",
              "      <td>0</td>\n",
              "      <td>0</td>\n",
              "      <td>0</td>\n",
              "      <td>0</td>\n",
              "      <td>0</td>\n",
              "      <td>0</td>\n",
              "      <td>0</td>\n",
              "      <td>0</td>\n",
              "      <td>0</td>\n",
              "      <td>0</td>\n",
              "      <td>0</td>\n",
              "      <td>0</td>\n",
              "      <td>0</td>\n",
              "      <td>0</td>\n",
              "      <td>0</td>\n",
              "      <td>0</td>\n",
              "      <td>0</td>\n",
              "      <td>0</td>\n",
              "      <td>0</td>\n",
              "      <td>0</td>\n",
              "      <td>0</td>\n",
              "      <td>0</td>\n",
              "      <td>0</td>\n",
              "      <td>0</td>\n",
              "      <td>0</td>\n",
              "    </tr>\n",
              "    <tr>\n",
              "      <th>...</th>\n",
              "      <td>...</td>\n",
              "      <td>...</td>\n",
              "      <td>...</td>\n",
              "      <td>...</td>\n",
              "      <td>...</td>\n",
              "      <td>...</td>\n",
              "      <td>...</td>\n",
              "      <td>...</td>\n",
              "      <td>...</td>\n",
              "      <td>...</td>\n",
              "      <td>...</td>\n",
              "      <td>...</td>\n",
              "      <td>...</td>\n",
              "      <td>...</td>\n",
              "      <td>...</td>\n",
              "      <td>...</td>\n",
              "      <td>...</td>\n",
              "      <td>...</td>\n",
              "      <td>...</td>\n",
              "      <td>...</td>\n",
              "      <td>...</td>\n",
              "      <td>...</td>\n",
              "      <td>...</td>\n",
              "      <td>...</td>\n",
              "      <td>...</td>\n",
              "      <td>...</td>\n",
              "      <td>...</td>\n",
              "      <td>...</td>\n",
              "      <td>...</td>\n",
              "      <td>...</td>\n",
              "      <td>...</td>\n",
              "      <td>...</td>\n",
              "      <td>...</td>\n",
              "      <td>...</td>\n",
              "      <td>...</td>\n",
              "      <td>...</td>\n",
              "      <td>...</td>\n",
              "      <td>...</td>\n",
              "      <td>...</td>\n",
              "      <td>...</td>\n",
              "      <td>...</td>\n",
              "      <td>...</td>\n",
              "      <td>...</td>\n",
              "      <td>...</td>\n",
              "      <td>...</td>\n",
              "      <td>...</td>\n",
              "      <td>...</td>\n",
              "      <td>...</td>\n",
              "      <td>...</td>\n",
              "      <td>...</td>\n",
              "      <td>...</td>\n",
              "      <td>...</td>\n",
              "      <td>...</td>\n",
              "      <td>...</td>\n",
              "      <td>...</td>\n",
              "      <td>...</td>\n",
              "      <td>...</td>\n",
              "      <td>...</td>\n",
              "      <td>...</td>\n",
              "      <td>...</td>\n",
              "      <td>...</td>\n",
              "      <td>...</td>\n",
              "      <td>...</td>\n",
              "      <td>...</td>\n",
              "      <td>...</td>\n",
              "      <td>...</td>\n",
              "      <td>...</td>\n",
              "      <td>...</td>\n",
              "      <td>...</td>\n",
              "      <td>...</td>\n",
              "      <td>...</td>\n",
              "      <td>...</td>\n",
              "      <td>...</td>\n",
              "      <td>...</td>\n",
              "      <td>...</td>\n",
              "      <td>...</td>\n",
              "      <td>...</td>\n",
              "      <td>...</td>\n",
              "      <td>...</td>\n",
              "      <td>...</td>\n",
              "      <td>...</td>\n",
              "      <td>...</td>\n",
              "      <td>...</td>\n",
              "      <td>...</td>\n",
              "      <td>...</td>\n",
              "      <td>...</td>\n",
              "      <td>...</td>\n",
              "      <td>...</td>\n",
              "      <td>...</td>\n",
              "      <td>...</td>\n",
              "      <td>...</td>\n",
              "      <td>...</td>\n",
              "      <td>...</td>\n",
              "      <td>...</td>\n",
              "      <td>...</td>\n",
              "      <td>...</td>\n",
              "    </tr>\n",
              "    <tr>\n",
              "      <th>110522</th>\n",
              "      <td>0</td>\n",
              "      <td>56</td>\n",
              "      <td>0</td>\n",
              "      <td>0</td>\n",
              "      <td>0</td>\n",
              "      <td>0</td>\n",
              "      <td>0</td>\n",
              "      <td>1</td>\n",
              "      <td>No</td>\n",
              "      <td>34</td>\n",
              "      <td>7</td>\n",
              "      <td>6</td>\n",
              "      <td>0</td>\n",
              "      <td>Mulher</td>\n",
              "      <td>compareceu</td>\n",
              "      <td>0</td>\n",
              "      <td>0</td>\n",
              "      <td>0</td>\n",
              "      <td>0</td>\n",
              "      <td>0</td>\n",
              "      <td>0</td>\n",
              "      <td>0</td>\n",
              "      <td>0</td>\n",
              "      <td>0</td>\n",
              "      <td>0</td>\n",
              "      <td>0</td>\n",
              "      <td>0</td>\n",
              "      <td>0</td>\n",
              "      <td>0</td>\n",
              "      <td>0</td>\n",
              "      <td>0</td>\n",
              "      <td>0</td>\n",
              "      <td>0</td>\n",
              "      <td>0</td>\n",
              "      <td>0</td>\n",
              "      <td>0</td>\n",
              "      <td>0</td>\n",
              "      <td>0</td>\n",
              "      <td>0</td>\n",
              "      <td>0</td>\n",
              "      <td>0</td>\n",
              "      <td>0</td>\n",
              "      <td>0</td>\n",
              "      <td>0</td>\n",
              "      <td>0</td>\n",
              "      <td>0</td>\n",
              "      <td>0</td>\n",
              "      <td>0</td>\n",
              "      <td>0</td>\n",
              "      <td>0</td>\n",
              "      <td>0</td>\n",
              "      <td>0</td>\n",
              "      <td>0</td>\n",
              "      <td>0</td>\n",
              "      <td>0</td>\n",
              "      <td>0</td>\n",
              "      <td>0</td>\n",
              "      <td>0</td>\n",
              "      <td>1</td>\n",
              "      <td>0</td>\n",
              "      <td>0</td>\n",
              "      <td>0</td>\n",
              "      <td>0</td>\n",
              "      <td>0</td>\n",
              "      <td>0</td>\n",
              "      <td>0</td>\n",
              "      <td>0</td>\n",
              "      <td>0</td>\n",
              "      <td>0</td>\n",
              "      <td>0</td>\n",
              "      <td>0</td>\n",
              "      <td>0</td>\n",
              "      <td>0</td>\n",
              "      <td>0</td>\n",
              "      <td>0</td>\n",
              "      <td>0</td>\n",
              "      <td>0</td>\n",
              "      <td>0</td>\n",
              "      <td>0</td>\n",
              "      <td>0</td>\n",
              "      <td>0</td>\n",
              "      <td>0</td>\n",
              "      <td>0</td>\n",
              "      <td>0</td>\n",
              "      <td>0</td>\n",
              "      <td>0</td>\n",
              "      <td>0</td>\n",
              "      <td>0</td>\n",
              "      <td>0</td>\n",
              "      <td>0</td>\n",
              "      <td>0</td>\n",
              "      <td>0</td>\n",
              "      <td>0</td>\n",
              "      <td>0</td>\n",
              "      <td>0</td>\n",
              "      <td>0</td>\n",
              "    </tr>\n",
              "    <tr>\n",
              "      <th>110523</th>\n",
              "      <td>0</td>\n",
              "      <td>51</td>\n",
              "      <td>0</td>\n",
              "      <td>0</td>\n",
              "      <td>0</td>\n",
              "      <td>0</td>\n",
              "      <td>0</td>\n",
              "      <td>1</td>\n",
              "      <td>No</td>\n",
              "      <td>34</td>\n",
              "      <td>7</td>\n",
              "      <td>6</td>\n",
              "      <td>0</td>\n",
              "      <td>Mulher</td>\n",
              "      <td>compareceu</td>\n",
              "      <td>0</td>\n",
              "      <td>0</td>\n",
              "      <td>0</td>\n",
              "      <td>0</td>\n",
              "      <td>0</td>\n",
              "      <td>0</td>\n",
              "      <td>0</td>\n",
              "      <td>0</td>\n",
              "      <td>0</td>\n",
              "      <td>0</td>\n",
              "      <td>0</td>\n",
              "      <td>0</td>\n",
              "      <td>0</td>\n",
              "      <td>0</td>\n",
              "      <td>0</td>\n",
              "      <td>0</td>\n",
              "      <td>0</td>\n",
              "      <td>0</td>\n",
              "      <td>0</td>\n",
              "      <td>0</td>\n",
              "      <td>0</td>\n",
              "      <td>0</td>\n",
              "      <td>0</td>\n",
              "      <td>0</td>\n",
              "      <td>0</td>\n",
              "      <td>0</td>\n",
              "      <td>0</td>\n",
              "      <td>0</td>\n",
              "      <td>0</td>\n",
              "      <td>0</td>\n",
              "      <td>0</td>\n",
              "      <td>0</td>\n",
              "      <td>0</td>\n",
              "      <td>0</td>\n",
              "      <td>0</td>\n",
              "      <td>0</td>\n",
              "      <td>0</td>\n",
              "      <td>0</td>\n",
              "      <td>0</td>\n",
              "      <td>0</td>\n",
              "      <td>0</td>\n",
              "      <td>0</td>\n",
              "      <td>0</td>\n",
              "      <td>1</td>\n",
              "      <td>0</td>\n",
              "      <td>0</td>\n",
              "      <td>0</td>\n",
              "      <td>0</td>\n",
              "      <td>0</td>\n",
              "      <td>0</td>\n",
              "      <td>0</td>\n",
              "      <td>0</td>\n",
              "      <td>0</td>\n",
              "      <td>0</td>\n",
              "      <td>0</td>\n",
              "      <td>0</td>\n",
              "      <td>0</td>\n",
              "      <td>0</td>\n",
              "      <td>0</td>\n",
              "      <td>0</td>\n",
              "      <td>0</td>\n",
              "      <td>0</td>\n",
              "      <td>0</td>\n",
              "      <td>0</td>\n",
              "      <td>0</td>\n",
              "      <td>0</td>\n",
              "      <td>0</td>\n",
              "      <td>0</td>\n",
              "      <td>0</td>\n",
              "      <td>0</td>\n",
              "      <td>0</td>\n",
              "      <td>0</td>\n",
              "      <td>0</td>\n",
              "      <td>0</td>\n",
              "      <td>0</td>\n",
              "      <td>0</td>\n",
              "      <td>0</td>\n",
              "      <td>0</td>\n",
              "      <td>0</td>\n",
              "      <td>0</td>\n",
              "      <td>0</td>\n",
              "    </tr>\n",
              "    <tr>\n",
              "      <th>110524</th>\n",
              "      <td>0</td>\n",
              "      <td>21</td>\n",
              "      <td>0</td>\n",
              "      <td>0</td>\n",
              "      <td>0</td>\n",
              "      <td>0</td>\n",
              "      <td>0</td>\n",
              "      <td>1</td>\n",
              "      <td>No</td>\n",
              "      <td>40</td>\n",
              "      <td>7</td>\n",
              "      <td>6</td>\n",
              "      <td>0</td>\n",
              "      <td>Mulher</td>\n",
              "      <td>compareceu</td>\n",
              "      <td>0</td>\n",
              "      <td>0</td>\n",
              "      <td>0</td>\n",
              "      <td>0</td>\n",
              "      <td>0</td>\n",
              "      <td>0</td>\n",
              "      <td>0</td>\n",
              "      <td>0</td>\n",
              "      <td>0</td>\n",
              "      <td>0</td>\n",
              "      <td>0</td>\n",
              "      <td>0</td>\n",
              "      <td>0</td>\n",
              "      <td>0</td>\n",
              "      <td>0</td>\n",
              "      <td>0</td>\n",
              "      <td>0</td>\n",
              "      <td>0</td>\n",
              "      <td>0</td>\n",
              "      <td>0</td>\n",
              "      <td>0</td>\n",
              "      <td>0</td>\n",
              "      <td>0</td>\n",
              "      <td>0</td>\n",
              "      <td>0</td>\n",
              "      <td>0</td>\n",
              "      <td>0</td>\n",
              "      <td>0</td>\n",
              "      <td>0</td>\n",
              "      <td>0</td>\n",
              "      <td>0</td>\n",
              "      <td>0</td>\n",
              "      <td>0</td>\n",
              "      <td>0</td>\n",
              "      <td>0</td>\n",
              "      <td>0</td>\n",
              "      <td>0</td>\n",
              "      <td>0</td>\n",
              "      <td>0</td>\n",
              "      <td>0</td>\n",
              "      <td>0</td>\n",
              "      <td>0</td>\n",
              "      <td>0</td>\n",
              "      <td>1</td>\n",
              "      <td>0</td>\n",
              "      <td>0</td>\n",
              "      <td>0</td>\n",
              "      <td>0</td>\n",
              "      <td>0</td>\n",
              "      <td>0</td>\n",
              "      <td>0</td>\n",
              "      <td>0</td>\n",
              "      <td>0</td>\n",
              "      <td>0</td>\n",
              "      <td>0</td>\n",
              "      <td>0</td>\n",
              "      <td>0</td>\n",
              "      <td>0</td>\n",
              "      <td>0</td>\n",
              "      <td>0</td>\n",
              "      <td>0</td>\n",
              "      <td>0</td>\n",
              "      <td>0</td>\n",
              "      <td>0</td>\n",
              "      <td>0</td>\n",
              "      <td>0</td>\n",
              "      <td>0</td>\n",
              "      <td>0</td>\n",
              "      <td>0</td>\n",
              "      <td>0</td>\n",
              "      <td>0</td>\n",
              "      <td>0</td>\n",
              "      <td>0</td>\n",
              "      <td>0</td>\n",
              "      <td>0</td>\n",
              "      <td>0</td>\n",
              "      <td>0</td>\n",
              "      <td>0</td>\n",
              "      <td>0</td>\n",
              "      <td>0</td>\n",
              "      <td>0</td>\n",
              "    </tr>\n",
              "    <tr>\n",
              "      <th>110525</th>\n",
              "      <td>0</td>\n",
              "      <td>38</td>\n",
              "      <td>0</td>\n",
              "      <td>0</td>\n",
              "      <td>0</td>\n",
              "      <td>0</td>\n",
              "      <td>0</td>\n",
              "      <td>1</td>\n",
              "      <td>No</td>\n",
              "      <td>40</td>\n",
              "      <td>7</td>\n",
              "      <td>6</td>\n",
              "      <td>0</td>\n",
              "      <td>Mulher</td>\n",
              "      <td>compareceu</td>\n",
              "      <td>0</td>\n",
              "      <td>0</td>\n",
              "      <td>0</td>\n",
              "      <td>0</td>\n",
              "      <td>0</td>\n",
              "      <td>0</td>\n",
              "      <td>0</td>\n",
              "      <td>0</td>\n",
              "      <td>0</td>\n",
              "      <td>0</td>\n",
              "      <td>0</td>\n",
              "      <td>0</td>\n",
              "      <td>0</td>\n",
              "      <td>0</td>\n",
              "      <td>0</td>\n",
              "      <td>0</td>\n",
              "      <td>0</td>\n",
              "      <td>0</td>\n",
              "      <td>0</td>\n",
              "      <td>0</td>\n",
              "      <td>0</td>\n",
              "      <td>0</td>\n",
              "      <td>0</td>\n",
              "      <td>0</td>\n",
              "      <td>0</td>\n",
              "      <td>0</td>\n",
              "      <td>0</td>\n",
              "      <td>0</td>\n",
              "      <td>0</td>\n",
              "      <td>0</td>\n",
              "      <td>0</td>\n",
              "      <td>0</td>\n",
              "      <td>0</td>\n",
              "      <td>0</td>\n",
              "      <td>0</td>\n",
              "      <td>0</td>\n",
              "      <td>0</td>\n",
              "      <td>0</td>\n",
              "      <td>0</td>\n",
              "      <td>0</td>\n",
              "      <td>0</td>\n",
              "      <td>0</td>\n",
              "      <td>0</td>\n",
              "      <td>1</td>\n",
              "      <td>0</td>\n",
              "      <td>0</td>\n",
              "      <td>0</td>\n",
              "      <td>0</td>\n",
              "      <td>0</td>\n",
              "      <td>0</td>\n",
              "      <td>0</td>\n",
              "      <td>0</td>\n",
              "      <td>0</td>\n",
              "      <td>0</td>\n",
              "      <td>0</td>\n",
              "      <td>0</td>\n",
              "      <td>0</td>\n",
              "      <td>0</td>\n",
              "      <td>0</td>\n",
              "      <td>0</td>\n",
              "      <td>0</td>\n",
              "      <td>0</td>\n",
              "      <td>0</td>\n",
              "      <td>0</td>\n",
              "      <td>0</td>\n",
              "      <td>0</td>\n",
              "      <td>0</td>\n",
              "      <td>0</td>\n",
              "      <td>0</td>\n",
              "      <td>0</td>\n",
              "      <td>0</td>\n",
              "      <td>0</td>\n",
              "      <td>0</td>\n",
              "      <td>0</td>\n",
              "      <td>0</td>\n",
              "      <td>0</td>\n",
              "      <td>0</td>\n",
              "      <td>0</td>\n",
              "      <td>0</td>\n",
              "      <td>0</td>\n",
              "      <td>0</td>\n",
              "    </tr>\n",
              "    <tr>\n",
              "      <th>110526</th>\n",
              "      <td>0</td>\n",
              "      <td>54</td>\n",
              "      <td>0</td>\n",
              "      <td>0</td>\n",
              "      <td>0</td>\n",
              "      <td>0</td>\n",
              "      <td>0</td>\n",
              "      <td>1</td>\n",
              "      <td>No</td>\n",
              "      <td>40</td>\n",
              "      <td>7</td>\n",
              "      <td>6</td>\n",
              "      <td>0</td>\n",
              "      <td>Mulher</td>\n",
              "      <td>compareceu</td>\n",
              "      <td>0</td>\n",
              "      <td>0</td>\n",
              "      <td>0</td>\n",
              "      <td>0</td>\n",
              "      <td>0</td>\n",
              "      <td>0</td>\n",
              "      <td>0</td>\n",
              "      <td>0</td>\n",
              "      <td>0</td>\n",
              "      <td>0</td>\n",
              "      <td>0</td>\n",
              "      <td>0</td>\n",
              "      <td>0</td>\n",
              "      <td>0</td>\n",
              "      <td>0</td>\n",
              "      <td>0</td>\n",
              "      <td>0</td>\n",
              "      <td>0</td>\n",
              "      <td>0</td>\n",
              "      <td>0</td>\n",
              "      <td>0</td>\n",
              "      <td>0</td>\n",
              "      <td>0</td>\n",
              "      <td>0</td>\n",
              "      <td>0</td>\n",
              "      <td>0</td>\n",
              "      <td>0</td>\n",
              "      <td>0</td>\n",
              "      <td>0</td>\n",
              "      <td>0</td>\n",
              "      <td>0</td>\n",
              "      <td>0</td>\n",
              "      <td>0</td>\n",
              "      <td>0</td>\n",
              "      <td>0</td>\n",
              "      <td>0</td>\n",
              "      <td>0</td>\n",
              "      <td>0</td>\n",
              "      <td>0</td>\n",
              "      <td>0</td>\n",
              "      <td>0</td>\n",
              "      <td>0</td>\n",
              "      <td>0</td>\n",
              "      <td>1</td>\n",
              "      <td>0</td>\n",
              "      <td>0</td>\n",
              "      <td>0</td>\n",
              "      <td>0</td>\n",
              "      <td>0</td>\n",
              "      <td>0</td>\n",
              "      <td>0</td>\n",
              "      <td>0</td>\n",
              "      <td>0</td>\n",
              "      <td>0</td>\n",
              "      <td>0</td>\n",
              "      <td>0</td>\n",
              "      <td>0</td>\n",
              "      <td>0</td>\n",
              "      <td>0</td>\n",
              "      <td>0</td>\n",
              "      <td>0</td>\n",
              "      <td>0</td>\n",
              "      <td>0</td>\n",
              "      <td>0</td>\n",
              "      <td>0</td>\n",
              "      <td>0</td>\n",
              "      <td>0</td>\n",
              "      <td>0</td>\n",
              "      <td>0</td>\n",
              "      <td>0</td>\n",
              "      <td>0</td>\n",
              "      <td>0</td>\n",
              "      <td>0</td>\n",
              "      <td>0</td>\n",
              "      <td>0</td>\n",
              "      <td>0</td>\n",
              "      <td>0</td>\n",
              "      <td>0</td>\n",
              "      <td>0</td>\n",
              "      <td>0</td>\n",
              "      <td>0</td>\n",
              "    </tr>\n",
              "  </tbody>\n",
              "</table>\n",
              "<p>107853 rows × 96 columns</p>\n",
              "</div>"
            ],
            "text/plain": [
              "        Gender  Age Scholarship Hipertension Diabetes Alcoholism Handcap  \\\n",
              "0            0   62           0            1        0          0       0   \n",
              "1            1   56           0            0        0          0       0   \n",
              "2            0   62           0            0        0          0       0   \n",
              "3            0    8           0            0        0          0       0   \n",
              "4            0   56           0            1        1          0       0   \n",
              "...        ...  ...         ...          ...      ...        ...     ...   \n",
              "110522       0   56           0            0        0          0       0   \n",
              "110523       0   51           0            0        0          0       0   \n",
              "110524       0   21           0            0        0          0       0   \n",
              "110525       0   38           0            0        0          0       0   \n",
              "110526       0   54           0            0        0          0       0   \n",
              "\n",
              "       SMS_received No-show  WaitingTime  Day  Month  Class    Sexo  \\\n",
              "0                 0      No            0   29      4      0  Mulher   \n",
              "1                 0      No            0   29      4      0   Homem   \n",
              "2                 0      No            0   29      4      0  Mulher   \n",
              "3                 0      No            0   29      4      0  Mulher   \n",
              "4                 0      No            0   29      4      0  Mulher   \n",
              "...             ...     ...          ...  ...    ...    ...     ...   \n",
              "110522            1      No           34    7      6      0  Mulher   \n",
              "110523            1      No           34    7      6      0  Mulher   \n",
              "110524            1      No           40    7      6      0  Mulher   \n",
              "110525            1      No           40    7      6      0  Mulher   \n",
              "110526            1      No           40    7      6      0  Mulher   \n",
              "\n",
              "            Status  N_AEROPORTO  N_ANDORINHAS  N_ANTÃNIO HONÃRIO  \\\n",
              "0       compareceu            0             0                    0   \n",
              "1       compareceu            0             0                    0   \n",
              "2       compareceu            0             0                    0   \n",
              "3       compareceu            0             0                    0   \n",
              "4       compareceu            0             0                    0   \n",
              "...            ...          ...           ...                  ...   \n",
              "110522  compareceu            0             0                    0   \n",
              "110523  compareceu            0             0                    0   \n",
              "110524  compareceu            0             0                    0   \n",
              "110525  compareceu            0             0                    0   \n",
              "110526  compareceu            0             0                    0   \n",
              "\n",
              "        N_ARIOVALDO FAVALESSA  N_BARRO VERMELHO  N_BELA VISTA  \\\n",
              "0                           0                 0             0   \n",
              "1                           0                 0             0   \n",
              "2                           0                 0             0   \n",
              "3                           0                 0             0   \n",
              "4                           0                 0             0   \n",
              "...                       ...               ...           ...   \n",
              "110522                      0                 0             0   \n",
              "110523                      0                 0             0   \n",
              "110524                      0                 0             0   \n",
              "110525                      0                 0             0   \n",
              "110526                      0                 0             0   \n",
              "\n",
              "        N_BENTO FERREIRA  N_BOA VISTA  N_BONFIM  N_CARATOÃRA  N_CENTRO  \\\n",
              "0                      0            0         0             0         0   \n",
              "1                      0            0         0             0         0   \n",
              "2                      0            0         0             0         0   \n",
              "3                      0            0         0             0         0   \n",
              "4                      0            0         0             0         0   \n",
              "...                  ...          ...       ...           ...       ...   \n",
              "110522                 0            0         0             0         0   \n",
              "110523                 0            0         0             0         0   \n",
              "110524                 0            0         0             0         0   \n",
              "110525                 0            0         0             0         0   \n",
              "110526                 0            0         0             0         0   \n",
              "\n",
              "        N_COMDUSA  N_CONQUISTA  N_CONSOLAÃÃO  N_CRUZAMENTO  N_DA PENHA  \\\n",
              "0               0            0               0             0           0   \n",
              "1               0            0               0             0           0   \n",
              "2               0            0               0             0           0   \n",
              "3               0            0               0             0           0   \n",
              "4               0            0               0             0           0   \n",
              "...           ...          ...             ...           ...         ...   \n",
              "110522          0            0               0             0           0   \n",
              "110523          0            0               0             0           0   \n",
              "110524          0            0               0             0           0   \n",
              "110525          0            0               0             0           0   \n",
              "110526          0            0               0             0           0   \n",
              "\n",
              "        N_DE LOURDES  N_DO CABRAL  N_DO MOSCOSO  N_DO QUADRO  \\\n",
              "0                  0            0             0            0   \n",
              "1                  0            0             0            0   \n",
              "2                  0            0             0            0   \n",
              "3                  0            0             0            0   \n",
              "4                  0            0             0            0   \n",
              "...              ...          ...           ...          ...   \n",
              "110522             0            0             0            0   \n",
              "110523             0            0             0            0   \n",
              "110524             0            0             0            0   \n",
              "110525             0            0             0            0   \n",
              "110526             0            0             0            0   \n",
              "\n",
              "        N_ENSEADA DO SUÃ  N_ESTRELINHA  N_FONTE GRANDE  N_FORTE SÃO JOÃO  \\\n",
              "0                       0             0               0                   0   \n",
              "1                       0             0               0                   0   \n",
              "2                       0             0               0                   0   \n",
              "3                       0             0               0                   0   \n",
              "4                       0             0               0                   0   \n",
              "...                   ...           ...             ...                 ...   \n",
              "110522                  0             0               0                   0   \n",
              "110523                  0             0               0                   0   \n",
              "110524                  0             0               0                   0   \n",
              "110525                  0             0               0                   0   \n",
              "110526                  0             0               0                   0   \n",
              "\n",
              "        N_FRADINHOS  N_GOIABEIRAS  N_GRANDE VITÃRIA  N_GURIGICA  N_HORTO  \\\n",
              "0                 0             0                  0           0        0   \n",
              "1                 0             0                  0           0        0   \n",
              "2                 0             0                  0           0        0   \n",
              "3                 0             0                  0           0        0   \n",
              "4                 0             0                  0           0        0   \n",
              "...             ...           ...                ...         ...      ...   \n",
              "110522            0             0                  0           0        0   \n",
              "110523            0             0                  0           0        0   \n",
              "110524            0             0                  0           0        0   \n",
              "110525            0             0                  0           0        0   \n",
              "110526            0             0                  0           0        0   \n",
              "\n",
              "        N_ILHA DAS CAIEIRAS  N_ILHA DE SANTA MARIA  N_ILHA DO BOI  \\\n",
              "0                         0                      0              0   \n",
              "1                         0                      0              0   \n",
              "2                         0                      0              0   \n",
              "3                         0                      0              0   \n",
              "4                         0                      0              0   \n",
              "...                     ...                    ...            ...   \n",
              "110522                    0                      0              0   \n",
              "110523                    0                      0              0   \n",
              "110524                    0                      0              0   \n",
              "110525                    0                      0              0   \n",
              "110526                    0                      0              0   \n",
              "\n",
              "        N_ILHA DO FRADE  N_ILHA DO PRÃNCIPE  N_ILHAS OCEÃNICAS DE TRINDADE  \\\n",
              "0                     0                    0                               0   \n",
              "1                     0                    0                               0   \n",
              "2                     0                    0                               0   \n",
              "3                     0                    0                               0   \n",
              "4                     0                    0                               0   \n",
              "...                 ...                  ...                             ...   \n",
              "110522                0                    0                               0   \n",
              "110523                0                    0                               0   \n",
              "110524                0                    0                               0   \n",
              "110525                0                    0                               0   \n",
              "110526                0                    0                               0   \n",
              "\n",
              "        N_INHANGUETÃ  N_ITARARÃ  N_JABOUR  N_JARDIM CAMBURI  \\\n",
              "0                   0           0         0                 0   \n",
              "1                   0           0         0                 0   \n",
              "2                   0           0         0                 0   \n",
              "3                   0           0         0                 0   \n",
              "4                   0           0         0                 0   \n",
              "...               ...         ...       ...               ...   \n",
              "110522              0           0         0                 0   \n",
              "110523              0           0         0                 0   \n",
              "110524              0           0         0                 0   \n",
              "110525              0           0         0                 0   \n",
              "110526              0           0         0                 0   \n",
              "\n",
              "        N_JARDIM DA PENHA  N_JESUS DE NAZARETH  N_JOANA DÂ´ARC  N_JUCUTUQUARA  \\\n",
              "0                       1                    0               0              0   \n",
              "1                       1                    0               0              0   \n",
              "2                       0                    0               0              0   \n",
              "3                       0                    0               0              0   \n",
              "4                       1                    0               0              0   \n",
              "...                   ...                  ...             ...            ...   \n",
              "110522                  0                    0               0              0   \n",
              "110523                  0                    0               0              0   \n",
              "110524                  0                    0               0              0   \n",
              "110525                  0                    0               0              0   \n",
              "110526                  0                    0               0              0   \n",
              "\n",
              "        N_MARIA ORTIZ  N_MARUÃPE  N_MATA DA PRAIA  N_MONTE BELO  \\\n",
              "0                   0           0                0             0   \n",
              "1                   0           0                0             0   \n",
              "2                   0           0                1             0   \n",
              "3                   0           0                0             0   \n",
              "4                   0           0                0             0   \n",
              "...               ...         ...              ...           ...   \n",
              "110522              1           0                0             0   \n",
              "110523              1           0                0             0   \n",
              "110524              1           0                0             0   \n",
              "110525              1           0                0             0   \n",
              "110526              1           0                0             0   \n",
              "\n",
              "        N_MORADA DE CAMBURI  N_MÃRIO CYPRESTE  N_NAZARETH  N_NOVA PALESTINA  \\\n",
              "0                         0                  0           0                 0   \n",
              "1                         0                  0           0                 0   \n",
              "2                         0                  0           0                 0   \n",
              "3                         0                  0           0                 0   \n",
              "4                         0                  0           0                 0   \n",
              "...                     ...                ...         ...               ...   \n",
              "110522                    0                  0           0                 0   \n",
              "110523                    0                  0           0                 0   \n",
              "110524                    0                  0           0                 0   \n",
              "110525                    0                  0           0                 0   \n",
              "110526                    0                  0           0                 0   \n",
              "\n",
              "        N_PARQUE INDUSTRIAL  N_PARQUE MOSCOSO  N_PIEDADE  N_PONTAL DE CAMBURI  \\\n",
              "0                         0                 0          0                    0   \n",
              "1                         0                 0          0                    0   \n",
              "2                         0                 0          0                    0   \n",
              "3                         0                 0          0                    1   \n",
              "4                         0                 0          0                    0   \n",
              "...                     ...               ...        ...                  ...   \n",
              "110522                    0                 0          0                    0   \n",
              "110523                    0                 0          0                    0   \n",
              "110524                    0                 0          0                    0   \n",
              "110525                    0                 0          0                    0   \n",
              "110526                    0                 0          0                    0   \n",
              "\n",
              "        N_PRAIA DO CANTO  N_PRAIA DO SUÃ  N_REDENÃÃO  N_REPÃBLICA  \\\n",
              "0                      0                0             0             0   \n",
              "1                      0                0             0             0   \n",
              "2                      0                0             0             0   \n",
              "3                      0                0             0             0   \n",
              "4                      0                0             0             0   \n",
              "...                  ...              ...           ...           ...   \n",
              "110522                 0                0             0             0   \n",
              "110523                 0                0             0             0   \n",
              "110524                 0                0             0             0   \n",
              "110525                 0                0             0             0   \n",
              "110526                 0                0             0             0   \n",
              "\n",
              "        N_RESISTÃNCIA  N_ROMÃO  N_SANTA CECÃLIA  N_SANTA CLARA  \\\n",
              "0                    0         0                 0              0   \n",
              "1                    0         0                 0              0   \n",
              "2                    0         0                 0              0   \n",
              "3                    0         0                 0              0   \n",
              "4                    0         0                 0              0   \n",
              "...                ...       ...               ...            ...   \n",
              "110522               0         0                 0              0   \n",
              "110523               0         0                 0              0   \n",
              "110524               0         0                 0              0   \n",
              "110525               0         0                 0              0   \n",
              "110526               0         0                 0              0   \n",
              "\n",
              "        N_SANTA HELENA  N_SANTA LUÃZA  N_SANTA LÃCIA  N_SANTA MARTHA  \\\n",
              "0                    0               0               0               0   \n",
              "1                    0               0               0               0   \n",
              "2                    0               0               0               0   \n",
              "3                    0               0               0               0   \n",
              "4                    0               0               0               0   \n",
              "...                ...             ...             ...             ...   \n",
              "110522               0               0               0               0   \n",
              "110523               0               0               0               0   \n",
              "110524               0               0               0               0   \n",
              "110525               0               0               0               0   \n",
              "110526               0               0               0               0   \n",
              "\n",
              "        N_SANTA TEREZA  N_SANTO ANDRÃ  N_SANTO ANTÃNIO  N_SANTOS DUMONT  \\\n",
              "0                    0               0                 0                0   \n",
              "1                    0               0                 0                0   \n",
              "2                    0               0                 0                0   \n",
              "3                    0               0                 0                0   \n",
              "4                    0               0                 0                0   \n",
              "...                ...             ...               ...              ...   \n",
              "110522               0               0                 0                0   \n",
              "110523               0               0                 0                0   \n",
              "110524               0               0                 0                0   \n",
              "110525               0               0                 0                0   \n",
              "110526               0               0                 0                0   \n",
              "\n",
              "        N_SANTOS REIS  N_SEGURANÃA DO LAR  N_SOLON BORGES  N_SÃO BENEDITO  \\\n",
              "0                   0                    0               0                0   \n",
              "1                   0                    0               0                0   \n",
              "2                   0                    0               0                0   \n",
              "3                   0                    0               0                0   \n",
              "4                   0                    0               0                0   \n",
              "...               ...                  ...             ...              ...   \n",
              "110522              0                    0               0                0   \n",
              "110523              0                    0               0                0   \n",
              "110524              0                    0               0                0   \n",
              "110525              0                    0               0                0   \n",
              "110526              0                    0               0                0   \n",
              "\n",
              "        N_SÃO CRISTÃVÃO  N_SÃO JOSÃ  N_SÃO PEDRO  N_TABUAZEIRO  \\\n",
              "0                        0             0             0             0   \n",
              "1                        0             0             0             0   \n",
              "2                        0             0             0             0   \n",
              "3                        0             0             0             0   \n",
              "4                        0             0             0             0   \n",
              "...                    ...           ...           ...           ...   \n",
              "110522                   0             0             0             0   \n",
              "110523                   0             0             0             0   \n",
              "110524                   0             0             0             0   \n",
              "110525                   0             0             0             0   \n",
              "110526                   0             0             0             0   \n",
              "\n",
              "        N_UNIVERSITÃRIO  N_VILA RUBIM  \n",
              "0                      0             0  \n",
              "1                      0             0  \n",
              "2                      0             0  \n",
              "3                      0             0  \n",
              "4                      0             0  \n",
              "...                  ...           ...  \n",
              "110522                 0             0  \n",
              "110523                 0             0  \n",
              "110524                 0             0  \n",
              "110525                 0             0  \n",
              "110526                 0             0  \n",
              "\n",
              "[107853 rows x 96 columns]"
            ]
          },
          "metadata": {
            "tags": []
          },
          "execution_count": 235
        }
      ]
    },
    {
      "cell_type": "markdown",
      "metadata": {
        "id": "4AWU55XIPOyR"
      },
      "source": [
        "### Identificado um desbalanceamento da variável Nh-show\n",
        "### isso irá impactar na classificação correta do modelo"
      ]
    },
    {
      "cell_type": "code",
      "metadata": {
        "id": "mPyteNOZ1YFc",
        "colab": {
          "base_uri": "https://localhost:8080/",
          "height": 90
        },
        "outputId": "60d5998c-ac16-4dfb-9871-a8328da1f4ee"
      },
      "source": [
        "dataset.groupby('No-show').size()"
      ],
      "execution_count": null,
      "outputs": [
        {
          "output_type": "execute_result",
          "data": {
            "text/plain": [
              "No-show\n",
              "No     86321\n",
              "Yes    21532\n",
              "dtype: int64"
            ]
          },
          "metadata": {
            "tags": []
          },
          "execution_count": 236
        }
      ]
    },
    {
      "cell_type": "code",
      "metadata": {
        "id": "CQScmOuG12qH",
        "colab": {
          "base_uri": "https://localhost:8080/",
          "height": 346
        },
        "outputId": "cff4e447-7918-4118-a706-d811df0f0b90"
      },
      "source": [
        "# Quantidade de exemplos positivos e negativos de No-show 0 = a pessoa foi na consulta agendada 1 =  a pessoa não foi na consulta\n",
        "target_count = dataset['No-show'].value_counts()\n",
        "print('Class 0:', target_count[0])\n",
        "print('Class 1:', target_count[1])\n",
        "print('Proportion:', round(target_count[0] / target_count[1], 2), ': 1')\n",
        "\n",
        "target_count.plot(kind='bar', title='Count (target)');"
      ],
      "execution_count": null,
      "outputs": [
        {
          "output_type": "stream",
          "text": [
            "Class 0: 86321\n",
            "Class 1: 21532\n",
            "Proportion: 4.01 : 1\n"
          ],
          "name": "stdout"
        },
        {
          "output_type": "display_data",
          "data": {
            "image/png": "[encoded data removed]",
            "text/plain": [
              "<Figure size 432x288 with 1 Axes>"
            ]
          },
          "metadata": {
            "tags": []
          }
        }
      ]
    },
    {
      "cell_type": "code",
      "metadata": {
        "id": "goM8EZMkMHVB"
      },
      "source": [
        "# Removidas Sexo e Status pois foram criadas apenas para compreender melhor o dataset e No-show foi substituida por Class.\n",
        "dataset.drop(['No-show','Sexo', 'Status'], inplace=True, axis=1)"
      ],
      "execution_count": null,
      "outputs": []
    },
    {
      "cell_type": "code",
      "metadata": {
        "id": "yLf-9admLZ9f",
        "colab": {
          "base_uri": "https://localhost:8080/",
          "height": 270
        },
        "outputId": "63a991ef-2299-4fa3-cd78-1a1bc96390bc"
      },
      "source": [
        "dataset.head()"
      ],
      "execution_count": null,
      "outputs": [
        {
          "output_type": "execute_result",
          "data": {
            "text/html": [
              "<div>\n",
              "<style scoped>\n",
              "    .dataframe tbody tr th:only-of-type {\n",
              "        vertical-align: middle;\n",
              "    }\n",
              "\n",
              "    .dataframe tbody tr th {\n",
              "        vertical-align: top;\n",
              "    }\n",
              "\n",
              "    .dataframe thead th {\n",
              "        text-align: right;\n",
              "    }\n",
              "</style>\n",
              "<table border=\"1\" class=\"dataframe\">\n",
              "  <thead>\n",
              "    <tr style=\"text-align: right;\">\n",
              "      <th></th>\n",
              "      <th>Gender</th>\n",
              "      <th>Age</th>\n",
              "      <th>Scholarship</th>\n",
              "      <th>Hipertension</th>\n",
              "      <th>Diabetes</th>\n",
              "      <th>Alcoholism</th>\n",
              "      <th>Handcap</th>\n",
              "      <th>SMS_received</th>\n",
              "      <th>WaitingTime</th>\n",
              "      <th>Day</th>\n",
              "      <th>Month</th>\n",
              "      <th>Class</th>\n",
              "      <th>N_AEROPORTO</th>\n",
              "      <th>N_ANDORINHAS</th>\n",
              "      <th>N_ANTÃNIO HONÃRIO</th>\n",
              "      <th>N_ARIOVALDO FAVALESSA</th>\n",
              "      <th>N_BARRO VERMELHO</th>\n",
              "      <th>N_BELA VISTA</th>\n",
              "      <th>N_BENTO FERREIRA</th>\n",
              "      <th>N_BOA VISTA</th>\n",
              "      <th>N_BONFIM</th>\n",
              "      <th>N_CARATOÃRA</th>\n",
              "      <th>N_CENTRO</th>\n",
              "      <th>N_COMDUSA</th>\n",
              "      <th>N_CONQUISTA</th>\n",
              "      <th>N_CONSOLAÃÃO</th>\n",
              "      <th>N_CRUZAMENTO</th>\n",
              "      <th>N_DA PENHA</th>\n",
              "      <th>N_DE LOURDES</th>\n",
              "      <th>N_DO CABRAL</th>\n",
              "      <th>N_DO MOSCOSO</th>\n",
              "      <th>N_DO QUADRO</th>\n",
              "      <th>N_ENSEADA DO SUÃ</th>\n",
              "      <th>N_ESTRELINHA</th>\n",
              "      <th>N_FONTE GRANDE</th>\n",
              "      <th>N_FORTE SÃO JOÃO</th>\n",
              "      <th>N_FRADINHOS</th>\n",
              "      <th>N_GOIABEIRAS</th>\n",
              "      <th>N_GRANDE VITÃRIA</th>\n",
              "      <th>N_GURIGICA</th>\n",
              "      <th>N_HORTO</th>\n",
              "      <th>N_ILHA DAS CAIEIRAS</th>\n",
              "      <th>N_ILHA DE SANTA MARIA</th>\n",
              "      <th>N_ILHA DO BOI</th>\n",
              "      <th>N_ILHA DO FRADE</th>\n",
              "      <th>N_ILHA DO PRÃNCIPE</th>\n",
              "      <th>N_ILHAS OCEÃNICAS DE TRINDADE</th>\n",
              "      <th>N_INHANGUETÃ</th>\n",
              "      <th>N_ITARARÃ</th>\n",
              "      <th>N_JABOUR</th>\n",
              "      <th>N_JARDIM CAMBURI</th>\n",
              "      <th>N_JARDIM DA PENHA</th>\n",
              "      <th>N_JESUS DE NAZARETH</th>\n",
              "      <th>N_JOANA DÂ´ARC</th>\n",
              "      <th>N_JUCUTUQUARA</th>\n",
              "      <th>N_MARIA ORTIZ</th>\n",
              "      <th>N_MARUÃPE</th>\n",
              "      <th>N_MATA DA PRAIA</th>\n",
              "      <th>N_MONTE BELO</th>\n",
              "      <th>N_MORADA DE CAMBURI</th>\n",
              "      <th>N_MÃRIO CYPRESTE</th>\n",
              "      <th>N_NAZARETH</th>\n",
              "      <th>N_NOVA PALESTINA</th>\n",
              "      <th>N_PARQUE INDUSTRIAL</th>\n",
              "      <th>N_PARQUE MOSCOSO</th>\n",
              "      <th>N_PIEDADE</th>\n",
              "      <th>N_PONTAL DE CAMBURI</th>\n",
              "      <th>N_PRAIA DO CANTO</th>\n",
              "      <th>N_PRAIA DO SUÃ</th>\n",
              "      <th>N_REDENÃÃO</th>\n",
              "      <th>N_REPÃBLICA</th>\n",
              "      <th>N_RESISTÃNCIA</th>\n",
              "      <th>N_ROMÃO</th>\n",
              "      <th>N_SANTA CECÃLIA</th>\n",
              "      <th>N_SANTA CLARA</th>\n",
              "      <th>N_SANTA HELENA</th>\n",
              "      <th>N_SANTA LUÃZA</th>\n",
              "      <th>N_SANTA LÃCIA</th>\n",
              "      <th>N_SANTA MARTHA</th>\n",
              "      <th>N_SANTA TEREZA</th>\n",
              "      <th>N_SANTO ANDRÃ</th>\n",
              "      <th>N_SANTO ANTÃNIO</th>\n",
              "      <th>N_SANTOS DUMONT</th>\n",
              "      <th>N_SANTOS REIS</th>\n",
              "      <th>N_SEGURANÃA DO LAR</th>\n",
              "      <th>N_SOLON BORGES</th>\n",
              "      <th>N_SÃO BENEDITO</th>\n",
              "      <th>N_SÃO CRISTÃVÃO</th>\n",
              "      <th>N_SÃO JOSÃ</th>\n",
              "      <th>N_SÃO PEDRO</th>\n",
              "      <th>N_TABUAZEIRO</th>\n",
              "      <th>N_UNIVERSITÃRIO</th>\n",
              "      <th>N_VILA RUBIM</th>\n",
              "    </tr>\n",
              "  </thead>\n",
              "  <tbody>\n",
              "    <tr>\n",
              "      <th>0</th>\n",
              "      <td>0</td>\n",
              "      <td>62</td>\n",
              "      <td>0</td>\n",
              "      <td>1</td>\n",
              "      <td>0</td>\n",
              "      <td>0</td>\n",
              "      <td>0</td>\n",
              "      <td>0</td>\n",
              "      <td>0</td>\n",
              "      <td>29</td>\n",
              "      <td>4</td>\n",
              "      <td>0</td>\n",
              "      <td>0</td>\n",
              "      <td>0</td>\n",
              "      <td>0</td>\n",
              "      <td>0</td>\n",
              "      <td>0</td>\n",
              "      <td>0</td>\n",
              "      <td>0</td>\n",
              "      <td>0</td>\n",
              "      <td>0</td>\n",
              "      <td>0</td>\n",
              "      <td>0</td>\n",
              "      <td>0</td>\n",
              "      <td>0</td>\n",
              "      <td>0</td>\n",
              "      <td>0</td>\n",
              "      <td>0</td>\n",
              "      <td>0</td>\n",
              "      <td>0</td>\n",
              "      <td>0</td>\n",
              "      <td>0</td>\n",
              "      <td>0</td>\n",
              "      <td>0</td>\n",
              "      <td>0</td>\n",
              "      <td>0</td>\n",
              "      <td>0</td>\n",
              "      <td>0</td>\n",
              "      <td>0</td>\n",
              "      <td>0</td>\n",
              "      <td>0</td>\n",
              "      <td>0</td>\n",
              "      <td>0</td>\n",
              "      <td>0</td>\n",
              "      <td>0</td>\n",
              "      <td>0</td>\n",
              "      <td>0</td>\n",
              "      <td>0</td>\n",
              "      <td>0</td>\n",
              "      <td>0</td>\n",
              "      <td>0</td>\n",
              "      <td>1</td>\n",
              "      <td>0</td>\n",
              "      <td>0</td>\n",
              "      <td>0</td>\n",
              "      <td>0</td>\n",
              "      <td>0</td>\n",
              "      <td>0</td>\n",
              "      <td>0</td>\n",
              "      <td>0</td>\n",
              "      <td>0</td>\n",
              "      <td>0</td>\n",
              "      <td>0</td>\n",
              "      <td>0</td>\n",
              "      <td>0</td>\n",
              "      <td>0</td>\n",
              "      <td>0</td>\n",
              "      <td>0</td>\n",
              "      <td>0</td>\n",
              "      <td>0</td>\n",
              "      <td>0</td>\n",
              "      <td>0</td>\n",
              "      <td>0</td>\n",
              "      <td>0</td>\n",
              "      <td>0</td>\n",
              "      <td>0</td>\n",
              "      <td>0</td>\n",
              "      <td>0</td>\n",
              "      <td>0</td>\n",
              "      <td>0</td>\n",
              "      <td>0</td>\n",
              "      <td>0</td>\n",
              "      <td>0</td>\n",
              "      <td>0</td>\n",
              "      <td>0</td>\n",
              "      <td>0</td>\n",
              "      <td>0</td>\n",
              "      <td>0</td>\n",
              "      <td>0</td>\n",
              "      <td>0</td>\n",
              "      <td>0</td>\n",
              "      <td>0</td>\n",
              "      <td>0</td>\n",
              "    </tr>\n",
              "    <tr>\n",
              "      <th>1</th>\n",
              "      <td>1</td>\n",
              "      <td>56</td>\n",
              "      <td>0</td>\n",
              "      <td>0</td>\n",
              "      <td>0</td>\n",
              "      <td>0</td>\n",
              "      <td>0</td>\n",
              "      <td>0</td>\n",
              "      <td>0</td>\n",
              "      <td>29</td>\n",
              "      <td>4</td>\n",
              "      <td>0</td>\n",
              "      <td>0</td>\n",
              "      <td>0</td>\n",
              "      <td>0</td>\n",
              "      <td>0</td>\n",
              "      <td>0</td>\n",
              "      <td>0</td>\n",
              "      <td>0</td>\n",
              "      <td>0</td>\n",
              "      <td>0</td>\n",
              "      <td>0</td>\n",
              "      <td>0</td>\n",
              "      <td>0</td>\n",
              "      <td>0</td>\n",
              "      <td>0</td>\n",
              "      <td>0</td>\n",
              "      <td>0</td>\n",
              "      <td>0</td>\n",
              "      <td>0</td>\n",
              "      <td>0</td>\n",
              "      <td>0</td>\n",
              "      <td>0</td>\n",
              "      <td>0</td>\n",
              "      <td>0</td>\n",
              "      <td>0</td>\n",
              "      <td>0</td>\n",
              "      <td>0</td>\n",
              "      <td>0</td>\n",
              "      <td>0</td>\n",
              "      <td>0</td>\n",
              "      <td>0</td>\n",
              "      <td>0</td>\n",
              "      <td>0</td>\n",
              "      <td>0</td>\n",
              "      <td>0</td>\n",
              "      <td>0</td>\n",
              "      <td>0</td>\n",
              "      <td>0</td>\n",
              "      <td>0</td>\n",
              "      <td>0</td>\n",
              "      <td>1</td>\n",
              "      <td>0</td>\n",
              "      <td>0</td>\n",
              "      <td>0</td>\n",
              "      <td>0</td>\n",
              "      <td>0</td>\n",
              "      <td>0</td>\n",
              "      <td>0</td>\n",
              "      <td>0</td>\n",
              "      <td>0</td>\n",
              "      <td>0</td>\n",
              "      <td>0</td>\n",
              "      <td>0</td>\n",
              "      <td>0</td>\n",
              "      <td>0</td>\n",
              "      <td>0</td>\n",
              "      <td>0</td>\n",
              "      <td>0</td>\n",
              "      <td>0</td>\n",
              "      <td>0</td>\n",
              "      <td>0</td>\n",
              "      <td>0</td>\n",
              "      <td>0</td>\n",
              "      <td>0</td>\n",
              "      <td>0</td>\n",
              "      <td>0</td>\n",
              "      <td>0</td>\n",
              "      <td>0</td>\n",
              "      <td>0</td>\n",
              "      <td>0</td>\n",
              "      <td>0</td>\n",
              "      <td>0</td>\n",
              "      <td>0</td>\n",
              "      <td>0</td>\n",
              "      <td>0</td>\n",
              "      <td>0</td>\n",
              "      <td>0</td>\n",
              "      <td>0</td>\n",
              "      <td>0</td>\n",
              "      <td>0</td>\n",
              "      <td>0</td>\n",
              "      <td>0</td>\n",
              "    </tr>\n",
              "    <tr>\n",
              "      <th>2</th>\n",
              "      <td>0</td>\n",
              "      <td>62</td>\n",
              "      <td>0</td>\n",
              "      <td>0</td>\n",
              "      <td>0</td>\n",
              "      <td>0</td>\n",
              "      <td>0</td>\n",
              "      <td>0</td>\n",
              "      <td>0</td>\n",
              "      <td>29</td>\n",
              "      <td>4</td>\n",
              "      <td>0</td>\n",
              "      <td>0</td>\n",
              "      <td>0</td>\n",
              "      <td>0</td>\n",
              "      <td>0</td>\n",
              "      <td>0</td>\n",
              "      <td>0</td>\n",
              "      <td>0</td>\n",
              "      <td>0</td>\n",
              "      <td>0</td>\n",
              "      <td>0</td>\n",
              "      <td>0</td>\n",
              "      <td>0</td>\n",
              "      <td>0</td>\n",
              "      <td>0</td>\n",
              "      <td>0</td>\n",
              "      <td>0</td>\n",
              "      <td>0</td>\n",
              "      <td>0</td>\n",
              "      <td>0</td>\n",
              "      <td>0</td>\n",
              "      <td>0</td>\n",
              "      <td>0</td>\n",
              "      <td>0</td>\n",
              "      <td>0</td>\n",
              "      <td>0</td>\n",
              "      <td>0</td>\n",
              "      <td>0</td>\n",
              "      <td>0</td>\n",
              "      <td>0</td>\n",
              "      <td>0</td>\n",
              "      <td>0</td>\n",
              "      <td>0</td>\n",
              "      <td>0</td>\n",
              "      <td>0</td>\n",
              "      <td>0</td>\n",
              "      <td>0</td>\n",
              "      <td>0</td>\n",
              "      <td>0</td>\n",
              "      <td>0</td>\n",
              "      <td>0</td>\n",
              "      <td>0</td>\n",
              "      <td>0</td>\n",
              "      <td>0</td>\n",
              "      <td>0</td>\n",
              "      <td>0</td>\n",
              "      <td>1</td>\n",
              "      <td>0</td>\n",
              "      <td>0</td>\n",
              "      <td>0</td>\n",
              "      <td>0</td>\n",
              "      <td>0</td>\n",
              "      <td>0</td>\n",
              "      <td>0</td>\n",
              "      <td>0</td>\n",
              "      <td>0</td>\n",
              "      <td>0</td>\n",
              "      <td>0</td>\n",
              "      <td>0</td>\n",
              "      <td>0</td>\n",
              "      <td>0</td>\n",
              "      <td>0</td>\n",
              "      <td>0</td>\n",
              "      <td>0</td>\n",
              "      <td>0</td>\n",
              "      <td>0</td>\n",
              "      <td>0</td>\n",
              "      <td>0</td>\n",
              "      <td>0</td>\n",
              "      <td>0</td>\n",
              "      <td>0</td>\n",
              "      <td>0</td>\n",
              "      <td>0</td>\n",
              "      <td>0</td>\n",
              "      <td>0</td>\n",
              "      <td>0</td>\n",
              "      <td>0</td>\n",
              "      <td>0</td>\n",
              "      <td>0</td>\n",
              "      <td>0</td>\n",
              "      <td>0</td>\n",
              "      <td>0</td>\n",
              "    </tr>\n",
              "    <tr>\n",
              "      <th>3</th>\n",
              "      <td>0</td>\n",
              "      <td>8</td>\n",
              "      <td>0</td>\n",
              "      <td>0</td>\n",
              "      <td>0</td>\n",
              "      <td>0</td>\n",
              "      <td>0</td>\n",
              "      <td>0</td>\n",
              "      <td>0</td>\n",
              "      <td>29</td>\n",
              "      <td>4</td>\n",
              "      <td>0</td>\n",
              "      <td>0</td>\n",
              "      <td>0</td>\n",
              "      <td>0</td>\n",
              "      <td>0</td>\n",
              "      <td>0</td>\n",
              "      <td>0</td>\n",
              "      <td>0</td>\n",
              "      <td>0</td>\n",
              "      <td>0</td>\n",
              "      <td>0</td>\n",
              "      <td>0</td>\n",
              "      <td>0</td>\n",
              "      <td>0</td>\n",
              "      <td>0</td>\n",
              "      <td>0</td>\n",
              "      <td>0</td>\n",
              "      <td>0</td>\n",
              "      <td>0</td>\n",
              "      <td>0</td>\n",
              "      <td>0</td>\n",
              "      <td>0</td>\n",
              "      <td>0</td>\n",
              "      <td>0</td>\n",
              "      <td>0</td>\n",
              "      <td>0</td>\n",
              "      <td>0</td>\n",
              "      <td>0</td>\n",
              "      <td>0</td>\n",
              "      <td>0</td>\n",
              "      <td>0</td>\n",
              "      <td>0</td>\n",
              "      <td>0</td>\n",
              "      <td>0</td>\n",
              "      <td>0</td>\n",
              "      <td>0</td>\n",
              "      <td>0</td>\n",
              "      <td>0</td>\n",
              "      <td>0</td>\n",
              "      <td>0</td>\n",
              "      <td>0</td>\n",
              "      <td>0</td>\n",
              "      <td>0</td>\n",
              "      <td>0</td>\n",
              "      <td>0</td>\n",
              "      <td>0</td>\n",
              "      <td>0</td>\n",
              "      <td>0</td>\n",
              "      <td>0</td>\n",
              "      <td>0</td>\n",
              "      <td>0</td>\n",
              "      <td>0</td>\n",
              "      <td>0</td>\n",
              "      <td>0</td>\n",
              "      <td>0</td>\n",
              "      <td>1</td>\n",
              "      <td>0</td>\n",
              "      <td>0</td>\n",
              "      <td>0</td>\n",
              "      <td>0</td>\n",
              "      <td>0</td>\n",
              "      <td>0</td>\n",
              "      <td>0</td>\n",
              "      <td>0</td>\n",
              "      <td>0</td>\n",
              "      <td>0</td>\n",
              "      <td>0</td>\n",
              "      <td>0</td>\n",
              "      <td>0</td>\n",
              "      <td>0</td>\n",
              "      <td>0</td>\n",
              "      <td>0</td>\n",
              "      <td>0</td>\n",
              "      <td>0</td>\n",
              "      <td>0</td>\n",
              "      <td>0</td>\n",
              "      <td>0</td>\n",
              "      <td>0</td>\n",
              "      <td>0</td>\n",
              "      <td>0</td>\n",
              "      <td>0</td>\n",
              "      <td>0</td>\n",
              "    </tr>\n",
              "    <tr>\n",
              "      <th>4</th>\n",
              "      <td>0</td>\n",
              "      <td>56</td>\n",
              "      <td>0</td>\n",
              "      <td>1</td>\n",
              "      <td>1</td>\n",
              "      <td>0</td>\n",
              "      <td>0</td>\n",
              "      <td>0</td>\n",
              "      <td>0</td>\n",
              "      <td>29</td>\n",
              "      <td>4</td>\n",
              "      <td>0</td>\n",
              "      <td>0</td>\n",
              "      <td>0</td>\n",
              "      <td>0</td>\n",
              "      <td>0</td>\n",
              "      <td>0</td>\n",
              "      <td>0</td>\n",
              "      <td>0</td>\n",
              "      <td>0</td>\n",
              "      <td>0</td>\n",
              "      <td>0</td>\n",
              "      <td>0</td>\n",
              "      <td>0</td>\n",
              "      <td>0</td>\n",
              "      <td>0</td>\n",
              "      <td>0</td>\n",
              "      <td>0</td>\n",
              "      <td>0</td>\n",
              "      <td>0</td>\n",
              "      <td>0</td>\n",
              "      <td>0</td>\n",
              "      <td>0</td>\n",
              "      <td>0</td>\n",
              "      <td>0</td>\n",
              "      <td>0</td>\n",
              "      <td>0</td>\n",
              "      <td>0</td>\n",
              "      <td>0</td>\n",
              "      <td>0</td>\n",
              "      <td>0</td>\n",
              "      <td>0</td>\n",
              "      <td>0</td>\n",
              "      <td>0</td>\n",
              "      <td>0</td>\n",
              "      <td>0</td>\n",
              "      <td>0</td>\n",
              "      <td>0</td>\n",
              "      <td>0</td>\n",
              "      <td>0</td>\n",
              "      <td>0</td>\n",
              "      <td>1</td>\n",
              "      <td>0</td>\n",
              "      <td>0</td>\n",
              "      <td>0</td>\n",
              "      <td>0</td>\n",
              "      <td>0</td>\n",
              "      <td>0</td>\n",
              "      <td>0</td>\n",
              "      <td>0</td>\n",
              "      <td>0</td>\n",
              "      <td>0</td>\n",
              "      <td>0</td>\n",
              "      <td>0</td>\n",
              "      <td>0</td>\n",
              "      <td>0</td>\n",
              "      <td>0</td>\n",
              "      <td>0</td>\n",
              "      <td>0</td>\n",
              "      <td>0</td>\n",
              "      <td>0</td>\n",
              "      <td>0</td>\n",
              "      <td>0</td>\n",
              "      <td>0</td>\n",
              "      <td>0</td>\n",
              "      <td>0</td>\n",
              "      <td>0</td>\n",
              "      <td>0</td>\n",
              "      <td>0</td>\n",
              "      <td>0</td>\n",
              "      <td>0</td>\n",
              "      <td>0</td>\n",
              "      <td>0</td>\n",
              "      <td>0</td>\n",
              "      <td>0</td>\n",
              "      <td>0</td>\n",
              "      <td>0</td>\n",
              "      <td>0</td>\n",
              "      <td>0</td>\n",
              "      <td>0</td>\n",
              "      <td>0</td>\n",
              "      <td>0</td>\n",
              "      <td>0</td>\n",
              "    </tr>\n",
              "  </tbody>\n",
              "</table>\n",
              "</div>"
            ],
            "text/plain": [
              "   Gender  Age Scholarship Hipertension Diabetes Alcoholism Handcap  \\\n",
              "0       0   62           0            1        0          0       0   \n",
              "1       1   56           0            0        0          0       0   \n",
              "2       0   62           0            0        0          0       0   \n",
              "3       0    8           0            0        0          0       0   \n",
              "4       0   56           0            1        1          0       0   \n",
              "\n",
              "  SMS_received  WaitingTime  Day  Month  Class  N_AEROPORTO  N_ANDORINHAS  \\\n",
              "0            0            0   29      4      0            0             0   \n",
              "1            0            0   29      4      0            0             0   \n",
              "2            0            0   29      4      0            0             0   \n",
              "3            0            0   29      4      0            0             0   \n",
              "4            0            0   29      4      0            0             0   \n",
              "\n",
              "   N_ANTÃNIO HONÃRIO  N_ARIOVALDO FAVALESSA  N_BARRO VERMELHO  N_BELA VISTA  \\\n",
              "0                    0                      0                 0             0   \n",
              "1                    0                      0                 0             0   \n",
              "2                    0                      0                 0             0   \n",
              "3                    0                      0                 0             0   \n",
              "4                    0                      0                 0             0   \n",
              "\n",
              "   N_BENTO FERREIRA  N_BOA VISTA  N_BONFIM  N_CARATOÃRA  N_CENTRO  N_COMDUSA  \\\n",
              "0                 0            0         0             0         0          0   \n",
              "1                 0            0         0             0         0          0   \n",
              "2                 0            0         0             0         0          0   \n",
              "3                 0            0         0             0         0          0   \n",
              "4                 0            0         0             0         0          0   \n",
              "\n",
              "   N_CONQUISTA  N_CONSOLAÃÃO  N_CRUZAMENTO  N_DA PENHA  N_DE LOURDES  \\\n",
              "0            0               0             0           0             0   \n",
              "1            0               0             0           0             0   \n",
              "2            0               0             0           0             0   \n",
              "3            0               0             0           0             0   \n",
              "4            0               0             0           0             0   \n",
              "\n",
              "   N_DO CABRAL  N_DO MOSCOSO  N_DO QUADRO  N_ENSEADA DO SUÃ  N_ESTRELINHA  \\\n",
              "0            0             0            0                  0             0   \n",
              "1            0             0            0                  0             0   \n",
              "2            0             0            0                  0             0   \n",
              "3            0             0            0                  0             0   \n",
              "4            0             0            0                  0             0   \n",
              "\n",
              "   N_FONTE GRANDE  N_FORTE SÃO JOÃO  N_FRADINHOS  N_GOIABEIRAS  \\\n",
              "0               0                   0            0             0   \n",
              "1               0                   0            0             0   \n",
              "2               0                   0            0             0   \n",
              "3               0                   0            0             0   \n",
              "4               0                   0            0             0   \n",
              "\n",
              "   N_GRANDE VITÃRIA  N_GURIGICA  N_HORTO  N_ILHA DAS CAIEIRAS  \\\n",
              "0                  0           0        0                    0   \n",
              "1                  0           0        0                    0   \n",
              "2                  0           0        0                    0   \n",
              "3                  0           0        0                    0   \n",
              "4                  0           0        0                    0   \n",
              "\n",
              "   N_ILHA DE SANTA MARIA  N_ILHA DO BOI  N_ILHA DO FRADE  N_ILHA DO PRÃNCIPE  \\\n",
              "0                      0              0                0                    0   \n",
              "1                      0              0                0                    0   \n",
              "2                      0              0                0                    0   \n",
              "3                      0              0                0                    0   \n",
              "4                      0              0                0                    0   \n",
              "\n",
              "   N_ILHAS OCEÃNICAS DE TRINDADE  N_INHANGUETÃ  N_ITARARÃ  N_JABOUR  \\\n",
              "0                               0              0           0         0   \n",
              "1                               0              0           0         0   \n",
              "2                               0              0           0         0   \n",
              "3                               0              0           0         0   \n",
              "4                               0              0           0         0   \n",
              "\n",
              "   N_JARDIM CAMBURI  N_JARDIM DA PENHA  N_JESUS DE NAZARETH  N_JOANA DÂ´ARC  \\\n",
              "0                 0                  1                    0               0   \n",
              "1                 0                  1                    0               0   \n",
              "2                 0                  0                    0               0   \n",
              "3                 0                  0                    0               0   \n",
              "4                 0                  1                    0               0   \n",
              "\n",
              "   N_JUCUTUQUARA  N_MARIA ORTIZ  N_MARUÃPE  N_MATA DA PRAIA  N_MONTE BELO  \\\n",
              "0              0              0           0                0             0   \n",
              "1              0              0           0                0             0   \n",
              "2              0              0           0                1             0   \n",
              "3              0              0           0                0             0   \n",
              "4              0              0           0                0             0   \n",
              "\n",
              "   N_MORADA DE CAMBURI  N_MÃRIO CYPRESTE  N_NAZARETH  N_NOVA PALESTINA  \\\n",
              "0                    0                  0           0                 0   \n",
              "1                    0                  0           0                 0   \n",
              "2                    0                  0           0                 0   \n",
              "3                    0                  0           0                 0   \n",
              "4                    0                  0           0                 0   \n",
              "\n",
              "   N_PARQUE INDUSTRIAL  N_PARQUE MOSCOSO  N_PIEDADE  N_PONTAL DE CAMBURI  \\\n",
              "0                    0                 0          0                    0   \n",
              "1                    0                 0          0                    0   \n",
              "2                    0                 0          0                    0   \n",
              "3                    0                 0          0                    1   \n",
              "4                    0                 0          0                    0   \n",
              "\n",
              "   N_PRAIA DO CANTO  N_PRAIA DO SUÃ  N_REDENÃÃO  N_REPÃBLICA  \\\n",
              "0                 0                0             0             0   \n",
              "1                 0                0             0             0   \n",
              "2                 0                0             0             0   \n",
              "3                 0                0             0             0   \n",
              "4                 0                0             0             0   \n",
              "\n",
              "   N_RESISTÃNCIA  N_ROMÃO  N_SANTA CECÃLIA  N_SANTA CLARA  N_SANTA HELENA  \\\n",
              "0               0         0                 0              0               0   \n",
              "1               0         0                 0              0               0   \n",
              "2               0         0                 0              0               0   \n",
              "3               0         0                 0              0               0   \n",
              "4               0         0                 0              0               0   \n",
              "\n",
              "   N_SANTA LUÃZA  N_SANTA LÃCIA  N_SANTA MARTHA  N_SANTA TEREZA  \\\n",
              "0               0               0               0               0   \n",
              "1               0               0               0               0   \n",
              "2               0               0               0               0   \n",
              "3               0               0               0               0   \n",
              "4               0               0               0               0   \n",
              "\n",
              "   N_SANTO ANDRÃ  N_SANTO ANTÃNIO  N_SANTOS DUMONT  N_SANTOS REIS  \\\n",
              "0               0                 0                0              0   \n",
              "1               0                 0                0              0   \n",
              "2               0                 0                0              0   \n",
              "3               0                 0                0              0   \n",
              "4               0                 0                0              0   \n",
              "\n",
              "   N_SEGURANÃA DO LAR  N_SOLON BORGES  N_SÃO BENEDITO  N_SÃO CRISTÃVÃO  \\\n",
              "0                    0               0                0                   0   \n",
              "1                    0               0                0                   0   \n",
              "2                    0               0                0                   0   \n",
              "3                    0               0                0                   0   \n",
              "4                    0               0                0                   0   \n",
              "\n",
              "   N_SÃO JOSÃ  N_SÃO PEDRO  N_TABUAZEIRO  N_UNIVERSITÃRIO  N_VILA RUBIM  \n",
              "0             0             0             0                 0             0  \n",
              "1             0             0             0                 0             0  \n",
              "2             0             0             0                 0             0  \n",
              "3             0             0             0                 0             0  \n",
              "4             0             0             0                 0             0  "
            ]
          },
          "metadata": {
            "tags": []
          },
          "execution_count": 239
        }
      ]
    },
    {
      "cell_type": "code",
      "metadata": {
        "id": "KQVpFodhaeeI"
      },
      "source": [
        "# Dividir o dataset em X e y.\n",
        "# X variáveis preditoras\n",
        "# y variável target\n",
        "\n",
        "X = dataset.drop('Class', axis=1)\n",
        "y = df_o['Class']       "
      ],
      "execution_count": null,
      "outputs": []
    },
    {
      "cell_type": "code",
      "metadata": {
        "id": "EsyAiaYx0NFf",
        "colab": {
          "base_uri": "https://localhost:8080/",
          "height": 35
        },
        "outputId": "16df709c-0dad-4dea-bf9f-45eed6afa74a"
      },
      "source": [
        "X.shape"
      ],
      "execution_count": null,
      "outputs": [
        {
          "output_type": "execute_result",
          "data": {
            "text/plain": [
              "(107853, 92)"
            ]
          },
          "metadata": {
            "tags": []
          },
          "execution_count": 241
        }
      ]
    },
    {
      "cell_type": "code",
      "metadata": {
        "id": "MAj6TVV9xKWh"
      },
      "source": [
        "# Normalizar os dados\n",
        "X = StandardScaler().fit_transform(X)"
      ],
      "execution_count": null,
      "outputs": []
    },
    {
      "cell_type": "markdown",
      "metadata": {
        "id": "s2P_A-w4Pk1N"
      },
      "source": [
        "### Correção do desbalanceamento de dados.\n",
        "### Novos dados sintéticos serão criados para estabelecer o equilibrio."
      ]
    },
    {
      "cell_type": "markdown",
      "metadata": {
        "id": "FgYsSLZhPkgc"
      },
      "source": [
        ""
      ]
    },
    {
      "cell_type": "code",
      "metadata": {
        "id": "MT3zC3OM28uQ"
      },
      "source": [
        "# Sample Oversampling - a classe menor recebe novos dados sinteticos para alcançar a classe superior\n",
        "smote = SMOTE(ratio='minority')\n",
        "X_sm, y_sm = smote.fit_sample(X, y)"
      ],
      "execution_count": null,
      "outputs": []
    },
    {
      "cell_type": "code",
      "metadata": {
        "id": "wn3c4Cz-zwK2",
        "colab": {
          "base_uri": "https://localhost:8080/",
          "height": 35
        },
        "outputId": "6ce103c2-5060-4f37-bcef-727139811cd9"
      },
      "source": [
        "y_sm.shape"
      ],
      "execution_count": null,
      "outputs": [
        {
          "output_type": "execute_result",
          "data": {
            "text/plain": [
              "(172642,)"
            ]
          },
          "metadata": {
            "tags": []
          },
          "execution_count": 244
        }
      ]
    },
    {
      "cell_type": "code",
      "metadata": {
        "id": "rQLy6Wm5bGqk",
        "colab": {
          "base_uri": "https://localhost:8080/",
          "height": 309
        },
        "outputId": "edfb98e0-0743-4586-aa98-e939dcef3b48"
      },
      "source": [
        "# Dataset após Smote\n",
        "sns.countplot(y_sm, palette=\"pastel\")\n",
        "plt.box = False\n",
        "plt.xlabel('Compareceu na consulta\\n 0: Não  1: Sim', fontsize = 11)\n",
        "plt.ylabel(\"Total pessoas\", fontsize = 11)\n",
        "plt.title(\"Status do comparecimento na consulta\")\n",
        "plt.show()"
      ],
      "execution_count": null,
      "outputs": [
        {
          "output_type": "display_data",
          "data": {
            "image/png": "[encoded data removed]",
            "text/plain": [
              "<Figure size 432x288 with 1 Axes>"
            ]
          },
          "metadata": {
            "tags": []
          }
        }
      ]
    },
    {
      "cell_type": "markdown",
      "metadata": {
        "id": "1MhjRhEO521G"
      },
      "source": [
        "### Modelos\n"
      ]
    },
    {
      "cell_type": "code",
      "metadata": {
        "id": "Dfq25oI_6NX9"
      },
      "source": [
        "# Divisão dos dados em treino e teste\n",
        "X_treino, X_teste, y_treino, y_teste = train_test_split(X_sm, y_sm, test_size = 0.25, random_state = 42)"
      ],
      "execution_count": null,
      "outputs": []
    },
    {
      "cell_type": "code",
      "metadata": {
        "id": "L0pLqqhuMPwS",
        "colab": {
          "base_uri": "https://localhost:8080/",
          "height": 35
        },
        "outputId": "acc02d26-61af-464e-b63e-9b797d623069"
      },
      "source": [
        "# Shape dos dados de treinamento\n",
        "# X_treino\n",
        "\n",
        "X_treino.shape"
      ],
      "execution_count": null,
      "outputs": [
        {
          "output_type": "execute_result",
          "data": {
            "text/plain": [
              "(129481, 92)"
            ]
          },
          "metadata": {
            "tags": []
          },
          "execution_count": 247
        }
      ]
    },
    {
      "cell_type": "code",
      "metadata": {
        "id": "u7_yB_MZa2zC"
      },
      "source": [
        "def rfc_model(X_treino,y_treino, n_estimators =500, cv = 10):\n",
        "  rfc = RandomForestClassifier(n_estimators= n_estimators, random_state = 42, n_jobs = -1, criterion= 'entropy')\n",
        "  cv_scores = cross_val_score(rfc, X_treino, y_treino, scoring = 'roc_auc', cv = cv, n_jobs = -1)\n",
        "  print(\"Média dos\", cv,\"testes:\", np.round(cv_scores.mean(),4))"
      ],
      "execution_count": null,
      "outputs": []
    },
    {
      "cell_type": "code",
      "metadata": {
        "id": "AF5cej3yffry"
      },
      "source": [
        "def gbc_model (X_treino, y_treino, n_estimators = 500, learning_rate = 0.1, cv = 10):\n",
        "  gbc = GradientBoostingClassifier(n_estimators = n_estimators, learning_rate = learning_rate, random_state = 42 )\n",
        "  cv_scores = cross_val_score(gbc, X_treino, y_treino, scoring= \"roc_auc\", cv = cv, n_jobs = -1)\n",
        "  print(\"Média dos\", cv, \"testes:\", np.round(cv_scores.mean(),4)) "
      ],
      "execution_count": null,
      "outputs": []
    },
    {
      "cell_type": "markdown",
      "metadata": {
        "id": "zGuzWlW7L1Ux"
      },
      "source": [
        "## Valor AUC calculado nos modelos\n",
        "\n",
        "---\n",
        "\n"
      ]
    },
    {
      "cell_type": "code",
      "metadata": {
        "id": "iEixhgPkb6m3",
        "colab": {
          "base_uri": "https://localhost:8080/",
          "height": 35
        },
        "outputId": "54ee067c-4d75-4d76-ce61-ad6c8f5cb2dc"
      },
      "source": [
        "rfc_model(X_treino, y_treino)"
      ],
      "execution_count": null,
      "outputs": [
        {
          "output_type": "stream",
          "text": [
            "Média dos 10 testes: 0.9293\n"
          ],
          "name": "stdout"
        }
      ]
    },
    {
      "cell_type": "code",
      "metadata": {
        "id": "JlsfTwPthLj3",
        "colab": {
          "base_uri": "https://localhost:8080/",
          "height": 35
        },
        "outputId": "a58fa31a-46b6-474d-dd8b-579f5c4ca46e"
      },
      "source": [
        "gbc_model(X_treino, y_treino)"
      ],
      "execution_count": null,
      "outputs": [
        {
          "output_type": "stream",
          "text": [
            "Média dos 10 testes: 0.9186\n"
          ],
          "name": "stdout"
        }
      ]
    },
    {
      "cell_type": "markdown",
      "metadata": {
        "id": "zwJqO9gkxT8l"
      },
      "source": [
        "### Curva AUC do melhor modelo"
      ]
    },
    {
      "cell_type": "markdown",
      "metadata": {
        "id": "wtB-Cxtlrevj"
      },
      "source": [
        "### Quanto mais a curva se aproxima do canto superior esquerdo, mais preciso é o modelo nas classificações."
      ]
    },
    {
      "cell_type": "code",
      "metadata": {
        "id": "2huAvuPyxTPW"
      },
      "source": [
        "rfc = RandomForestClassifier(n_estimators= 500, random_state = 42, n_jobs = -1, criterion= 'entropy')\n",
        "rfc.fit(X_treino, y_treino)\n",
        "prediction = rfc.predict_proba(X_teste)\n",
        "proba_predict = prediction[:,1] # Coluna de indice 1, corresponde a classe positiva onde a pessoa Não-Compareceu a consulta"
      ],
      "execution_count": null,
      "outputs": []
    },
    {
      "cell_type": "code",
      "metadata": {
        "id": "GV3yZjskyekX",
        "colab": {
          "base_uri": "https://localhost:8080/",
          "height": 301
        },
        "outputId": "5049254b-862a-4831-c156-8be18a222449"
      },
      "source": [
        "fpr, tpr, threshold = metrics.roc_curve(y_teste, proba_predict)\n",
        "roc_auc = metrics.auc(fpr, tpr)\n",
        "\n",
        "plt.title('Receiver Operating Characteristic')\n",
        "plt.plot(fpr, tpr, 'b', label = 'AUC = %0.2f' % roc_auc)\n",
        "plt.legend(loc = 'lower right')\n",
        "plt.plot([0, 1], [0, 1],'r--')\n",
        "plt.xlim([0, 1])\n",
        "plt.ylim([0, 1])\n",
        "plt.ylabel('True Positive Rate')\n",
        "plt.xlabel('False Positive Rate')\n",
        "plt.show()"
      ],
      "execution_count": null,
      "outputs": [
        {
          "output_type": "display_data",
          "data": {
            "image/png": "[encoded data removed]",
            "text/plain": [
              "<Figure size 432x288 with 1 Axes>"
            ]
          },
          "metadata": {
            "tags": []
          }
        }
      ]
    },
    {
      "cell_type": "markdown",
      "metadata": {
        "id": "E2YEfM5hsWbv"
      },
      "source": [
        "## Avaliando o modelo através do Coeficiente de Correlação de Mattheus - MCC"
      ]
    },
    {
      "cell_type": "markdown",
      "metadata": {
        "id": "H4SyLhTisyCw"
      },
      "source": [
        "#### The Matthews correlation coefficient is used in machine learning as a measure of the quality of binary and multiclass classifications. It takes into account true and false positives and negatives and is generally regarded as a balanced measure which can be used even if the classes are of very different sizes. The MCC is in essence a correlation coefficient value between -1 and +1. A coefficient of +1 represents a perfect prediction, 0 an average random prediction and -1 an inverse prediction. The statistic is also known as the phi coefficient. [source: Wikipedia]"
      ]
    },
    {
      "cell_type": "code",
      "metadata": {
        "id": "MGDlDsWdskMz",
        "colab": {
          "base_uri": "https://localhost:8080/",
          "height": 35
        },
        "outputId": "d3ada793-0351-4893-8da5-a4410054c89a"
      },
      "source": [
        "prediction = rfc.predict(X_teste)\n",
        "matthews_corrcoef(y_teste,prediction)"
      ],
      "execution_count": null,
      "outputs": [
        {
          "output_type": "execute_result",
          "data": {
            "text/plain": [
              "0.7183048295622289"
            ]
          },
          "metadata": {
            "tags": []
          },
          "execution_count": 254
        }
      ]
    },
    {
      "cell_type": "markdown",
      "metadata": {
        "id": "p_OC8FNDkVyR"
      },
      "source": [
        "### Selecionando as variáveis mais importantes\n"
      ]
    },
    {
      "cell_type": "code",
      "metadata": {
        "id": "3LfOYkQtkVKP",
        "colab": {
          "base_uri": "https://localhost:8080/",
          "height": 163
        },
        "outputId": "1fa64624-434f-4dfd-c314-2ebc556fa4ea"
      },
      "source": [
        "# Modelo com melhor score AUC\n",
        "# Recriando o modelo pois estava interno a função rfc_model\n",
        "# Criando o modelo com nome rfc apenas\n",
        "\n",
        "rfc = RandomForestClassifier(n_estimators= 500, random_state = 42, n_jobs = -1)\n",
        "rfc.fit(X_treino, y_treino)"
      ],
      "execution_count": null,
      "outputs": [
        {
          "output_type": "execute_result",
          "data": {
            "text/plain": [
              "RandomForestClassifier(bootstrap=True, ccp_alpha=0.0, class_weight=None,\n",
              "                       criterion='gini', max_depth=None, max_features='auto',\n",
              "                       max_leaf_nodes=None, max_samples=None,\n",
              "                       min_impurity_decrease=0.0, min_impurity_split=None,\n",
              "                       min_samples_leaf=1, min_samples_split=2,\n",
              "                       min_weight_fraction_leaf=0.0, n_estimators=500,\n",
              "                       n_jobs=-1, oob_score=False, random_state=42, verbose=0,\n",
              "                       warm_start=False)"
            ]
          },
          "metadata": {
            "tags": []
          },
          "execution_count": 255
        }
      ]
    },
    {
      "cell_type": "code",
      "metadata": {
        "id": "BAnQdY8qE8PQ"
      },
      "source": [
        "importances = rfc.feature_importances_\n",
        "variables = np.array(dataset.columns)\n",
        "indices = np.argsort(importances)[::-1]\n",
        "importances = np.round(importances[indices],4)\n",
        "variables = variables[indices]"
      ],
      "execution_count": null,
      "outputs": []
    },
    {
      "cell_type": "code",
      "metadata": {
        "id": "FjV5aEd2Qa8K",
        "colab": {
          "base_uri": "https://localhost:8080/",
          "height": 35
        },
        "outputId": "2c9daf8b-8311-405e-b5e9-9680ce5bfbd0"
      },
      "source": [
        "variables[2],importances[2]\n",
        "            "
      ],
      "execution_count": null,
      "outputs": [
        {
          "output_type": "execute_result",
          "data": {
            "text/plain": [
              "('Day', 0.1844)"
            ]
          },
          "metadata": {
            "tags": []
          },
          "execution_count": 257
        }
      ]
    },
    {
      "cell_type": "code",
      "metadata": {
        "id": "WyXQCVk1Hdij",
        "colab": {
          "base_uri": "https://localhost:8080/",
          "height": 35
        },
        "outputId": "53fe4f36-5a47-4a43-dc64-63c75826fa40"
      },
      "source": [
        "dataset.shape"
      ],
      "execution_count": null,
      "outputs": [
        {
          "output_type": "execute_result",
          "data": {
            "text/plain": [
              "(107853, 93)"
            ]
          },
          "metadata": {
            "tags": []
          },
          "execution_count": 258
        }
      ]
    },
    {
      "cell_type": "code",
      "metadata": {
        "id": "nOXgcJTU11P9",
        "colab": {
          "base_uri": "https://localhost:8080/",
          "height": 432
        },
        "outputId": "1cbdacca-e671-4d05-b1af-6a2f13747a58"
      },
      "source": [
        "from matplotlib import pyplot\n",
        "features = dataset.columns\n",
        "importance = rfc.feature_importances_\n",
        "# summarize feature importance\n",
        "for i,v in enumerate(importance):\n",
        "\t#print('Nome:Feature: %0d, Score: %.5f' % (i,v))\n",
        "  print('Feature',i,':',features[i], ' Score:',round(v,3))\n",
        "# plot feature importance\n",
        "pyplot.bar([x for x in range(len(importance))], importance)\n",
        "pyplot.show()"
      ],
      "execution_count": null,
      "outputs": [
        {
          "output_type": "stream",
          "text": [
            "Feature 0 : Gender  Score: 0.011\n",
            "Feature 1 : Age  Score: 0.41\n",
            "Feature 2 : Scholarship  Score: 0.005\n",
            "Feature 3 : Hipertension  Score: 0.005\n",
            "Feature 4 : Diabetes  Score: 0.005\n",
            "Feature 5 : Alcoholism  Score: 0.01\n",
            "Feature 6 : Handcap  Score: 0.331\n",
            "Feature 7 : SMS_received  Score: 0.218\n",
            "Feature 8 : WaitingTime  Score: 0.005\n"
          ],
          "name": "stdout"
        },
        {
          "output_type": "display_data",
          "data": {
            "image/png": "[encoded data removed]",
            "text/plain": [
              "<Figure size 432x288 with 1 Axes>"
            ]
          },
          "metadata": {
            "tags": []
          }
        }
      ]
    },
    {
      "cell_type": "code",
      "metadata": {
        "id": "poe-Yx7uHYqF"
      },
      "source": [
        "def sum_and_plot_importances(variables, importances):\n",
        "    sum_importances = pd.DataFrame()\n",
        "    for i in range(importances.size):\n",
        "        sum_importance = importances[:(i+1)].sum()\n",
        "        this_variable = pd.Series([variables[i], sum_importance])\n",
        "        sum_importances = sum_importances.append(this_variable, ignore_index = True)\n",
        "    plt.scatter(sum_importances.index, sum_importances.iloc[:,1])\n",
        "    return sum_importances  "
      ],
      "execution_count": null,
      "outputs": []
    },
    {
      "cell_type": "markdown",
      "metadata": {
        "id": "j-fNqdVFCfB3"
      },
      "source": [
        "### Através desse gráfico é possível ver que rapidamente atingi-se mais de 0.9 na importância acumulada das variáveis. Assim usando apenas a primeiras 10 variáveis já se atinge um valor interessante de performance.\n"
      ]
    },
    {
      "cell_type": "code",
      "metadata": {
        "id": "I-ffyriYIk3r",
        "colab": {
          "base_uri": "https://localhost:8080/",
          "height": 268
        },
        "outputId": "93359bb2-1bff-470c-83f3-5b0a4e049986"
      },
      "source": [
        "# As primeiras 10 variáveis já atingem um valor acumulado próximo de 1.\n",
        "sum_importances = sum_and_plot_importances(variables, importances)\n",
        "\n"
      ],
      "execution_count": null,
      "outputs": [
        {
          "output_type": "display_data",
          "data": {
            "image/png": "[encoded data removed]",
            "text/plain": [
              "<Figure size 432x288 with 1 Axes>"
            ]
          },
          "metadata": {
            "tags": []
          }
        }
      ]
    },
    {
      "cell_type": "markdown",
      "metadata": {
        "id": "qam5yUxrWMQo"
      },
      "source": [
        "### Selecionando apenas as 9 primeiras variáveis no dataset"
      ]
    },
    {
      "cell_type": "code",
      "metadata": {
        "id": "PkUA5NlI9KfI"
      },
      "source": [
        "# Novo dataset com apenas com as principais features\n",
        "dataset2 = pd.DataFrame()\n",
        "dataset2[['Class','Gender', 'Age', 'Scholarship', 'Hipertension', 'Handcap', 'SMS_received', 'WaitingTime',\n",
        "       'Day', 'Diabetes']] = dataset[['Class','Gender', 'Age', 'Scholarship', 'Hipertension', 'Handcap', 'SMS_received', 'WaitingTime',\n",
        "       'Day', 'Diabetes']]"
      ],
      "execution_count": null,
      "outputs": []
    },
    {
      "cell_type": "code",
      "metadata": {
        "id": "Z3hcrx9Rbtvl",
        "colab": {
          "base_uri": "https://localhost:8080/",
          "height": 35
        },
        "outputId": "33782b2e-386a-4faf-83be-ac8d344a32d6"
      },
      "source": [
        "dataset2.shape"
      ],
      "execution_count": null,
      "outputs": [
        {
          "output_type": "execute_result",
          "data": {
            "text/plain": [
              "(107853, 10)"
            ]
          },
          "metadata": {
            "tags": []
          },
          "execution_count": 263
        }
      ]
    },
    {
      "cell_type": "code",
      "metadata": {
        "id": "MbTJswCz-kIC"
      },
      "source": [
        "# Dividir o dataset em X e y.\n",
        "# X variáveis preditoras\n",
        "# y variável target\n",
        "\n",
        "X = dataset2.drop('Class', axis=1)\n",
        "y = df_o['Class']"
      ],
      "execution_count": null,
      "outputs": []
    },
    {
      "cell_type": "code",
      "metadata": {
        "id": "hJeY4Vtt-oLG"
      },
      "source": [
        "# Normalizar os dados\n",
        "X = StandardScaler().fit_transform(X)"
      ],
      "execution_count": null,
      "outputs": []
    },
    {
      "cell_type": "code",
      "metadata": {
        "id": "5kjiVb3Z-3bd"
      },
      "source": [
        "# Sample Oversampling - a classe menor recebe novos dados sinteticos para alcançar a classe superior\n",
        "smote = SMOTE(ratio='minority')\n",
        "X_sm, y_sm = smote.fit_sample(X, y)"
      ],
      "execution_count": null,
      "outputs": []
    },
    {
      "cell_type": "code",
      "metadata": {
        "id": "t3efx8V6--_k"
      },
      "source": [
        "# Divisão dos dados em treino e teste\n",
        "X_treino, X_teste, y_treino, y_teste = train_test_split(X_sm, y_sm, test_size = 0.25, random_state = 42)"
      ],
      "execution_count": null,
      "outputs": []
    },
    {
      "cell_type": "code",
      "metadata": {
        "id": "Or1_Mr-U-x8F",
        "colab": {
          "base_uri": "https://localhost:8080/",
          "height": 35
        },
        "outputId": "d9aba992-bb58-4ced-a99b-6379b28591aa"
      },
      "source": [
        "X_treino.shape"
      ],
      "execution_count": null,
      "outputs": [
        {
          "output_type": "execute_result",
          "data": {
            "text/plain": [
              "(129481, 9)"
            ]
          },
          "metadata": {
            "tags": []
          },
          "execution_count": 268
        }
      ]
    },
    {
      "cell_type": "code",
      "metadata": {
        "id": "5Te2nE5LvNeW",
        "colab": {
          "base_uri": "https://localhost:8080/",
          "height": 35
        },
        "outputId": "993b2244-a66b-4df8-f863-748293b8d93d"
      },
      "source": [
        "y_treino.size"
      ],
      "execution_count": null,
      "outputs": [
        {
          "output_type": "execute_result",
          "data": {
            "text/plain": [
              "129481"
            ]
          },
          "metadata": {
            "tags": []
          },
          "execution_count": 269
        }
      ]
    },
    {
      "cell_type": "markdown",
      "metadata": {
        "id": "c2h6u7LqPJPh"
      },
      "source": [
        "### Curva *AUC* com 9 variáveis"
      ]
    },
    {
      "cell_type": "code",
      "metadata": {
        "id": "MnjjGbmtPdMR"
      },
      "source": [
        "rfc = RandomForestClassifier(n_estimators= 500, random_state = 42, n_jobs = -1, criterion= 'entropy')\n",
        "rfc.fit(X_treino, y_treino)\n",
        "prediction = rfc.predict_proba(X_teste)"
      ],
      "execution_count": null,
      "outputs": []
    },
    {
      "cell_type": "code",
      "metadata": {
        "id": "ESri4QVRPeUa"
      },
      "source": [
        "proba_predict = prediction[:,1]"
      ],
      "execution_count": null,
      "outputs": []
    },
    {
      "cell_type": "code",
      "metadata": {
        "id": "suFGxQHAPMcR",
        "colab": {
          "base_uri": "https://localhost:8080/",
          "height": 301
        },
        "outputId": "8d6f35b9-9f70-4106-8eb5-0dc42b0eaff4"
      },
      "source": [
        "fpr, tpr, threshold = metrics.roc_curve(y_teste, proba_predict)\n",
        "roc_auc = metrics.auc(fpr, tpr)\n",
        "\n",
        "plt.title('Receiver Operating Characteristic')\n",
        "plt.plot(fpr, tpr, 'b', label = 'AUC = %0.2f' % roc_auc)\n",
        "plt.legend(loc = 'lower right')\n",
        "plt.plot([0, 1], [0, 1],'r--')\n",
        "plt.xlim([0, 1])\n",
        "plt.ylim([0, 1])\n",
        "plt.ylabel('True Positive Rate')\n",
        "plt.xlabel('False Positive Rate')\n",
        "plt.show()"
      ],
      "execution_count": null,
      "outputs": [
        {
          "output_type": "display_data",
          "data": {
            "image/png": "[encoded data removed]",
            "text/plain": [
              "<Figure size 432x288 with 1 Axes>"
            ]
          },
          "metadata": {
            "tags": []
          }
        }
      ]
    },
    {
      "cell_type": "markdown",
      "metadata": {
        "id": "p-VHXtqGyt1I"
      },
      "source": [
        "## Avaliação do modelo RFC:\n",
        "## Submetendo as 92 variáveis o valor AUC foi de 0.93\n",
        "## Submetendo apenas as 9 variáveis com maior importância para o modelo: 0.90"
      ]
    },
    {
      "cell_type": "markdown",
      "metadata": {
        "id": "TKe93_I950eB"
      },
      "source": [
        "# *** Quanto maior o valor AUC melhor a performance do modelo.***\n",
        "\n"
      ]
    },
    {
      "cell_type": "markdown",
      "metadata": {
        "id": "-px5iP2ugT_P"
      },
      "source": [
        "## Avaliando o modelo através do Coeficiente de Correlação de Mattheus - MCC"
      ]
    },
    {
      "cell_type": "code",
      "metadata": {
        "id": "QKJqaFc5PHpm",
        "colab": {
          "base_uri": "https://localhost:8080/",
          "height": 35
        },
        "outputId": "a86f6ec5-cfe8-47bc-cbd2-313d7e22bf7d"
      },
      "source": [
        "prediction = rfc.predict(X_teste)\n",
        "matthews_corrcoef(y_teste,prediction)"
      ],
      "execution_count": null,
      "outputs": [
        {
          "output_type": "execute_result",
          "data": {
            "text/plain": [
              "0.6461030650378793"
            ]
          },
          "metadata": {
            "tags": []
          },
          "execution_count": 273
        }
      ]
    },
    {
      "cell_type": "markdown",
      "metadata": {
        "id": "c2prZDjaDlyt"
      },
      "source": [
        "### O coeficiente de Matthews obtido com as 92 variáveis foi de 0.72.\n",
        "### O mesmo coeficiente com as 9 variáveis usadas obteve 0.65."
      ]
    },
    {
      "cell_type": "markdown",
      "metadata": {
        "id": "UZPjuc8OguDY"
      },
      "source": [
        "### Usando menos variáveis temos um custo menor de processamento, o score AUC quase não foi alterado, o coeficente de Matthews apresentou uma queda, mas continua relevante. Outras estratégias para redução de dimensionalidade através da aplicação do PCA e a criação de componentes baseados nas 92 colunas e reduzindo para 10 ou menos, também poderiam ser aplicadas."
      ]
    }
  ]
}