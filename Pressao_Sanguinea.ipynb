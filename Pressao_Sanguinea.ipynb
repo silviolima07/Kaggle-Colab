{
  "nbformat": 4,
  "nbformat_minor": 0,
  "metadata": {
    "colab": {
      "name": "Pressao_Sanguinea",
      "provenance": [],
      "collapsed_sections": [],
      "mount_file_id": "1kZ2LuuQrfffI6BLozdKlsj4hXhszq99l",
      "authorship_tag": "ABX9TyPa2ErKrhDvXqUXBrpaeeVb",
      "include_colab_link": true
    },
    "kernelspec": {
      "display_name": "Python 3",
      "name": "python3"
    }
  },
  "cells": [
    {
      "cell_type": "markdown",
      "metadata": {
        "id": "view-in-github",
        "colab_type": "text"
      },
      "source": [
        "<a href=\"https://colab.research.google.com/github/silviolima07/Kaggle-Colab/blob/main/Pressao_Sanguinea.ipynb\" target=\"_parent\"><img src=\"https://colab.research.google.com/assets/colab-badge.svg\" alt=\"Open In Colab\"/></a>"
      ]
    },
    {
      "cell_type": "markdown",
      "metadata": {
        "id": "8gr-Sh1hwAld"
      },
      "source": [
        "## Fatores Correlacionados a Pressão Alta\n",
        "### Quais fatores mais influenciam a ocorrência de pressão alta?\n",
        "#### Num grupo de pessoas entre 16 e 35 anos\n",
        "#### Dois fatores tem quase 80% de importância:\n",
        "#### - **SBP - Systolic blood pressure**\n",
        "#### - **DBP - Dystolic blood pressure**\n",
        "### A importância de outros fatores, pode ser vista no final da análise.\n",
        "- Detalhes: https://www.hindawi.com/journals/jobe/2014/637635/\n",
        "\n"
      ]
    },
    {
      "cell_type": "markdown",
      "metadata": {
        "id": "zKQ7IjoHT_uG"
      },
      "source": [
        "![alt text](https://drive.google.com/uc?id=1A2XlJcv6Erj6H4xR0yMhVjynEAIbwTDT)"
      ]
    },
    {
      "cell_type": "code",
      "metadata": {
        "id": "oU2-ggUgHNpl"
      },
      "source": [
        "# Carregando os pacotes\n",
        "import pandas as pd\n",
        "import numpy as np\n",
        "import seaborn as sns\n",
        "sns.set(color_codes=True)\n",
        "import matplotlib.pyplot as plt\n",
        "\n",
        "from sklearn.model_selection import train_test_split\n",
        "from sklearn.ensemble import RandomForestClassifier\n",
        "from sklearn.ensemble import ExtraTreesClassifier\n",
        "from sklearn import preprocessing\n",
        "\n",
        "\n",
        "from scipy import stats\n",
        "from sklearn.preprocessing import StandardScaler\n",
        "import imblearn\n",
        "\n",
        "from imblearn.over_sampling import SMOTE\n",
        "\n",
        "from sklearn import preprocessing, metrics\n",
        "\n",
        "import warnings\n",
        "warnings.filterwarnings('ignore')\n",
        "\n",
        "import os\n",
        "\n",
        "# Evitar que aparece os warnings\n",
        "import warnings\n",
        "warnings.filterwarnings(\"ignore\")\n",
        "\n",
        "# Seta algumas opções no Jupyter para exibição dos datasets\n",
        "pd.set_option('display.max_columns', 200)\n",
        "pd.set_option('display.max_rows', 200)\n",
        "pd.set_option('precision',2)"
      ],
      "execution_count": null,
      "outputs": []
    },
    {
      "cell_type": "code",
      "metadata": {
        "id": "QNN1BYS-xRjx"
      },
      "source": [
        "# Funcao para reducao da memoria utilizada\n",
        "def reduce_mem_usage(df, verbose=True):\n",
        "    numerics = ['int16', 'int32', 'int64', 'float16', 'float32', 'float64']\n",
        "    start_mem = df.memory_usage().sum() / 1024**2    \n",
        "    for col in df.columns:\n",
        "        col_type = df[col].dtypes\n",
        "        if col_type in numerics:\n",
        "            c_min = df[col].min()\n",
        "            c_max = df[col].max()\n",
        "            if str(col_type)[:3] == 'int':\n",
        "                if c_min > np.iinfo(np.int8).min and c_max < np.iinfo(np.int8).max:\n",
        "                    df[col] = df[col].astype(np.int8)\n",
        "                elif c_min > np.iinfo(np.int16).min and c_max < np.iinfo(np.int16).max:\n",
        "                    df[col] = df[col].astype(np.int16)\n",
        "                elif c_min > np.iinfo(np.int32).min and c_max < np.iinfo(np.int32).max:\n",
        "                    df[col] = df[col].astype(np.int32)\n",
        "                elif c_min > np.iinfo(np.int64).min and c_max < np.iinfo(np.int64).max:\n",
        "                    df[col] = df[col].astype(np.int64)  \n",
        "            else:\n",
        "                if c_min > np.finfo(np.float16).min and c_max < np.finfo(np.float16).max:\n",
        "                    df[col] = df[col].astype(np.float16)\n",
        "                elif c_min > np.finfo(np.float32).min and c_max < np.finfo(np.float32).max:\n",
        "                    df[col] = df[col].astype(np.float32)\n",
        "                else:\n",
        "                    df[col] = df[col].astype(np.float64)    \n",
        "    end_mem = df.memory_usage().sum() / 1024**2\n",
        "    if verbose: print('Mem. usage decreased to {:5.2f} Mb ({:.1f}% reduction)'.format(end_mem, 100 * (start_mem - end_mem) / start_mem))\n",
        "    return df"
      ],
      "execution_count": null,
      "outputs": []
    },
    {
      "cell_type": "code",
      "metadata": {
        "id": "wW_aUhMtxfzw"
      },
      "source": [
        "# Funcao para realizar a leitura dos arquivos\n",
        "def read_data(df,path):\n",
        "     \n",
        "        print('Carregando os arquivos de', df)\n",
        "        data = pd.read_csv(path, encoding='latin',decimal=',')\n",
        "        data = reduce_mem_usage(data)\n",
        "        print('Dataset tem {} linhas e {} colunas\\n'.format(data.shape[0], data.shape[1]))\n",
        "        return data"
      ],
      "execution_count": null,
      "outputs": []
    },
    {
      "cell_type": "code",
      "metadata": {
        "id": "0veadRJntZtQ"
      },
      "source": [
        "def criar_model(genero,df):\r\n",
        "  lista_score = []\r\n",
        "  lista_genero =[]\r\n",
        "  lista_algori = []\r\n",
        "  lista_mode = []\r\n",
        "  # Dividir o dataset em X e y.\r\n",
        "  # X variáveis preditoras\r\n",
        "  # y variável target\r\n",
        "\r\n",
        "  X = df.drop('pressao', axis=1)\r\n",
        "  y = df['pressao']\r\n",
        "  \r\n",
        "  X_train, X_test, y_train, y_test = train_test_split(X, y, random_state=0)\r\n",
        "    \r\n",
        "  for i in range(len(lista_de_algoritmo)):\r\n",
        "    print(\"Treinando modelo:\",lista_de_algoritmo[i])\r\n",
        "    lista_de_modelo[i].fit(X_train, y_train)\r\n",
        "    score = lista_de_modelo[i].score(X_test, y_test)\r\n",
        "    lista_score.append(score)\r\n",
        "    lista_genero.append(genero)\r\n",
        "    lista_algori.append(lista_de_algoritmo[i])\r\n",
        "    lista_mode.append(lista_de_modelo[i])\r\n",
        "  print(\"ok - done\")  \r\n",
        "  return (lista_genero, lista_score, lista_algori, lista_mode)"
      ],
      "execution_count": null,
      "outputs": []
    },
    {
      "cell_type": "code",
      "metadata": {
        "id": "ZqwWFNBKZA9h"
      },
      "source": [
        "def feature_importance(df, modelo):\r\n",
        "    # Dividir o dataset em X e y\r\n",
        "    X = df.drop('pressao', axis=1)\r\n",
        "    y = df['pressao']\r\n",
        "  \r\n",
        "    X_train, X_test, y_train, y_test = train_test_split(X, y, random_state=0)\r\n",
        "\r\n",
        "    model = modelo\r\n",
        "    model.fit(X_train, y_train)\r\n",
        "\r\n",
        "    lista_feature = [] # Irá guardar as features avaliadas\r\n",
        "    lista_score   = [] # Irá guardar o score de importância da feature\r\n",
        "    lista_genero  = [] # Irá guardar o genero dos dados analisados\r\n",
        "\r\n",
        "    from matplotlib import pyplot\r\n",
        "    features = df.columns\r\n",
        "    importance = model.feature_importances_\r\n",
        "    # summarize feature importance\r\n",
        "    for i,v in enumerate(importance):\r\n",
        "\t      #print('Nome:Feature: %0d, Score: %.5f' % (i,v))\r\n",
        "        #print('Feature',i,':',features[i], ' Score:',round(v,3))\r\n",
        "        lista_feature.append(features[i])\r\n",
        "        lista_score.append((round(v,3)))\r\n",
        "    # plot feature importance\r\n",
        "    pyplot.bar([x for x in range(len(importance))], importance)\r\n",
        "    pyplot.title('\\nImportância das Features na Classificação do Modelo\\n', fontsize=14, fontweight='bold');\r\n",
        "    pyplot.show()  \r\n",
        "    return (lista_feature, lista_score)"
      ],
      "execution_count": null,
      "outputs": []
    },
    {
      "cell_type": "code",
      "metadata": {
        "id": "_WN4gppvZTTv"
      },
      "source": [
        "def show_features(genero):\r\n",
        "  data = { 'Feature': [features[0], features[1],\r\n",
        "                   features[2], features[3],\r\n",
        "                   features[4], features[5],\r\n",
        "                   features[6], features[7]],\r\n",
        "\r\n",
        "        'Importancia': [scores[0], scores[1],\r\n",
        "                   scores[2], scores[3],\r\n",
        "                   scores[4], scores[5],\r\n",
        "                   scores[6], scores[7]]}        \r\n",
        "      \r\n",
        "  df_imp = pd.DataFrame(data, columns=['Feature','Importancia'])\r\n",
        "  df_imp.Importancia = np.round(df_imp.Importancia,2)\r\n",
        "  #\r\n",
        "  print(\"\\nImportância das Features para:\\n\\t\", str.upper(genero),\"\\n\")\r\n",
        "  df_imp.sort_values(by='Importancia')\r\n",
        "  return df_imp"
      ],
      "execution_count": null,
      "outputs": []
    },
    {
      "cell_type": "code",
      "metadata": {
        "id": "tEpc-eI6ZjXh"
      },
      "source": [
        "def sum_and_plot_importances(df,modelo):\r\n",
        "    X = df.drop('pressao', axis=1)\r\n",
        "    y = df['pressao']\r\n",
        "    X_train, X_test, y_train, y_test = train_test_split(X, y, random_state=0)\r\n",
        "    #\r\n",
        "    model = modelo\r\n",
        "    model.fit(X_train, y_train)\r\n",
        "    #\r\n",
        "    importances = model.feature_importances_\r\n",
        "    variables = np.array(df.columns)\r\n",
        "    indices = np.argsort(importances)[::-1]\r\n",
        "    importances = np.round(importances[indices],4)\r\n",
        "    variables = variables[indices]\r\n",
        "    # \r\n",
        "    sum_importances = pd.DataFrame()\r\n",
        "    for i in range(importances.size):\r\n",
        "        sum_importance = importances[:(i+1)].sum()\r\n",
        "        this_variable = pd.Series([variables[i], sum_importance])\r\n",
        "        sum_importances = sum_importances.append(this_variable, ignore_index = True)\r\n",
        "    plt.scatter(sum_importances.index, sum_importances.iloc[:,1])\r\n",
        "    return sum_importances"
      ],
      "execution_count": null,
      "outputs": []
    },
    {
      "cell_type": "code",
      "metadata": {
        "colab": {
          "base_uri": "https://localhost:8080/"
        },
        "id": "GjJa2EY-ye_E",
        "outputId": "763a6af5-96a4-42d2-e26d-7d7b519e47ab"
      },
      "source": [
        "# Leitura dos dados\n",
        "path1= '/content/drive/MyDrive/Colab Notebooks/Dataset/Pressao_Sanguinea/femtodos.csv'\n",
        "path2= '/content/drive/MyDrive/Colab Notebooks/Dataset/Pressao_Sanguinea/masctodos.csv'\n",
        "df_fem = read_data('df_fem',path1)\n",
        "df_masc = read_data('df_masc',path2)"
      ],
      "execution_count": null,
      "outputs": [
        {
          "output_type": "stream",
          "text": [
            "Carregando os arquivos de df_fem\n",
            "Mem. usage decreased to  0.01 Mb (63.3% reduction)\n",
            "Dataset tem 224 linhas e 10 colunas\n",
            "\n",
            "Carregando os arquivos de df_masc\n",
            "Mem. usage decreased to  0.00 Mb (63.2% reduction)\n",
            "Dataset tem 175 linhas e 10 colunas\n",
            "\n"
          ],
          "name": "stdout"
        }
      ]
    },
    {
      "cell_type": "markdown",
      "metadata": {
        "id": "x9xDNC1_LAy3"
      },
      "source": [
        "\r\n",
        "### Fatores analisados:\r\n",
        "- idade, \r\n",
        "- obesidade, \r\n",
        "- indice de massa corporea (BMI- body mass index)\r\n",
        "- circunferência da cintura (WC- waist circumference)\r\n",
        "- circunferência do quadril (HC - hip circumference)\r\n",
        "- razão da circunferência da cintura(WHR - waist hip ratio),\r\n",
        "- SBP - Systolic blood pressure\r\n",
        "- DBP - Dystolic blood pressure\r\n",
        "\r\n",
        "#### A coluna preh é a classificação original do dataset"
      ]
    },
    {
      "cell_type": "code",
      "metadata": {
        "colab": {
          "base_uri": "https://localhost:8080/",
          "height": 204
        },
        "id": "b5PTvxA_zLkM",
        "outputId": "e55700f9-629b-4395-fa34-9c98b481c79a"
      },
      "source": [
        "df_fem.head()"
      ],
      "execution_count": null,
      "outputs": [
        {
          "output_type": "execute_result",
          "data": {
            "text/html": [
              "<div>\n",
              "<style scoped>\n",
              "    .dataframe tbody tr th:only-of-type {\n",
              "        vertical-align: middle;\n",
              "    }\n",
              "\n",
              "    .dataframe tbody tr th {\n",
              "        vertical-align: top;\n",
              "    }\n",
              "\n",
              "    .dataframe thead th {\n",
              "        text-align: right;\n",
              "    }\n",
              "</style>\n",
              "<table border=\"1\" class=\"dataframe\">\n",
              "  <thead>\n",
              "    <tr style=\"text-align: right;\">\n",
              "      <th></th>\n",
              "      <th>id</th>\n",
              "      <th>Age</th>\n",
              "      <th>Is.Obese</th>\n",
              "      <th>bmi</th>\n",
              "      <th>wc</th>\n",
              "      <th>hc</th>\n",
              "      <th>whr</th>\n",
              "      <th>SBP</th>\n",
              "      <th>DBP</th>\n",
              "      <th>preh</th>\n",
              "    </tr>\n",
              "  </thead>\n",
              "  <tbody>\n",
              "    <tr>\n",
              "      <th>0</th>\n",
              "      <td>1</td>\n",
              "      <td>31</td>\n",
              "      <td>NO</td>\n",
              "      <td>28.77</td>\n",
              "      <td>88</td>\n",
              "      <td>101</td>\n",
              "      <td>87</td>\n",
              "      <td>128.00</td>\n",
              "      <td>74.31</td>\n",
              "      <td>PRE</td>\n",
              "    </tr>\n",
              "    <tr>\n",
              "      <th>1</th>\n",
              "      <td>7</td>\n",
              "      <td>21</td>\n",
              "      <td>NO</td>\n",
              "      <td>27.59</td>\n",
              "      <td>86</td>\n",
              "      <td>110</td>\n",
              "      <td>78</td>\n",
              "      <td>123.31</td>\n",
              "      <td>70.00</td>\n",
              "      <td>PRE</td>\n",
              "    </tr>\n",
              "    <tr>\n",
              "      <th>2</th>\n",
              "      <td>8</td>\n",
              "      <td>23</td>\n",
              "      <td>NO</td>\n",
              "      <td>22.45</td>\n",
              "      <td>72</td>\n",
              "      <td>104</td>\n",
              "      <td>69</td>\n",
              "      <td>90.00</td>\n",
              "      <td>56.66</td>\n",
              "      <td>REGULAR</td>\n",
              "    </tr>\n",
              "    <tr>\n",
              "      <th>3</th>\n",
              "      <td>13</td>\n",
              "      <td>24</td>\n",
              "      <td>NO</td>\n",
              "      <td>28.16</td>\n",
              "      <td>89</td>\n",
              "      <td>108</td>\n",
              "      <td>82</td>\n",
              "      <td>126.69</td>\n",
              "      <td>90.00</td>\n",
              "      <td>PRE</td>\n",
              "    </tr>\n",
              "    <tr>\n",
              "      <th>4</th>\n",
              "      <td>15</td>\n",
              "      <td>20</td>\n",
              "      <td>NO</td>\n",
              "      <td>25.05</td>\n",
              "      <td>81</td>\n",
              "      <td>108</td>\n",
              "      <td>75</td>\n",
              "      <td>120.00</td>\n",
              "      <td>69.00</td>\n",
              "      <td>REGULAR</td>\n",
              "    </tr>\n",
              "  </tbody>\n",
              "</table>\n",
              "</div>"
            ],
            "text/plain": [
              "   id  Age Is.Obese    bmi  wc   hc  whr     SBP    DBP     preh\n",
              "0   1   31       NO  28.77  88  101   87  128.00  74.31      PRE\n",
              "1   7   21       NO  27.59  86  110   78  123.31  70.00      PRE\n",
              "2   8   23       NO  22.45  72  104   69   90.00  56.66  REGULAR\n",
              "3  13   24       NO  28.16  89  108   82  126.69  90.00      PRE\n",
              "4  15   20       NO  25.05  81  108   75  120.00  69.00  REGULAR"
            ]
          },
          "metadata": {
            "tags": []
          },
          "execution_count": 68
        }
      ]
    },
    {
      "cell_type": "markdown",
      "metadata": {
        "id": "eqth_tIy4J4A"
      },
      "source": [
        "### Ajustes iniciais para facilitar a compreensão da análise"
      ]
    },
    {
      "cell_type": "code",
      "metadata": {
        "id": "6875fg5ti7Ng"
      },
      "source": [
        "\n",
        "df_fem['sexo'] = 0\n",
        "df_masc['sexo'] = 1\n",
        "#\n",
        "df_fem['genero'] = 'Mulher'\n",
        "df_masc['genero'] = 'Homem'\n",
        "#\n",
        "df_fem['pressao'] =df_fem.preh\n",
        "df_fem.drop(columns=['preh'], inplace=True)\n",
        "#\n",
        "df_masc['pressao'] =df_masc.hyper\n",
        "df_masc.drop(columns=['hyper'], inplace=True)\n",
        "#\n",
        "df_masc.drop(columns=['id'], inplace=True)\n",
        "df_fem.drop(columns=['id'], inplace=True)"
      ],
      "execution_count": null,
      "outputs": []
    },
    {
      "cell_type": "code",
      "metadata": {
        "id": "rKHg7IC_90CC"
      },
      "source": [
        "df = pd.concat([df_fem,df_masc])"
      ],
      "execution_count": null,
      "outputs": []
    },
    {
      "cell_type": "code",
      "metadata": {
        "colab": {
          "base_uri": "https://localhost:8080/"
        },
        "id": "EZWNBvFi0Hph",
        "outputId": "096dc54b-a9c7-4d65-f69f-c95ea1620a87"
      },
      "source": [
        "df.columns"
      ],
      "execution_count": null,
      "outputs": [
        {
          "output_type": "execute_result",
          "data": {
            "text/plain": [
              "Index(['Age', 'Is.Obese', 'bmi', 'wc', 'hc', 'whr', 'SBP', 'DBP', 'sexo',\n",
              "       'genero', 'pressao'],\n",
              "      dtype='object')"
            ]
          },
          "metadata": {
            "tags": []
          },
          "execution_count": 71
        }
      ]
    },
    {
      "cell_type": "code",
      "metadata": {
        "id": "btMBi6Qp3L3i"
      },
      "source": [
        "df = df.rename(columns={\"Age\": \"idade\", \"Is.Obese\": \"obeso\"})"
      ],
      "execution_count": null,
      "outputs": []
    },
    {
      "cell_type": "code",
      "metadata": {
        "id": "xbc3NyNi49tk"
      },
      "source": [
        "status_obeso = np.where(df.obeso == 'NO',0,1)\n",
        "df.obeso = status_obeso"
      ],
      "execution_count": null,
      "outputs": []
    },
    {
      "cell_type": "markdown",
      "metadata": {
        "id": "7u10biHydWY-"
      },
      "source": [
        "#### Classificação original no dataset"
      ]
    },
    {
      "cell_type": "code",
      "metadata": {
        "colab": {
          "base_uri": "https://localhost:8080/"
        },
        "id": "GpaRapc_jYY4",
        "outputId": "27afa114-3326-4004-e1c8-2c35f50a7949"
      },
      "source": [
        "df.pressao.value_counts()"
      ],
      "execution_count": null,
      "outputs": [
        {
          "output_type": "execute_result",
          "data": {
            "text/plain": [
              "REGULAR    257\n",
              "PRE         95\n",
              "HYPER       47\n",
              "Name: pressao, dtype: int64"
            ]
          },
          "metadata": {
            "tags": []
          },
          "execution_count": 74
        }
      ]
    },
    {
      "cell_type": "markdown",
      "metadata": {
        "id": "2YgUsQz04hJE"
      },
      "source": [
        "### Valores Atualizados com novas classificações"
      ]
    },
    {
      "cell_type": "markdown",
      "metadata": {
        "id": "k2k1hU_KKFAs"
      },
      "source": [
        "#### **Valores de pressão Sistólica e Diastólica**\n",
        "\n",
        "#### Normal: Menos de 120/80 mmHg;\n",
        "\n",
        "#### Elevado: PA sistólica entre 120-129 e PA diastólica inferior a 80;\n",
        "\n",
        "#### Hipertensão Fase 1: Sistólica entre 130-139 ou diastólica entre 80-89;\n",
        "\n",
        "#### Hipertensão Fase 2: Sistólica pelo menos 140 ou diastólica pelo menos 90 mm Hg;\n",
        "\n",
        "#### Crise hipertensiva: Sistólica superior a 180 mmHg e/ou Diastólica acima de 120 mmHg, com pacientes que necessitam de mudanças imediatas na medicação em pacientes sem sintomas relevantes, ou hospitalização imediata se houver sinais de danos nos órgãos-alvos.\n",
        "\n",
        "#### Fonte:https://www.assistenciafarmaceutica.far.br/novos-valores-de-referencia-para-hipertensao-o-que-mudou/"
      ]
    },
    {
      "cell_type": "code",
      "metadata": {
        "id": "77UvAGHf100z"
      },
      "source": [
        "# Valores fora do filtros, Normal, Alta, Pre_Hiper1, Pre_Hiper2 e Hiper, foram considerados Alta.\n",
        "# Assim casos onde o valores de SBP ou DBP são altos, indicam uma atenção maior.\n",
        "# Exemplo: SBP: 125 e DBP: 82 não se enquadra como Alta, mas foi considerado o valor acima de 120 pra SBP\n",
        "#\n",
        "pressao = np.where((df.SBP < 120) & (df.DBP <80), \"Normal\", \n",
        "                    np.where((df.SBP > 120) & (df.SBP <=129) & (df.DBP < 80), \"Alta\",\n",
        "                             np.where((df.SBP > 130) & (df.SBP <=139) | (df.DBP > 80) & (df.DBP < 90), \"Pre_Hiper_Fase1\",\n",
        "                                      np.where((df.SBP >= 140) | (df.DBP >= 90), \"Pre_Hiper_Fase2\",\n",
        "                                               np.where((df.SBP > 180) & (df.DBP > 120), \"Hiper\", 'Alta')))))"
      ],
      "execution_count": null,
      "outputs": []
    },
    {
      "cell_type": "code",
      "metadata": {
        "id": "uvBaveuDsyLS"
      },
      "source": [
        "df['pressao'] = pressao"
      ],
      "execution_count": null,
      "outputs": []
    },
    {
      "cell_type": "markdown",
      "metadata": {
        "id": "X9Wvh7Plz7gY"
      },
      "source": [
        "#### Temos agora um dataset de 399 linhas com a classificação de pressão com valores atualizados."
      ]
    },
    {
      "cell_type": "code",
      "metadata": {
        "colab": {
          "base_uri": "https://localhost:8080/"
        },
        "id": "yWfMexz5syFx",
        "outputId": "cda38f1b-1e39-4470-8568-10f36176cdba"
      },
      "source": [
        "df.shape"
      ],
      "execution_count": null,
      "outputs": [
        {
          "output_type": "execute_result",
          "data": {
            "text/plain": [
              "(399, 11)"
            ]
          },
          "metadata": {
            "tags": []
          },
          "execution_count": 77
        }
      ]
    },
    {
      "cell_type": "markdown",
      "metadata": {
        "id": "hkaNHWqR01W8"
      },
      "source": [
        "### Qual o percentual de ocorrência de cada tipo no dataset?"
      ]
    },
    {
      "cell_type": "code",
      "metadata": {
        "colab": {
          "base_uri": "https://localhost:8080/"
        },
        "id": "Gy59bKQtnGLD",
        "outputId": "f305dc64-e1d7-4fbc-8003-39b49d8cda9a"
      },
      "source": [
        "df.pressao.value_counts(normalize=True)"
      ],
      "execution_count": null,
      "outputs": [
        {
          "output_type": "execute_result",
          "data": {
            "text/plain": [
              "Normal             0.35\n",
              "Pre_Hiper_Fase1    0.28\n",
              "Pre_Hiper_Fase2    0.19\n",
              "Alta               0.17\n",
              "Name: pressao, dtype: float64"
            ]
          },
          "metadata": {
            "tags": []
          },
          "execution_count": 78
        }
      ]
    },
    {
      "cell_type": "markdown",
      "metadata": {
        "id": "J4bdvlj7_tk3"
      },
      "source": [
        "#### Gêneros presentes no dataset"
      ]
    },
    {
      "cell_type": "code",
      "metadata": {
        "colab": {
          "base_uri": "https://localhost:8080/"
        },
        "id": "kGpo47E6-ANx",
        "outputId": "7f0e89fc-4774-4b3d-8748-15b14e50edb9"
      },
      "source": [
        "print(\"Total\")\n",
        "print(df['genero'].value_counts(ascending=True))\n",
        "#\n",
        "print(\"\\nPercentual\")\n",
        "print(df['genero'].value_counts(ascending=True,normalize=True))\n"
      ],
      "execution_count": null,
      "outputs": [
        {
          "output_type": "stream",
          "text": [
            "Total\n",
            "Homem     175\n",
            "Mulher    224\n",
            "Name: genero, dtype: int64\n",
            "\n",
            "Percentual\n",
            "Homem     0.44\n",
            "Mulher    0.56\n",
            "Name: genero, dtype: float64\n"
          ],
          "name": "stdout"
        }
      ]
    },
    {
      "cell_type": "markdown",
      "metadata": {
        "id": "klap43vB1HLK"
      },
      "source": [
        "#### Valores de ocorrência por gênero"
      ]
    },
    {
      "cell_type": "code",
      "metadata": {
        "colab": {
          "base_uri": "https://localhost:8080/"
        },
        "id": "H5hrg7Qpon-w",
        "outputId": "90ac3dbd-2e6a-4542-ae5e-00facf4583ac"
      },
      "source": [
        "df.groupby(['genero', 'pressao']).size()"
      ],
      "execution_count": null,
      "outputs": [
        {
          "output_type": "execute_result",
          "data": {
            "text/plain": [
              "genero  pressao        \n",
              "Homem   Alta                37\n",
              "        Normal              26\n",
              "        Pre_Hiper_Fase1     66\n",
              "        Pre_Hiper_Fase2     46\n",
              "Mulher  Alta                32\n",
              "        Normal             115\n",
              "        Pre_Hiper_Fase1     47\n",
              "        Pre_Hiper_Fase2     30\n",
              "dtype: int64"
            ]
          },
          "metadata": {
            "tags": []
          },
          "execution_count": 80
        }
      ]
    },
    {
      "cell_type": "markdown",
      "metadata": {
        "id": "YRX3r0MIDWMp"
      },
      "source": [
        "### Criação de 5 grupos por idade\n",
        "#### No dataset identifica-se que a grande maioria dos participantes tem idade entre 16 e 25 anos, somando 306 participantes.\n",
        "#### Grupos com poucos participantes podem ser desconsiderados, pois a classificação pode não ter dados suficientes para uma alta acurácia."
      ]
    },
    {
      "cell_type": "code",
      "metadata": {
        "colab": {
          "base_uri": "https://localhost:8080/"
        },
        "id": "QYO9lGp8CCm_",
        "outputId": "3b22c689-6c75-4951-b8d8-5edf6d145c95"
      },
      "source": [
        "df['idade'].value_counts(bins=5)"
      ],
      "execution_count": null,
      "outputs": [
        {
          "output_type": "execute_result",
          "data": {
            "text/plain": [
              "(15.952, 25.4]    306\n",
              "(25.4, 34.8]       74\n",
              "(34.8, 44.2]       12\n",
              "(44.2, 53.6]        6\n",
              "(53.6, 63.0]        1\n",
              "Name: idade, dtype: int64"
            ]
          },
          "metadata": {
            "tags": []
          },
          "execution_count": 81
        }
      ]
    },
    {
      "cell_type": "markdown",
      "metadata": {
        "id": "7cx8UtpuMTtl"
      },
      "source": [
        "#### Faixas de idade"
      ]
    },
    {
      "cell_type": "code",
      "metadata": {
        "id": "I4lwCYarI1GG"
      },
      "source": [
        "df['faixa']=pd.cut(df.idade,bins = [0,16,26,35,44,54,63],labels=['Até 16','Entre 16 e 26','Entre 26 e 35','Entre 35 e 44', 'Entre 44 e 54', 'Acima de 54'])"
      ],
      "execution_count": null,
      "outputs": []
    },
    {
      "cell_type": "markdown",
      "metadata": {
        "id": "Df_ucyi7QzlS"
      },
      "source": [
        "### As faixas que mais apresentam ocorrências são:\n",
        "- Entre 16 e 26\n",
        "- Entre 26 e 35"
      ]
    },
    {
      "cell_type": "code",
      "metadata": {
        "colab": {
          "base_uri": "https://localhost:8080/"
        },
        "id": "_gFWbXvLOTfZ",
        "outputId": "4ffb0420-a0c5-4d2c-83c6-eb298bfb1d22"
      },
      "source": [
        "df.groupby(['faixa', 'pressao']).size()"
      ],
      "execution_count": null,
      "outputs": [
        {
          "output_type": "execute_result",
          "data": {
            "text/plain": [
              "faixa          pressao        \n",
              "Até 16         Alta                 0\n",
              "               Normal               1\n",
              "               Pre_Hiper_Fase1      1\n",
              "               Pre_Hiper_Fase2      0\n",
              "Entre 16 e 26  Alta                60\n",
              "               Normal             114\n",
              "               Pre_Hiper_Fase1     87\n",
              "               Pre_Hiper_Fase2     57\n",
              "Entre 26 e 35  Alta                 9\n",
              "               Normal              24\n",
              "               Pre_Hiper_Fase1     21\n",
              "               Pre_Hiper_Fase2     12\n",
              "Entre 35 e 44  Alta                 0\n",
              "               Normal               0\n",
              "               Pre_Hiper_Fase1      2\n",
              "               Pre_Hiper_Fase2      4\n",
              "Entre 44 e 54  Alta                 0\n",
              "               Normal               1\n",
              "               Pre_Hiper_Fase1      2\n",
              "               Pre_Hiper_Fase2      3\n",
              "Acima de 54    Alta                 0\n",
              "               Normal               1\n",
              "               Pre_Hiper_Fase1      0\n",
              "               Pre_Hiper_Fase2      0\n",
              "dtype: int64"
            ]
          },
          "metadata": {
            "tags": []
          },
          "execution_count": 83
        }
      ]
    },
    {
      "cell_type": "markdown",
      "metadata": {
        "id": "M22rbWHNpsfz"
      },
      "source": [
        "### Separar os dois conjuntos de dados e criar um único dataset formado a partir deles."
      ]
    },
    {
      "cell_type": "code",
      "metadata": {
        "id": "soV7Vy1oX7cP"
      },
      "source": [
        "df_16_35 = df.loc[(df.faixa == 'Entre 16 e 26')|(df.faixa == 'Entre 26 e 35')]"
      ],
      "execution_count": null,
      "outputs": []
    },
    {
      "cell_type": "code",
      "metadata": {
        "id": "qcfL5cb-37EM"
      },
      "source": [
        "df2 = df_16_35"
      ],
      "execution_count": null,
      "outputs": []
    },
    {
      "cell_type": "code",
      "metadata": {
        "id": "jq2ZVjk5TkfI"
      },
      "source": [
        "# O dataset df2 mantém ainda as categorias mesmo com valores zero, assim é preciso remover as categorias não usadas.\r\n",
        "df2.faixa = df2.faixa.cat.remove_unused_categories()"
      ],
      "execution_count": null,
      "outputs": []
    },
    {
      "cell_type": "code",
      "metadata": {
        "colab": {
          "base_uri": "https://localhost:8080/",
          "height": 425
        },
        "id": "M0yDvsScf8zz",
        "outputId": "97ceb372-bc72-4057-c3c4-a1c7672ea262"
      },
      "source": [
        "plt.figure(figsize=(10,5))\n",
        "ax = sns.countplot(x='pressao', data=df, order=df['pressao'].value_counts().index)\n",
        "ax.set_xticklabels(ax.get_xticklabels(), rotation=45, ha=\"right\", fontsize=12)\n",
        "plt.title('Total de ocorrências por tipo de pressão ', fontsize=14, fontweight='bold');"
      ],
      "execution_count": null,
      "outputs": [
        {
          "output_type": "display_data",
          "data": {
            "image/png": "[encoded data removed]",
            "text/plain": [
              "<Figure size 720x360 with 1 Axes>"
            ]
          },
          "metadata": {
            "tags": []
          }
        }
      ]
    },
    {
      "cell_type": "code",
      "metadata": {
        "colab": {
          "base_uri": "https://localhost:8080/",
          "height": 425
        },
        "id": "LFUqeKKBrssi",
        "outputId": "699503fd-daff-481f-babe-7937ffc3ed87"
      },
      "source": [
        "plt.figure(figsize=(10,5))\r\n",
        "ax = sns.countplot(x=\"pressao\", hue=\"genero\", data=df2)\r\n",
        "ax.set_xticklabels(ax.get_xticklabels(), rotation=45, ha=\"right\", fontsize=12)\r\n",
        "plt.title('Total de ocorrências por tipo de pressão e genero ', fontsize=14, fontweight='bold');"
      ],
      "execution_count": null,
      "outputs": [
        {
          "output_type": "display_data",
          "data": {
            "image/png": "[encoded data removed]",
            "text/plain": [
              "<Figure size 720x360 with 1 Axes>"
            ]
          },
          "metadata": {
            "tags": []
          }
        }
      ]
    },
    {
      "cell_type": "code",
      "metadata": {
        "colab": {
          "base_uri": "https://localhost:8080/",
          "height": 425
        },
        "id": "tuYvvHcLtrEP",
        "outputId": "88bfe431-b22f-4152-80bd-f214179e0296"
      },
      "source": [
        "plt.figure(figsize=(10,5))\r\n",
        "ax = sns.countplot(x=\"pressao\", hue=\"faixa\", data=df2)\r\n",
        "ax.set_xticklabels(ax.get_xticklabels(), rotation=45, ha=\"right\", fontsize=12)\r\n",
        "plt.title('Total de ocorrências por tipo de pressão e genero ', fontsize=14, fontweight='bold');"
      ],
      "execution_count": null,
      "outputs": [
        {
          "output_type": "display_data",
          "data": {
            "image/png": "[encoded data removed]",
            "text/plain": [
              "<Figure size 720x360 with 1 Axes>"
            ]
          },
          "metadata": {
            "tags": []
          }
        }
      ]
    },
    {
      "cell_type": "code",
      "metadata": {
        "id": "VQAaomKvAdzT"
      },
      "source": [
        "def countplot(x, hue, **kwargs):\r\n",
        "    data=kwargs.pop(\"data\")\r\n",
        "    order=np.unique(data[\"pressao\"].values)\r\n",
        "    sns.countplot(x, hue=hue, data=data,order=order,**kwargs)"
      ],
      "execution_count": null,
      "outputs": []
    },
    {
      "cell_type": "code",
      "metadata": {
        "colab": {
          "base_uri": "https://localhost:8080/",
          "height": 458
        },
        "id": "lXvhuQcF-MrU",
        "outputId": "65305621-6fc9-4419-fd00-2ef79df66ffa"
      },
      "source": [
        "plt.figure(figsize=(20,20))\r\n",
        "g = sns.FacetGrid(df2, row='genero',  size=3, aspect=2.5, sharex=False, sharey=False)\r\n",
        "g.map_dataframe(countplot, 'pressao',hue='genero', alpha=.9,\r\n",
        "                palette=sns.color_palette(),  )\r\n",
        "\r\n",
        "g.fig.suptitle('Distribuição por Tipo de Pressao e Genero',fontsize=14, fontweight='bold')\r\n",
        "g.fig.subplots_adjust(top=.85)\r\n",
        "g.set_xlabels('Pressao')\r\n",
        "\r\n",
        "plt.show();"
      ],
      "execution_count": null,
      "outputs": [
        {
          "output_type": "display_data",
          "data": {
            "text/plain": [
              "<Figure size 1440x1440 with 0 Axes>"
            ]
          },
          "metadata": {
            "tags": []
          }
        },
        {
          "output_type": "display_data",
          "data": {
            "image/png": "[encoded data removed]",
            "text/plain": [
              "<Figure size 540x432 with 2 Axes>"
            ]
          },
          "metadata": {
            "tags": []
          }
        }
      ]
    },
    {
      "cell_type": "code",
      "metadata": {
        "id": "o0U6UVMkhvMF"
      },
      "source": [
        "df_plot = df2.groupby(['genero', 'pressao']).size().reset_index().pivot(columns='genero', index='pressao', values=0)"
      ],
      "execution_count": null,
      "outputs": []
    },
    {
      "cell_type": "code",
      "metadata": {
        "colab": {
          "base_uri": "https://localhost:8080/",
          "height": 204
        },
        "id": "NOzoXsCQh6zm",
        "outputId": "00a351d8-8d77-4f08-ca7c-57947a43d608"
      },
      "source": [
        "df_plot"
      ],
      "execution_count": null,
      "outputs": [
        {
          "output_type": "execute_result",
          "data": {
            "text/html": [
              "<div>\n",
              "<style scoped>\n",
              "    .dataframe tbody tr th:only-of-type {\n",
              "        vertical-align: middle;\n",
              "    }\n",
              "\n",
              "    .dataframe tbody tr th {\n",
              "        vertical-align: top;\n",
              "    }\n",
              "\n",
              "    .dataframe thead th {\n",
              "        text-align: right;\n",
              "    }\n",
              "</style>\n",
              "<table border=\"1\" class=\"dataframe\">\n",
              "  <thead>\n",
              "    <tr style=\"text-align: right;\">\n",
              "      <th>genero</th>\n",
              "      <th>Homem</th>\n",
              "      <th>Mulher</th>\n",
              "    </tr>\n",
              "    <tr>\n",
              "      <th>pressao</th>\n",
              "      <th></th>\n",
              "      <th></th>\n",
              "    </tr>\n",
              "  </thead>\n",
              "  <tbody>\n",
              "    <tr>\n",
              "      <th>Alta</th>\n",
              "      <td>37</td>\n",
              "      <td>32</td>\n",
              "    </tr>\n",
              "    <tr>\n",
              "      <th>Normal</th>\n",
              "      <td>25</td>\n",
              "      <td>113</td>\n",
              "    </tr>\n",
              "    <tr>\n",
              "      <th>Pre_Hiper_Fase1</th>\n",
              "      <td>63</td>\n",
              "      <td>45</td>\n",
              "    </tr>\n",
              "    <tr>\n",
              "      <th>Pre_Hiper_Fase2</th>\n",
              "      <td>42</td>\n",
              "      <td>27</td>\n",
              "    </tr>\n",
              "  </tbody>\n",
              "</table>\n",
              "</div>"
            ],
            "text/plain": [
              "genero           Homem  Mulher\n",
              "pressao                       \n",
              "Alta                37      32\n",
              "Normal              25     113\n",
              "Pre_Hiper_Fase1     63      45\n",
              "Pre_Hiper_Fase2     42      27"
            ]
          },
          "metadata": {
            "tags": []
          },
          "execution_count": 93
        }
      ]
    },
    {
      "cell_type": "code",
      "metadata": {
        "colab": {
          "base_uri": "https://localhost:8080/",
          "height": 333
        },
        "id": "O7woHGSAhOxO",
        "outputId": "2fd1dcc5-9386-4d8d-8de2-14458c8f7b9b"
      },
      "source": [
        "df_plot.plot(kind='bar', rot=20,stacked=True)\r\n",
        "plt.title('Distribuição por Tipo de Pressao e Genero', fontsize=14, fontweight='bold');"
      ],
      "execution_count": null,
      "outputs": [
        {
          "output_type": "display_data",
          "data": {
            "image/png": "[encoded data removed]",
            "text/plain": [
              "<Figure size 432x288 with 1 Axes>"
            ]
          },
          "metadata": {
            "tags": []
          }
        }
      ]
    },
    {
      "cell_type": "code",
      "metadata": {
        "colab": {
          "base_uri": "https://localhost:8080/",
          "height": 285
        },
        "id": "MHIei72ThsTO",
        "outputId": "126bfdd7-5cc4-464e-ea9c-a56b55dd50a6"
      },
      "source": [
        "# Distribuição das idades\n",
        "sns.distplot(df2['idade']);"
      ],
      "execution_count": null,
      "outputs": [
        {
          "output_type": "display_data",
          "data": {
            "image/png": "[encoded data removed]",
            "text/plain": [
              "<Figure size 432x288 with 1 Axes>"
            ]
          },
          "metadata": {
            "tags": []
          }
        }
      ]
    },
    {
      "cell_type": "markdown",
      "metadata": {
        "id": "HRxl1w8Oaei2"
      },
      "source": [
        "### Qual a média de idade em cada genero e faixa ?"
      ]
    },
    {
      "cell_type": "markdown",
      "metadata": {
        "id": "kyD6l4xcbBSE"
      },
      "source": [
        "#### A partir da tabela abaixo temos a idade média pra cada gênero e faixa e pressão identificada nesse dataset\n",
        "#### Essa informação pode orientar a análise"
      ]
    },
    {
      "cell_type": "code",
      "metadata": {
        "colab": {
          "base_uri": "https://localhost:8080/",
          "height": 576
        },
        "id": "pZUxUaS7VQZA",
        "outputId": "8339bbf4-df1b-4806-91ab-9cf920395677"
      },
      "source": [
        "pd.pivot_table(df2,index=[\"genero\",\"faixa\",'pressao'],values=[\"idade\"],aggfunc=np.mean)"
      ],
      "execution_count": null,
      "outputs": [
        {
          "output_type": "execute_result",
          "data": {
            "text/html": [
              "<div>\n",
              "<style scoped>\n",
              "    .dataframe tbody tr th:only-of-type {\n",
              "        vertical-align: middle;\n",
              "    }\n",
              "\n",
              "    .dataframe tbody tr th {\n",
              "        vertical-align: top;\n",
              "    }\n",
              "\n",
              "    .dataframe thead th {\n",
              "        text-align: right;\n",
              "    }\n",
              "</style>\n",
              "<table border=\"1\" class=\"dataframe\">\n",
              "  <thead>\n",
              "    <tr style=\"text-align: right;\">\n",
              "      <th></th>\n",
              "      <th></th>\n",
              "      <th></th>\n",
              "      <th>idade</th>\n",
              "    </tr>\n",
              "    <tr>\n",
              "      <th>genero</th>\n",
              "      <th>faixa</th>\n",
              "      <th>pressao</th>\n",
              "      <th></th>\n",
              "    </tr>\n",
              "  </thead>\n",
              "  <tbody>\n",
              "    <tr>\n",
              "      <th rowspan=\"8\" valign=\"top\">Homem</th>\n",
              "      <th rowspan=\"4\" valign=\"top\">Entre 16 e 26</th>\n",
              "      <th>Alta</th>\n",
              "      <td>20.79</td>\n",
              "    </tr>\n",
              "    <tr>\n",
              "      <th>Normal</th>\n",
              "      <td>20.62</td>\n",
              "    </tr>\n",
              "    <tr>\n",
              "      <th>Pre_Hiper_Fase1</th>\n",
              "      <td>20.90</td>\n",
              "    </tr>\n",
              "    <tr>\n",
              "      <th>Pre_Hiper_Fase2</th>\n",
              "      <td>21.19</td>\n",
              "    </tr>\n",
              "    <tr>\n",
              "      <th rowspan=\"4\" valign=\"top\">Entre 26 e 35</th>\n",
              "      <th>Alta</th>\n",
              "      <td>29.00</td>\n",
              "    </tr>\n",
              "    <tr>\n",
              "      <th>Normal</th>\n",
              "      <td>29.67</td>\n",
              "    </tr>\n",
              "    <tr>\n",
              "      <th>Pre_Hiper_Fase1</th>\n",
              "      <td>30.27</td>\n",
              "    </tr>\n",
              "    <tr>\n",
              "      <th>Pre_Hiper_Fase2</th>\n",
              "      <td>30.17</td>\n",
              "    </tr>\n",
              "    <tr>\n",
              "      <th rowspan=\"8\" valign=\"top\">Mulher</th>\n",
              "      <th rowspan=\"4\" valign=\"top\">Entre 16 e 26</th>\n",
              "      <th>Alta</th>\n",
              "      <td>21.12</td>\n",
              "    </tr>\n",
              "    <tr>\n",
              "      <th>Normal</th>\n",
              "      <td>20.52</td>\n",
              "    </tr>\n",
              "    <tr>\n",
              "      <th>Pre_Hiper_Fase1</th>\n",
              "      <td>20.56</td>\n",
              "    </tr>\n",
              "    <tr>\n",
              "      <th>Pre_Hiper_Fase2</th>\n",
              "      <td>21.48</td>\n",
              "    </tr>\n",
              "    <tr>\n",
              "      <th rowspan=\"4\" valign=\"top\">Entre 26 e 35</th>\n",
              "      <th>Alta</th>\n",
              "      <td>29.67</td>\n",
              "    </tr>\n",
              "    <tr>\n",
              "      <th>Normal</th>\n",
              "      <td>29.80</td>\n",
              "    </tr>\n",
              "    <tr>\n",
              "      <th>Pre_Hiper_Fase1</th>\n",
              "      <td>31.67</td>\n",
              "    </tr>\n",
              "    <tr>\n",
              "      <th>Pre_Hiper_Fase2</th>\n",
              "      <td>29.83</td>\n",
              "    </tr>\n",
              "  </tbody>\n",
              "</table>\n",
              "</div>"
            ],
            "text/plain": [
              "                                      idade\n",
              "genero faixa         pressao               \n",
              "Homem  Entre 16 e 26 Alta             20.79\n",
              "                     Normal           20.62\n",
              "                     Pre_Hiper_Fase1  20.90\n",
              "                     Pre_Hiper_Fase2  21.19\n",
              "       Entre 26 e 35 Alta             29.00\n",
              "                     Normal           29.67\n",
              "                     Pre_Hiper_Fase1  30.27\n",
              "                     Pre_Hiper_Fase2  30.17\n",
              "Mulher Entre 16 e 26 Alta             21.12\n",
              "                     Normal           20.52\n",
              "                     Pre_Hiper_Fase1  20.56\n",
              "                     Pre_Hiper_Fase2  21.48\n",
              "       Entre 26 e 35 Alta             29.67\n",
              "                     Normal           29.80\n",
              "                     Pre_Hiper_Fase1  31.67\n",
              "                     Pre_Hiper_Fase2  29.83"
            ]
          },
          "metadata": {
            "tags": []
          },
          "execution_count": 96
        }
      ]
    },
    {
      "cell_type": "markdown",
      "metadata": {
        "id": "f4LjdDayvRu0"
      },
      "source": [
        "### Separando o dataset por genero\r\n",
        "### Assim a análise usará apenas os dados de cada grupo separadamente"
      ]
    },
    {
      "cell_type": "code",
      "metadata": {
        "id": "qmSUSJItby5w"
      },
      "source": [
        "df_mulher = df2.loc[df2.genero == 'Mulher']\n",
        "#\n",
        "# As coluna genero, sexo e faixa não serão utilizadas no treinamento do modelo\n",
        "df_mulher = df_mulher.drop(['genero', 'sexo', 'faixa'], axis=1)\n",
        "#\n",
        "df_homem = df2.loc[df2.genero == 'Homem']\n",
        "df_homem = df_homem.drop(['genero', 'sexo', 'faixa'], axis=1)"
      ],
      "execution_count": null,
      "outputs": []
    },
    {
      "cell_type": "markdown",
      "metadata": {
        "id": "YQewAoJlxVlr"
      },
      "source": [
        "### Removendo colunas que não serão utilizadas no treinamento do modelo"
      ]
    },
    {
      "cell_type": "code",
      "metadata": {
        "colab": {
          "base_uri": "https://localhost:8080/",
          "height": 297
        },
        "id": "KekafdETcdnv",
        "outputId": "0f0dfcea-2ea3-4754-8714-c3e386573e59"
      },
      "source": [
        "df_mulher.describe().T"
      ],
      "execution_count": null,
      "outputs": [
        {
          "output_type": "execute_result",
          "data": {
            "text/html": [
              "<div>\n",
              "<style scoped>\n",
              "    .dataframe tbody tr th:only-of-type {\n",
              "        vertical-align: middle;\n",
              "    }\n",
              "\n",
              "    .dataframe tbody tr th {\n",
              "        vertical-align: top;\n",
              "    }\n",
              "\n",
              "    .dataframe thead th {\n",
              "        text-align: right;\n",
              "    }\n",
              "</style>\n",
              "<table border=\"1\" class=\"dataframe\">\n",
              "  <thead>\n",
              "    <tr style=\"text-align: right;\">\n",
              "      <th></th>\n",
              "      <th>count</th>\n",
              "      <th>mean</th>\n",
              "      <th>std</th>\n",
              "      <th>min</th>\n",
              "      <th>25%</th>\n",
              "      <th>50%</th>\n",
              "      <th>75%</th>\n",
              "      <th>max</th>\n",
              "    </tr>\n",
              "  </thead>\n",
              "  <tbody>\n",
              "    <tr>\n",
              "      <th>idade</th>\n",
              "      <td>217.0</td>\n",
              "      <td>22.15</td>\n",
              "      <td>4.17</td>\n",
              "      <td>17.00</td>\n",
              "      <td>19.00</td>\n",
              "      <td>21.00</td>\n",
              "      <td>24.00</td>\n",
              "      <td>35.00</td>\n",
              "    </tr>\n",
              "    <tr>\n",
              "      <th>obeso</th>\n",
              "      <td>217.0</td>\n",
              "      <td>0.05</td>\n",
              "      <td>0.22</td>\n",
              "      <td>0.00</td>\n",
              "      <td>0.00</td>\n",
              "      <td>0.00</td>\n",
              "      <td>0.00</td>\n",
              "      <td>1.00</td>\n",
              "    </tr>\n",
              "    <tr>\n",
              "      <th>bmi</th>\n",
              "      <td>217.0</td>\n",
              "      <td>23.16</td>\n",
              "      <td>4.02</td>\n",
              "      <td>16.23</td>\n",
              "      <td>20.34</td>\n",
              "      <td>22.45</td>\n",
              "      <td>25.48</td>\n",
              "      <td>45.16</td>\n",
              "    </tr>\n",
              "    <tr>\n",
              "      <th>wc</th>\n",
              "      <td>217.0</td>\n",
              "      <td>76.69</td>\n",
              "      <td>9.32</td>\n",
              "      <td>61.00</td>\n",
              "      <td>70.00</td>\n",
              "      <td>76.00</td>\n",
              "      <td>81.00</td>\n",
              "      <td>113.00</td>\n",
              "    </tr>\n",
              "    <tr>\n",
              "      <th>hc</th>\n",
              "      <td>217.0</td>\n",
              "      <td>100.79</td>\n",
              "      <td>8.61</td>\n",
              "      <td>79.00</td>\n",
              "      <td>94.00</td>\n",
              "      <td>100.00</td>\n",
              "      <td>106.00</td>\n",
              "      <td>132.00</td>\n",
              "    </tr>\n",
              "    <tr>\n",
              "      <th>whr</th>\n",
              "      <td>217.0</td>\n",
              "      <td>76.03</td>\n",
              "      <td>5.71</td>\n",
              "      <td>64.00</td>\n",
              "      <td>73.00</td>\n",
              "      <td>76.00</td>\n",
              "      <td>79.00</td>\n",
              "      <td>104.00</td>\n",
              "    </tr>\n",
              "    <tr>\n",
              "      <th>SBP</th>\n",
              "      <td>217.0</td>\n",
              "      <td>118.31</td>\n",
              "      <td>15.91</td>\n",
              "      <td>10.67</td>\n",
              "      <td>108.69</td>\n",
              "      <td>116.69</td>\n",
              "      <td>127.69</td>\n",
              "      <td>160.62</td>\n",
              "    </tr>\n",
              "    <tr>\n",
              "      <th>DBP</th>\n",
              "      <td>217.0</td>\n",
              "      <td>75.88</td>\n",
              "      <td>12.02</td>\n",
              "      <td>7.00</td>\n",
              "      <td>68.31</td>\n",
              "      <td>74.00</td>\n",
              "      <td>81.69</td>\n",
              "      <td>120.00</td>\n",
              "    </tr>\n",
              "  </tbody>\n",
              "</table>\n",
              "</div>"
            ],
            "text/plain": [
              "       count    mean    std    min     25%     50%     75%     max\n",
              "idade  217.0   22.15   4.17  17.00   19.00   21.00   24.00   35.00\n",
              "obeso  217.0    0.05   0.22   0.00    0.00    0.00    0.00    1.00\n",
              "bmi    217.0   23.16   4.02  16.23   20.34   22.45   25.48   45.16\n",
              "wc     217.0   76.69   9.32  61.00   70.00   76.00   81.00  113.00\n",
              "hc     217.0  100.79   8.61  79.00   94.00  100.00  106.00  132.00\n",
              "whr    217.0   76.03   5.71  64.00   73.00   76.00   79.00  104.00\n",
              "SBP    217.0  118.31  15.91  10.67  108.69  116.69  127.69  160.62\n",
              "DBP    217.0   75.88  12.02   7.00   68.31   74.00   81.69  120.00"
            ]
          },
          "metadata": {
            "tags": []
          },
          "execution_count": 98
        }
      ]
    },
    {
      "cell_type": "code",
      "metadata": {
        "colab": {
          "base_uri": "https://localhost:8080/",
          "height": 297
        },
        "id": "Dkw0XgEjweSj",
        "outputId": "17bcb6f7-c028-4ad1-e6c1-8565bb5f64e6"
      },
      "source": [
        "df_homem.describe().T"
      ],
      "execution_count": null,
      "outputs": [
        {
          "output_type": "execute_result",
          "data": {
            "text/html": [
              "<div>\n",
              "<style scoped>\n",
              "    .dataframe tbody tr th:only-of-type {\n",
              "        vertical-align: middle;\n",
              "    }\n",
              "\n",
              "    .dataframe tbody tr th {\n",
              "        vertical-align: top;\n",
              "    }\n",
              "\n",
              "    .dataframe thead th {\n",
              "        text-align: right;\n",
              "    }\n",
              "</style>\n",
              "<table border=\"1\" class=\"dataframe\">\n",
              "  <thead>\n",
              "    <tr style=\"text-align: right;\">\n",
              "      <th></th>\n",
              "      <th>count</th>\n",
              "      <th>mean</th>\n",
              "      <th>std</th>\n",
              "      <th>min</th>\n",
              "      <th>25%</th>\n",
              "      <th>50%</th>\n",
              "      <th>75%</th>\n",
              "      <th>max</th>\n",
              "    </tr>\n",
              "  </thead>\n",
              "  <tbody>\n",
              "    <tr>\n",
              "      <th>idade</th>\n",
              "      <td>167.0</td>\n",
              "      <td>22.71</td>\n",
              "      <td>4.27</td>\n",
              "      <td>17.00</td>\n",
              "      <td>19.00</td>\n",
              "      <td>21.00</td>\n",
              "      <td>25.00</td>\n",
              "      <td>35.00</td>\n",
              "    </tr>\n",
              "    <tr>\n",
              "      <th>obeso</th>\n",
              "      <td>167.0</td>\n",
              "      <td>0.10</td>\n",
              "      <td>0.30</td>\n",
              "      <td>0.00</td>\n",
              "      <td>0.00</td>\n",
              "      <td>0.00</td>\n",
              "      <td>0.00</td>\n",
              "      <td>1.00</td>\n",
              "    </tr>\n",
              "    <tr>\n",
              "      <th>bmi</th>\n",
              "      <td>167.0</td>\n",
              "      <td>24.84</td>\n",
              "      <td>4.36</td>\n",
              "      <td>17.09</td>\n",
              "      <td>22.05</td>\n",
              "      <td>24.66</td>\n",
              "      <td>26.95</td>\n",
              "      <td>43.59</td>\n",
              "    </tr>\n",
              "    <tr>\n",
              "      <th>wc</th>\n",
              "      <td>167.0</td>\n",
              "      <td>85.63</td>\n",
              "      <td>11.43</td>\n",
              "      <td>48.00</td>\n",
              "      <td>79.00</td>\n",
              "      <td>83.00</td>\n",
              "      <td>92.00</td>\n",
              "      <td>126.00</td>\n",
              "    </tr>\n",
              "    <tr>\n",
              "      <th>hc</th>\n",
              "      <td>167.0</td>\n",
              "      <td>102.86</td>\n",
              "      <td>9.03</td>\n",
              "      <td>80.00</td>\n",
              "      <td>97.00</td>\n",
              "      <td>103.00</td>\n",
              "      <td>108.00</td>\n",
              "      <td>130.00</td>\n",
              "    </tr>\n",
              "    <tr>\n",
              "      <th>whr</th>\n",
              "      <td>167.0</td>\n",
              "      <td>83.12</td>\n",
              "      <td>6.66</td>\n",
              "      <td>49.00</td>\n",
              "      <td>80.00</td>\n",
              "      <td>82.00</td>\n",
              "      <td>87.00</td>\n",
              "      <td>114.00</td>\n",
              "    </tr>\n",
              "    <tr>\n",
              "      <th>SBP</th>\n",
              "      <td>167.0</td>\n",
              "      <td>132.12</td>\n",
              "      <td>14.48</td>\n",
              "      <td>98.00</td>\n",
              "      <td>122.84</td>\n",
              "      <td>130.00</td>\n",
              "      <td>140.50</td>\n",
              "      <td>175.00</td>\n",
              "    </tr>\n",
              "    <tr>\n",
              "      <th>DBP</th>\n",
              "      <td>167.0</td>\n",
              "      <td>82.31</td>\n",
              "      <td>11.36</td>\n",
              "      <td>50.00</td>\n",
              "      <td>76.31</td>\n",
              "      <td>81.31</td>\n",
              "      <td>89.50</td>\n",
              "      <td>112.00</td>\n",
              "    </tr>\n",
              "  </tbody>\n",
              "</table>\n",
              "</div>"
            ],
            "text/plain": [
              "       count    mean    std    min     25%     50%     75%     max\n",
              "idade  167.0   22.71   4.27  17.00   19.00   21.00   25.00   35.00\n",
              "obeso  167.0    0.10   0.30   0.00    0.00    0.00    0.00    1.00\n",
              "bmi    167.0   24.84   4.36  17.09   22.05   24.66   26.95   43.59\n",
              "wc     167.0   85.63  11.43  48.00   79.00   83.00   92.00  126.00\n",
              "hc     167.0  102.86   9.03  80.00   97.00  103.00  108.00  130.00\n",
              "whr    167.0   83.12   6.66  49.00   80.00   82.00   87.00  114.00\n",
              "SBP    167.0  132.12  14.48  98.00  122.84  130.00  140.50  175.00\n",
              "DBP    167.0   82.31  11.36  50.00   76.31   81.31   89.50  112.00"
            ]
          },
          "metadata": {
            "tags": []
          },
          "execution_count": 99
        }
      ]
    },
    {
      "cell_type": "code",
      "metadata": {
        "colab": {
          "base_uri": "https://localhost:8080/",
          "height": 204
        },
        "id": "gabtLL2mwqB5",
        "outputId": "5f02c6b4-8c4c-49b0-d340-49292c1285a0"
      },
      "source": [
        "df_homem.head()"
      ],
      "execution_count": null,
      "outputs": [
        {
          "output_type": "execute_result",
          "data": {
            "text/html": [
              "<div>\n",
              "<style scoped>\n",
              "    .dataframe tbody tr th:only-of-type {\n",
              "        vertical-align: middle;\n",
              "    }\n",
              "\n",
              "    .dataframe tbody tr th {\n",
              "        vertical-align: top;\n",
              "    }\n",
              "\n",
              "    .dataframe thead th {\n",
              "        text-align: right;\n",
              "    }\n",
              "</style>\n",
              "<table border=\"1\" class=\"dataframe\">\n",
              "  <thead>\n",
              "    <tr style=\"text-align: right;\">\n",
              "      <th></th>\n",
              "      <th>idade</th>\n",
              "      <th>obeso</th>\n",
              "      <th>bmi</th>\n",
              "      <th>wc</th>\n",
              "      <th>hc</th>\n",
              "      <th>whr</th>\n",
              "      <th>SBP</th>\n",
              "      <th>DBP</th>\n",
              "      <th>pressao</th>\n",
              "    </tr>\n",
              "  </thead>\n",
              "  <tbody>\n",
              "    <tr>\n",
              "      <th>0</th>\n",
              "      <td>20</td>\n",
              "      <td>0</td>\n",
              "      <td>27.94</td>\n",
              "      <td>95</td>\n",
              "      <td>112</td>\n",
              "      <td>85</td>\n",
              "      <td>120.00</td>\n",
              "      <td>80.00</td>\n",
              "      <td>Alta</td>\n",
              "    </tr>\n",
              "    <tr>\n",
              "      <th>1</th>\n",
              "      <td>19</td>\n",
              "      <td>0</td>\n",
              "      <td>18.66</td>\n",
              "      <td>69</td>\n",
              "      <td>85</td>\n",
              "      <td>81</td>\n",
              "      <td>100.00</td>\n",
              "      <td>63.34</td>\n",
              "      <td>Normal</td>\n",
              "    </tr>\n",
              "    <tr>\n",
              "      <th>2</th>\n",
              "      <td>31</td>\n",
              "      <td>0</td>\n",
              "      <td>27.62</td>\n",
              "      <td>102</td>\n",
              "      <td>107</td>\n",
              "      <td>95</td>\n",
              "      <td>106.69</td>\n",
              "      <td>70.00</td>\n",
              "      <td>Normal</td>\n",
              "    </tr>\n",
              "    <tr>\n",
              "      <th>3</th>\n",
              "      <td>22</td>\n",
              "      <td>0</td>\n",
              "      <td>24.95</td>\n",
              "      <td>86</td>\n",
              "      <td>107</td>\n",
              "      <td>80</td>\n",
              "      <td>120.00</td>\n",
              "      <td>80.00</td>\n",
              "      <td>Alta</td>\n",
              "    </tr>\n",
              "    <tr>\n",
              "      <th>4</th>\n",
              "      <td>19</td>\n",
              "      <td>0</td>\n",
              "      <td>25.16</td>\n",
              "      <td>82</td>\n",
              "      <td>99</td>\n",
              "      <td>83</td>\n",
              "      <td>126.69</td>\n",
              "      <td>80.00</td>\n",
              "      <td>Alta</td>\n",
              "    </tr>\n",
              "  </tbody>\n",
              "</table>\n",
              "</div>"
            ],
            "text/plain": [
              "   idade  obeso    bmi   wc   hc  whr     SBP    DBP pressao\n",
              "0     20      0  27.94   95  112   85  120.00  80.00    Alta\n",
              "1     19      0  18.66   69   85   81  100.00  63.34  Normal\n",
              "2     31      0  27.62  102  107   95  106.69  70.00  Normal\n",
              "3     22      0  24.95   86  107   80  120.00  80.00    Alta\n",
              "4     19      0  25.16   82   99   83  126.69  80.00    Alta"
            ]
          },
          "metadata": {
            "tags": []
          },
          "execution_count": 100
        }
      ]
    },
    {
      "cell_type": "markdown",
      "metadata": {
        "id": "qaYlb2nuOsg9"
      },
      "source": [
        "## Treinamento do Modelo"
      ]
    },
    {
      "cell_type": "markdown",
      "metadata": {
        "id": "4AWU55XIPOyR"
      },
      "source": [
        "### Identificado um desbalanceamento da variável pressão\n",
        "### isso irá impactar na classificação correta do modelo"
      ]
    },
    {
      "cell_type": "code",
      "metadata": {
        "colab": {
          "base_uri": "https://localhost:8080/"
        },
        "id": "mPyteNOZ1YFc",
        "outputId": "a750a005-072c-421a-92f4-124e8a5a4eb9"
      },
      "source": [
        "df_mulher.groupby('pressao').size()"
      ],
      "execution_count": null,
      "outputs": [
        {
          "output_type": "execute_result",
          "data": {
            "text/plain": [
              "pressao\n",
              "Alta                32\n",
              "Normal             113\n",
              "Pre_Hiper_Fase1     45\n",
              "Pre_Hiper_Fase2     27\n",
              "dtype: int64"
            ]
          },
          "metadata": {
            "tags": []
          },
          "execution_count": 101
        }
      ]
    },
    {
      "cell_type": "code",
      "metadata": {
        "colab": {
          "base_uri": "https://localhost:8080/",
          "height": 416
        },
        "id": "CQScmOuG12qH",
        "outputId": "4d19518b-dd8d-480e-d1e7-64ca164ab0a1"
      },
      "source": [
        "# Total de mulheres de acordo com o tipo de pressao\n",
        "target_count = df_mulher['pressao'].value_counts()\n",
        "print('Normal         :', target_count[0])\n",
        "print('Alta           :', target_count[2])\n",
        "print('Pre_Hiper_Fase1:', target_count[1])\n",
        "print('Pre_Hiper_Fase2:', target_count[3])\n",
        "\n",
        "target_count.plot(kind='bar', title='Count (pressao)', rot=20);\n",
        "plt.title('\\nDistribuição por Tipo de Pressao\\n', fontsize=14, fontweight='bold');"
      ],
      "execution_count": null,
      "outputs": [
        {
          "output_type": "stream",
          "text": [
            "Normal         : 113\n",
            "Alta           : 32\n",
            "Pre_Hiper_Fase1: 45\n",
            "Pre_Hiper_Fase2: 27\n"
          ],
          "name": "stdout"
        },
        {
          "output_type": "display_data",
          "data": {
            "image/png": "[encoded data removed]",
            "text/plain": [
              "<Figure size 432x288 with 1 Axes>"
            ]
          },
          "metadata": {
            "tags": []
          }
        }
      ]
    },
    {
      "cell_type": "markdown",
      "metadata": {
        "id": "2LlXMm8Zt2Pq"
      },
      "source": [
        "### Criar, treinar e avaliar o modelo de classificação"
      ]
    },
    {
      "cell_type": "code",
      "metadata": {
        "id": "kYzlCvQG0lKX"
      },
      "source": [
        "lista_de_algoritmo=['ExtraTreeClassifier', 'RandomForestClassifier'] \r\n",
        "lista_de_modelo = [ExtraTreesClassifier(n_estimators=100, random_state=0), RandomForestClassifier(n_estimators= 500, random_state = 42, n_jobs = -1)]"
      ],
      "execution_count": null,
      "outputs": []
    },
    {
      "cell_type": "code",
      "metadata": {
        "id": "_7NsJPfVkUIf",
        "colab": {
          "base_uri": "https://localhost:8080/"
        },
        "outputId": "3ef8294a-84c2-494c-808a-7af6438383b7"
      },
      "source": [
        "generoh, scoreh, algoritmoh, modeloh = criar_model(\"Homem\", df_homem)"
      ],
      "execution_count": null,
      "outputs": [
        {
          "output_type": "stream",
          "text": [
            "Treinando modelo: ExtraTreeClassifier\n",
            "Treinando modelo: RandomForestClassifier\n",
            "ok - done\n"
          ],
          "name": "stdout"
        }
      ]
    },
    {
      "cell_type": "code",
      "metadata": {
        "colab": {
          "base_uri": "https://localhost:8080/"
        },
        "id": "ctY5KPXQVfqH",
        "outputId": "b578ae27-7de3-4cb1-ff6f-1c13e8643303"
      },
      "source": [
        "generom, scorem, algoritmom, modelom = criar_model(\"Mulher\", df_mulher)"
      ],
      "execution_count": null,
      "outputs": [
        {
          "output_type": "stream",
          "text": [
            "Treinando modelo: ExtraTreeClassifier\n",
            "Treinando modelo: RandomForestClassifier\n",
            "ok - done\n"
          ],
          "name": "stdout"
        }
      ]
    },
    {
      "cell_type": "code",
      "metadata": {
        "colab": {
          "base_uri": "https://localhost:8080/"
        },
        "id": "QfjoQiEQo9jH",
        "outputId": "8341937b-fcc5-4b8c-d2c6-ae5ad4f5136a"
      },
      "source": [
        "generoh"
      ],
      "execution_count": null,
      "outputs": [
        {
          "output_type": "execute_result",
          "data": {
            "text/plain": [
              "['Homem', 'Homem']"
            ]
          },
          "metadata": {
            "tags": []
          },
          "execution_count": 106
        }
      ]
    },
    {
      "cell_type": "markdown",
      "metadata": {
        "id": "Gq45AsVYAhZ4"
      },
      "source": [
        "### Gerando um dataframe com os resultados"
      ]
    },
    {
      "cell_type": "code",
      "metadata": {
        "colab": {
          "base_uri": "https://localhost:8080/",
          "height": 173
        },
        "id": "8bq8CT3DwDbS",
        "outputId": "950767aa-3bdb-4cf8-ec25-853aab554caf"
      },
      "source": [
        "data = { 'Genero': [generoh[0], generoh[1],\r\n",
        "                   generom[0], generom[1]],\r\n",
        "\r\n",
        "        'Algoritmo':  [algoritmoh[0], algoritmoh[1],\r\n",
        "                   algoritmom[0], algoritmom[1]],\r\n",
        "        \r\n",
        "        'Modelo':  [modeloh[0], modeloh[1],\r\n",
        "                   modelom[0], modelom[1]],\r\n",
        "\r\n",
        "        'Acurácia': [scoreh[0], scoreh[1],\r\n",
        "                    scorem[0], scorem[1]]}        \r\n",
        "      \r\n",
        "df_scores = pd.DataFrame(data, columns=['Genero','Algoritmo','Modelo', 'Acurácia'])\r\n",
        "df_scores"
      ],
      "execution_count": null,
      "outputs": [
        {
          "output_type": "execute_result",
          "data": {
            "text/html": [
              "<div>\n",
              "<style scoped>\n",
              "    .dataframe tbody tr th:only-of-type {\n",
              "        vertical-align: middle;\n",
              "    }\n",
              "\n",
              "    .dataframe tbody tr th {\n",
              "        vertical-align: top;\n",
              "    }\n",
              "\n",
              "    .dataframe thead th {\n",
              "        text-align: right;\n",
              "    }\n",
              "</style>\n",
              "<table border=\"1\" class=\"dataframe\">\n",
              "  <thead>\n",
              "    <tr style=\"text-align: right;\">\n",
              "      <th></th>\n",
              "      <th>Genero</th>\n",
              "      <th>Algoritmo</th>\n",
              "      <th>Modelo</th>\n",
              "      <th>Acurácia</th>\n",
              "    </tr>\n",
              "  </thead>\n",
              "  <tbody>\n",
              "    <tr>\n",
              "      <th>0</th>\n",
              "      <td>Homem</td>\n",
              "      <td>ExtraTreeClassifier</td>\n",
              "      <td>(ExtraTreeClassifier(ccp_alpha=0.0, class_weig...</td>\n",
              "      <td>0.67</td>\n",
              "    </tr>\n",
              "    <tr>\n",
              "      <th>1</th>\n",
              "      <td>Homem</td>\n",
              "      <td>RandomForestClassifier</td>\n",
              "      <td>(DecisionTreeClassifier(ccp_alpha=0.0, class_w...</td>\n",
              "      <td>0.79</td>\n",
              "    </tr>\n",
              "    <tr>\n",
              "      <th>2</th>\n",
              "      <td>Mulher</td>\n",
              "      <td>ExtraTreeClassifier</td>\n",
              "      <td>(ExtraTreeClassifier(ccp_alpha=0.0, class_weig...</td>\n",
              "      <td>0.75</td>\n",
              "    </tr>\n",
              "    <tr>\n",
              "      <th>3</th>\n",
              "      <td>Mulher</td>\n",
              "      <td>RandomForestClassifier</td>\n",
              "      <td>(DecisionTreeClassifier(ccp_alpha=0.0, class_w...</td>\n",
              "      <td>0.84</td>\n",
              "    </tr>\n",
              "  </tbody>\n",
              "</table>\n",
              "</div>"
            ],
            "text/plain": [
              "   Genero               Algoritmo  \\\n",
              "0   Homem     ExtraTreeClassifier   \n",
              "1   Homem  RandomForestClassifier   \n",
              "2  Mulher     ExtraTreeClassifier   \n",
              "3  Mulher  RandomForestClassifier   \n",
              "\n",
              "                                              Modelo  Acurácia  \n",
              "0  (ExtraTreeClassifier(ccp_alpha=0.0, class_weig...      0.67  \n",
              "1  (DecisionTreeClassifier(ccp_alpha=0.0, class_w...      0.79  \n",
              "2  (ExtraTreeClassifier(ccp_alpha=0.0, class_weig...      0.75  \n",
              "3  (DecisionTreeClassifier(ccp_alpha=0.0, class_w...      0.84  "
            ]
          },
          "metadata": {
            "tags": []
          },
          "execution_count": 107
        }
      ]
    },
    {
      "cell_type": "markdown",
      "metadata": {
        "id": "CZEAgUm5R8-s"
      },
      "source": [
        "### Filtrando o modelo com maior acurácia"
      ]
    },
    {
      "cell_type": "code",
      "metadata": {
        "id": "T4gq55oPIVBJ"
      },
      "source": [
        "score_homem = df_scores.loc[df_scores.Genero == 'Homem']\r\n",
        "max_acuracia_homem = score_homem.loc[score_homem.Acurácia == score_homem.Acurácia.max()].reset_index()\r\n",
        "melhor_modelo_homem = max_acuracia_homem.Modelo[0]\r\n",
        "maior_acuracia_homem = max_acuracia_homem.Acurácia[0]\r\n",
        "melhor_algoritmo_homem = max_acuracia_homem.Algoritmo[0]\r\n",
        "#\r\n",
        "score_mulher = df_scores.loc[df_scores.Genero == 'Mulher']\r\n",
        "max_acuracia_mulher = score_mulher.loc[score_mulher.Acurácia == score_mulher.Acurácia.max()].reset_index()\r\n",
        "melhor_modelo_mulher = max_acuracia_mulher.Modelo[0]\r\n",
        "maior_acuracia_mulher = max_acuracia_mulher.Acurácia[0]\r\n",
        "melhor_algoritmo_mulher = max_acuracia_mulher.Algoritmo[0]\r\n"
      ],
      "execution_count": null,
      "outputs": []
    },
    {
      "cell_type": "markdown",
      "metadata": {
        "id": "p_OC8FNDkVyR"
      },
      "source": [
        "### Selecionando as variáveis mais importantes\n",
        "#### O Modelo com maior acurácia foi utilizado.\n"
      ]
    },
    {
      "cell_type": "code",
      "metadata": {
        "colab": {
          "base_uri": "https://localhost:8080/"
        },
        "id": "065-8t_g_Jwi",
        "outputId": "6df1eca4-0405-430a-c0a7-3ba4e47dfdef"
      },
      "source": [
        "print(\"Dataset: df_homem\\nModelo:\", melhor_algoritmo_homem,\r\n",
        "      \"\\nAcurácia de:\", np.round(maior_acuracia_homem,2))"
      ],
      "execution_count": null,
      "outputs": [
        {
          "output_type": "stream",
          "text": [
            "Dataset: df_homem\n",
            "Modelo: RandomForestClassifier \n",
            "Acurácia de: 0.79\n"
          ],
          "name": "stdout"
        }
      ]
    },
    {
      "cell_type": "code",
      "metadata": {
        "colab": {
          "base_uri": "https://localhost:8080/"
        },
        "id": "_GQl_UkIT2Y9",
        "outputId": "a92fe7a3-0045-4b5f-f0dd-9d99efb9e5d3"
      },
      "source": [
        "print(\"Dataset: df_mulher\\nModelo:\", melhor_algoritmo_mulher,\r\n",
        "      \"\\nAcurácia de:\", np.round(maior_acuracia_mulher,2))"
      ],
      "execution_count": null,
      "outputs": [
        {
          "output_type": "stream",
          "text": [
            "Dataset: df_mulher\n",
            "Modelo: RandomForestClassifier \n",
            "Acurácia de: 0.84\n"
          ],
          "name": "stdout"
        }
      ]
    },
    {
      "cell_type": "code",
      "metadata": {
        "id": "AnWkLyuh_W8N"
      },
      "source": [
        ""
      ],
      "execution_count": null,
      "outputs": []
    },
    {
      "cell_type": "markdown",
      "metadata": {
        "id": "v0k7q0L9JULu"
      },
      "source": [
        "### Analisando a importância das features no datasets\r\n",
        "#### - df_homem\r\n",
        "#### - df_mulher\r\n",
        "#### Conjunto formado por pessoas entre 16 e 35 anos\r\n",
        "#### Foi escolhido pois apresentou mais participantes na pesquisa."
      ]
    },
    {
      "cell_type": "markdown",
      "metadata": {
        "id": "G9C9AZkAa9My"
      },
      "source": [
        "### *Homem*"
      ]
    },
    {
      "cell_type": "code",
      "metadata": {
        "colab": {
          "base_uri": "https://localhost:8080/"
        },
        "id": "57CKm5FWDRJq",
        "outputId": "59acdae3-ae5f-41ef-f9ac-e91f52371550"
      },
      "source": [
        "print(\"Importância das Features no dataset -> df_homem\",\"\\n\\nAplicando o modelo:\",melhor_algoritmo_homem)"
      ],
      "execution_count": null,
      "outputs": [
        {
          "output_type": "stream",
          "text": [
            "Importância das Features no dataset -> df_homem \n",
            "\n",
            "Aplicando o modelo: RandomForestClassifier\n"
          ],
          "name": "stdout"
        }
      ]
    },
    {
      "cell_type": "code",
      "metadata": {
        "colab": {
          "base_uri": "https://localhost:8080/",
          "height": 318
        },
        "id": "xAvQPyNGBzbV",
        "outputId": "680f9b32-b369-4583-cf17-bbab75e5add5"
      },
      "source": [
        "features,scores = feature_importance(df_homem,melhor_modelo_homem)"
      ],
      "execution_count": null,
      "outputs": [
        {
          "output_type": "display_data",
          "data": {
            "image/png": "[encoded data removed]",
            "text/plain": [
              "<Figure size 432x288 with 1 Axes>"
            ]
          },
          "metadata": {
            "tags": [],
            "needs_background": "light"
          }
        }
      ]
    },
    {
      "cell_type": "markdown",
      "metadata": {
        "id": "j-fNqdVFCfB3"
      },
      "source": [
        "### Duas Features se destacam com maior importância no dataset\n",
        "### SBP e DBP\n"
      ]
    },
    {
      "cell_type": "code",
      "metadata": {
        "colab": {
          "base_uri": "https://localhost:8080/",
          "height": 365
        },
        "id": "jcP3qFF9Okld",
        "outputId": "6cde7ed7-c634-4232-fc24-133a2abf1cee"
      },
      "source": [
        "show_features('homem')"
      ],
      "execution_count": null,
      "outputs": [
        {
          "output_type": "stream",
          "text": [
            "\n",
            "Importância das Features para:\n",
            "\t HOMEM \n",
            "\n"
          ],
          "name": "stdout"
        },
        {
          "output_type": "execute_result",
          "data": {
            "text/html": [
              "<div>\n",
              "<style scoped>\n",
              "    .dataframe tbody tr th:only-of-type {\n",
              "        vertical-align: middle;\n",
              "    }\n",
              "\n",
              "    .dataframe tbody tr th {\n",
              "        vertical-align: top;\n",
              "    }\n",
              "\n",
              "    .dataframe thead th {\n",
              "        text-align: right;\n",
              "    }\n",
              "</style>\n",
              "<table border=\"1\" class=\"dataframe\">\n",
              "  <thead>\n",
              "    <tr style=\"text-align: right;\">\n",
              "      <th></th>\n",
              "      <th>Feature</th>\n",
              "      <th>Importancia</th>\n",
              "    </tr>\n",
              "  </thead>\n",
              "  <tbody>\n",
              "    <tr>\n",
              "      <th>0</th>\n",
              "      <td>idade</td>\n",
              "      <td>0.06</td>\n",
              "    </tr>\n",
              "    <tr>\n",
              "      <th>1</th>\n",
              "      <td>obeso</td>\n",
              "      <td>0.01</td>\n",
              "    </tr>\n",
              "    <tr>\n",
              "      <th>2</th>\n",
              "      <td>bmi</td>\n",
              "      <td>0.10</td>\n",
              "    </tr>\n",
              "    <tr>\n",
              "      <th>3</th>\n",
              "      <td>wc</td>\n",
              "      <td>0.07</td>\n",
              "    </tr>\n",
              "    <tr>\n",
              "      <th>4</th>\n",
              "      <td>hc</td>\n",
              "      <td>0.07</td>\n",
              "    </tr>\n",
              "    <tr>\n",
              "      <th>5</th>\n",
              "      <td>whr</td>\n",
              "      <td>0.07</td>\n",
              "    </tr>\n",
              "    <tr>\n",
              "      <th>6</th>\n",
              "      <td>SBP</td>\n",
              "      <td>0.32</td>\n",
              "    </tr>\n",
              "    <tr>\n",
              "      <th>7</th>\n",
              "      <td>DBP</td>\n",
              "      <td>0.30</td>\n",
              "    </tr>\n",
              "  </tbody>\n",
              "</table>\n",
              "</div>"
            ],
            "text/plain": [
              "  Feature  Importancia\n",
              "0   idade         0.06\n",
              "1   obeso         0.01\n",
              "2     bmi         0.10\n",
              "3      wc         0.07\n",
              "4      hc         0.07\n",
              "5     whr         0.07\n",
              "6     SBP         0.32\n",
              "7     DBP         0.30"
            ]
          },
          "metadata": {
            "tags": []
          },
          "execution_count": 54
        }
      ]
    },
    {
      "cell_type": "markdown",
      "metadata": {
        "id": "WKfp9xzprpVJ"
      },
      "source": [
        "### Com 4 Features temos quase 80% de importância "
      ]
    },
    {
      "cell_type": "code",
      "metadata": {
        "colab": {
          "base_uri": "https://localhost:8080/",
          "height": 302
        },
        "id": "I-ffyriYIk3r",
        "outputId": "82215014-4df2-4d28-b47c-783eb60dd654"
      },
      "source": [
        "sum_importances = sum_and_plot_importances(df_homem,melhor_modelo_homem)\n",
        "plt.title('Soma da importância de cada Feature\\nDataset - df_homem', fontsize=14, fontweight='bold');"
      ],
      "execution_count": null,
      "outputs": [
        {
          "output_type": "display_data",
          "data": {
            "image/png": "[encoded data removed]",
            "text/plain": [
              "<Figure size 432x288 with 1 Axes>"
            ]
          },
          "metadata": {
            "tags": [],
            "needs_background": "light"
          }
        }
      ]
    },
    {
      "cell_type": "markdown",
      "metadata": {
        "id": "WzwCNV8QbLgi"
      },
      "source": [
        "### *Mulher*"
      ]
    },
    {
      "cell_type": "code",
      "metadata": {
        "colab": {
          "base_uri": "https://localhost:8080/"
        },
        "id": "i187PkwvbKi2",
        "outputId": "b349bf14-1237-4dd0-b459-d6958adaee2b"
      },
      "source": [
        "print(\"Importância das Features no dataset -> df_mulher\",\"\\n\\nAplicando o modelo:\",melhor_algoritmo_mulher)"
      ],
      "execution_count": null,
      "outputs": [
        {
          "output_type": "stream",
          "text": [
            "Importância das Features no dataset -> df_mulher \n",
            "\n",
            "Aplicando o modelo: RandomForestClassifier\n"
          ],
          "name": "stdout"
        }
      ]
    },
    {
      "cell_type": "code",
      "metadata": {
        "colab": {
          "base_uri": "https://localhost:8080/",
          "height": 318
        },
        "id": "xEHhJe-Sb2KJ",
        "outputId": "837378bd-0378-4d2d-b337-c0d17bff4e45"
      },
      "source": [
        "features,scores = feature_importance(df_mulher,melhor_modelo_mulher)"
      ],
      "execution_count": null,
      "outputs": [
        {
          "output_type": "display_data",
          "data": {
            "image/png": "[encoded data removed]",
            "text/plain": [
              "<Figure size 432x288 with 1 Axes>"
            ]
          },
          "metadata": {
            "tags": [],
            "needs_background": "light"
          }
        }
      ]
    },
    {
      "cell_type": "markdown",
      "metadata": {
        "id": "BylcMnFccVH7"
      },
      "source": [
        "Features com maior importância no dataset:\r\n",
        "SBP e DBP"
      ]
    },
    {
      "cell_type": "code",
      "metadata": {
        "colab": {
          "base_uri": "https://localhost:8080/",
          "height": 365
        },
        "id": "1Ke564XUcLBW",
        "outputId": "20eb5849-877f-45a9-d318-022f5822f17c"
      },
      "source": [
        "show_features('mulher')"
      ],
      "execution_count": null,
      "outputs": [
        {
          "output_type": "stream",
          "text": [
            "\n",
            "Importância das Features para:\n",
            "\t MULHER \n",
            "\n"
          ],
          "name": "stdout"
        },
        {
          "output_type": "execute_result",
          "data": {
            "text/html": [
              "<div>\n",
              "<style scoped>\n",
              "    .dataframe tbody tr th:only-of-type {\n",
              "        vertical-align: middle;\n",
              "    }\n",
              "\n",
              "    .dataframe tbody tr th {\n",
              "        vertical-align: top;\n",
              "    }\n",
              "\n",
              "    .dataframe thead th {\n",
              "        text-align: right;\n",
              "    }\n",
              "</style>\n",
              "<table border=\"1\" class=\"dataframe\">\n",
              "  <thead>\n",
              "    <tr style=\"text-align: right;\">\n",
              "      <th></th>\n",
              "      <th>Feature</th>\n",
              "      <th>Importancia</th>\n",
              "    </tr>\n",
              "  </thead>\n",
              "  <tbody>\n",
              "    <tr>\n",
              "      <th>0</th>\n",
              "      <td>idade</td>\n",
              "      <td>0.05</td>\n",
              "    </tr>\n",
              "    <tr>\n",
              "      <th>1</th>\n",
              "      <td>obeso</td>\n",
              "      <td>0.00</td>\n",
              "    </tr>\n",
              "    <tr>\n",
              "      <th>2</th>\n",
              "      <td>bmi</td>\n",
              "      <td>0.07</td>\n",
              "    </tr>\n",
              "    <tr>\n",
              "      <th>3</th>\n",
              "      <td>wc</td>\n",
              "      <td>0.05</td>\n",
              "    </tr>\n",
              "    <tr>\n",
              "      <th>4</th>\n",
              "      <td>hc</td>\n",
              "      <td>0.06</td>\n",
              "    </tr>\n",
              "    <tr>\n",
              "      <th>5</th>\n",
              "      <td>whr</td>\n",
              "      <td>0.05</td>\n",
              "    </tr>\n",
              "    <tr>\n",
              "      <th>6</th>\n",
              "      <td>SBP</td>\n",
              "      <td>0.40</td>\n",
              "    </tr>\n",
              "    <tr>\n",
              "      <th>7</th>\n",
              "      <td>DBP</td>\n",
              "      <td>0.30</td>\n",
              "    </tr>\n",
              "  </tbody>\n",
              "</table>\n",
              "</div>"
            ],
            "text/plain": [
              "  Feature  Importancia\n",
              "0   idade         0.05\n",
              "1   obeso         0.00\n",
              "2     bmi         0.07\n",
              "3      wc         0.05\n",
              "4      hc         0.06\n",
              "5     whr         0.05\n",
              "6     SBP         0.40\n",
              "7     DBP         0.30"
            ]
          },
          "metadata": {
            "tags": []
          },
          "execution_count": 58
        }
      ]
    },
    {
      "cell_type": "markdown",
      "metadata": {
        "id": "6U5Zk44fd_8N"
      },
      "source": [
        "### Com 4 Features temos uma acurácia acima de 80%"
      ]
    },
    {
      "cell_type": "code",
      "metadata": {
        "colab": {
          "base_uri": "https://localhost:8080/",
          "height": 302
        },
        "id": "R27XNPHTdq9Z",
        "outputId": "053eff40-84fe-40cb-ce92-ef5d70b659c5"
      },
      "source": [
        "sum_importances = sum_and_plot_importances(df_mulher,melhor_modelo_mulher)\r\n",
        "plt.title('Soma da importância de cada Feature\\nDataset - df_mulher', fontsize=14, fontweight='bold');"
      ],
      "execution_count": null,
      "outputs": [
        {
          "output_type": "display_data",
          "data": {
            "image/png": "[encoded data removed]",
            "text/plain": [
              "<Figure size 432x288 with 1 Axes>"
            ]
          },
          "metadata": {
            "tags": [],
            "needs_background": "light"
          }
        }
      ]
    },
    {
      "cell_type": "markdown",
      "metadata": {
        "id": "W1mGDE0j5KPo"
      },
      "source": [
        "### Outras features poderiam ser incluídas para melhorar a acurácia do modelo.\r\n",
        "### Por exemplo incluir:\r\n",
        "#### - se a pessoa fuma, \r\n",
        "#### - se tem o hábito de beber, \r\n",
        "#### - se possui histórico familiar,\r\n",
        "#### - stress,\r\n",
        "#### - ansiedade,\r\n",
        "#### - horas de sono"
      ]
    },
    {
      "cell_type": "markdown",
      "metadata": {
        "id": "mhvDkUM1bh-C"
      },
      "source": [
        "### O balanceamento das classes no dataset de cada conjunto pode aumentar a\r\n",
        "### acurácia do modelo treinado."
      ]
    }
  ]
}